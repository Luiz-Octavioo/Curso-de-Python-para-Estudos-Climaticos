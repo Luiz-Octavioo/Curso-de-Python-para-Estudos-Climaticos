{
 "cells": [
  {
   "cell_type": "markdown",
   "id": "9f7cd972",
   "metadata": {},
   "source": [
    "# O que é Python, para que serve e por que aprender?\n",
    "\n",
    "<center><img alt=\"Python\" \n",
    "     src='https://blog.fazedores.com/wp-content/uploads/2014/12/python-logo-master-v3-TM.png' width='75%' height='25%'></center>\n",
    "     \n",
    "1. **Python** é uma linguagem de **programação de alto nível** — ou **High Level Language** —, dinâmica, interpretada, modular, multiplataforma e orientada a objetos — uma forma específica de organizar softwares onde, a grosso modo, os procedimentos estão submetidos às classes, o que possibilita maior controle e estabilidade de códigos para projetos de grandes proporções.\n",
    "\n",
    "\n",
    "2. Por ser uma linguagem de sintaxe relativamente simples e de fácil compreensão, ganhou popularidade entre profissionais da indústria tecnológica que não são especificamente programadores, como engenheiros, matemáticos, cientistas de dados, pesquisadores e outros.\n",
    "\n",
    "\n",
    "3. Um de seus maiores atrativos é possuir um grande número de bibliotecas, nativas e de terceiros, tornando-a muito difundida e útil em uma grande variedade de setores dentro de desenvolvimento web, e também em áreas como análise de dados, machine learning e IA.\n",
    "\n",
    "O Python é uma linguagem de programação orientada à objetos, o que significa que ela possui recursos que dão suporte à programação orientada à objetos (POO). ... Na programação orientada à objetos o foco é na criação de objetos que contem tanto os dados quanto as funcionalidades."
   ]
  },
  {
   "cell_type": "markdown",
   "id": "cf6b0a7f-05f9-4ede-9463-14858e62892d",
   "metadata": {},
   "source": [
    "<center><img src=\"Hello_World.png\" width='75%' height='25%'></center>"
   ]
  },
  {
   "cell_type": "markdown",
   "id": "ed6ebee5-35f8-4525-8841-69e1397ec51f",
   "metadata": {},
   "source": [
    "**A Maldição do Hello World**"
   ]
  },
  {
   "cell_type": "markdown",
   "id": "8aa6ebf1-c5d2-4b4c-9aa5-8fae329b0727",
   "metadata": {},
   "source": [
    "Reza a lenda que que o programador que não fizer no seu primeiro código com  as instruções que escreva na tela o simples Hello World ou Olá Mundo.. Não conseguirá e entender ou mesmo não será um bom profissional na área da programação….\n",
    "\n",
    "Na minha opinião foi somente uma Lenda Urbana criada no mundo da informática por quem não tem o que fazer…. Mas por via das duvidas…. Melhor não duvidar"
   ]
  },
  {
   "cell_type": "code",
   "execution_count": 1,
   "id": "55bf2662-acb2-4f0c-bac7-28ac3ac458e0",
   "metadata": {},
   "outputs": [
    {
     "name": "stdout",
     "output_type": "stream",
     "text": [
      "Olá Mundo !!!\n"
     ]
    }
   ],
   "source": [
    "print('Olá Mundo !!!')"
   ]
  },
  {
   "cell_type": "markdown",
   "id": "feaab27c",
   "metadata": {
    "tags": []
   },
   "source": [
    "## Operadores Matemáticos"
   ]
  },
  {
   "cell_type": "markdown",
   "id": "63b3b7d6",
   "metadata": {},
   "source": [
    "Os operadores aritméticos do Python são:\n",
    "\n",
    "* `+` Adição\n",
    "* `-` Subtração\n",
    "* `*` Multiplicação\n",
    "* `/` Divisão\n",
    "* `**` Exponenciação\n",
    "* `//` Divisão (resultado inteiro)\n",
    "\n",
    "Abaixo, podemos ver exemplos de uso desses operadores."
   ]
  },
  {
   "cell_type": "code",
   "execution_count": 2,
   "id": "ce29a9cf",
   "metadata": {},
   "outputs": [
    {
     "data": {
      "text/plain": [
       "115"
      ]
     },
     "execution_count": 2,
     "metadata": {},
     "output_type": "execute_result"
    }
   ],
   "source": [
    "# Adição\n",
    "45 + 70"
   ]
  },
  {
   "cell_type": "code",
   "execution_count": 3,
   "id": "0e1ca173",
   "metadata": {},
   "outputs": [
    {
     "data": {
      "text/plain": [
       "98"
      ]
     },
     "execution_count": 3,
     "metadata": {},
     "output_type": "execute_result"
    }
   ],
   "source": [
    "# Subtração\n",
    "526-428"
   ]
  },
  {
   "cell_type": "code",
   "execution_count": 4,
   "id": "76ec10ab",
   "metadata": {},
   "outputs": [
    {
     "data": {
      "text/plain": [
       "81"
      ]
     },
     "execution_count": 4,
     "metadata": {},
     "output_type": "execute_result"
    }
   ],
   "source": [
    "# Multiplicação\n",
    "9*9"
   ]
  },
  {
   "cell_type": "code",
   "execution_count": 5,
   "id": "86c5c628",
   "metadata": {},
   "outputs": [
    {
     "data": {
      "text/plain": [
       "9.0"
      ]
     },
     "execution_count": 5,
     "metadata": {},
     "output_type": "execute_result"
    }
   ],
   "source": [
    "#Divisão\n",
    "27/3"
   ]
  },
  {
   "cell_type": "code",
   "execution_count": 6,
   "id": "b53db11b",
   "metadata": {},
   "outputs": [
    {
     "data": {
      "text/plain": [
       "68"
      ]
     },
     "execution_count": 6,
     "metadata": {},
     "output_type": "execute_result"
    }
   ],
   "source": [
    "# Divisão (resultado inteiro)\n",
    "137//2"
   ]
  },
  {
   "cell_type": "code",
   "execution_count": 7,
   "id": "4fac0787",
   "metadata": {},
   "outputs": [
    {
     "data": {
      "text/plain": [
       "64"
      ]
     },
     "execution_count": 7,
     "metadata": {},
     "output_type": "execute_result"
    }
   ],
   "source": [
    "# Exponenciação\n",
    "8**2"
   ]
  },
  {
   "cell_type": "code",
   "execution_count": 8,
   "id": "9aa6707d-eb39-4041-b845-430186df3cd4",
   "metadata": {},
   "outputs": [
    {
     "data": {
      "text/plain": [
       "1"
      ]
     },
     "execution_count": 8,
     "metadata": {},
     "output_type": "execute_result"
    }
   ],
   "source": [
    "# Resto da Divisao\n",
    "5%2"
   ]
  },
  {
   "cell_type": "markdown",
   "id": "625923ff-9504-4ef2-bae1-ac76922985d1",
   "metadata": {},
   "source": [
    "### Declarando variaveis"
   ]
  },
  {
   "cell_type": "markdown",
   "id": "ebf4efe8-6653-4b9a-bd1c-c0e6fcbd3191",
   "metadata": {},
   "source": [
    "Criando variáveis em Python e atribuindo valores\n",
    "Para criar uma variável em Python, tudo o que você precisa fazer é especificar o nome da variável e, em seguida, atribuir um valor a ela."
   ]
  },
  {
   "cell_type": "code",
   "execution_count": 9,
   "id": "aea9bb49-0a77-4281-8807-93a721408026",
   "metadata": {},
   "outputs": [
    {
     "name": "stdout",
     "output_type": "stream",
     "text": [
      "15\n",
      "20\n"
     ]
    }
   ],
   "source": [
    "Carlos = 15\n",
    "Carlos\n",
    "\n",
    "carlos = 20\n",
    "\n",
    "print(Carlos)\n",
    "print(carlos)"
   ]
  },
  {
   "cell_type": "code",
   "execution_count": 10,
   "id": "c9f1d44f-57b0-438c-b19b-e3ce118fbb4f",
   "metadata": {},
   "outputs": [],
   "source": [
    "nome_da_variavel = 'valor da variável'"
   ]
  },
  {
   "cell_type": "markdown",
   "id": "19cf8308-fb8f-4cc3-8bfc-c3ff6970bd50",
   "metadata": {},
   "source": [
    "O Python usa o sinal de igual `=` para atribuir valores a variáveis. Assim sendo, não há necessidade de declarar uma variável antecipadamente. Atribuir um valor a uma variável em si declara e inicializa a variável com esse valor. Não há como declarar uma variável lhe atribuir um valor inicial."
   ]
  },
  {
   "cell_type": "markdown",
   "id": "b4ab4e6f-d827-4418-9e24-fcd7a4f67b20",
   "metadata": {},
   "source": [
    "**! Atençao.**\n",
    "\n",
    "O Python possui algumas palavras reservadas, portanto, não utilize essas palavras para declarar variaveis\n",
    "\n",
    "As Palavras são:\n",
    "\n",
    "**``False, None, True, and, as, assert, async, \n",
    "await, break, class, continue, def, del, elif, \n",
    "else, except, finally, for, from, global, \n",
    "if, import, in, is, lambda, \n",
    "nonlocal, not, or, pass, raise, \n",
    "return, try, while, with, yield``**"
   ]
  },
  {
   "cell_type": "code",
   "execution_count": 11,
   "id": "48aebfaa-0dbb-4c6c-b5ea-1700c08df042",
   "metadata": {},
   "outputs": [
    {
     "ename": "SyntaxError",
     "evalue": "can't assign to keyword (<ipython-input-11-5e0d552c487d>, line 1)",
     "output_type": "error",
     "traceback": [
      "\u001b[1;36m  File \u001b[1;32m\"<ipython-input-11-5e0d552c487d>\"\u001b[1;36m, line \u001b[1;32m1\u001b[0m\n\u001b[1;33m    None = a\u001b[0m\n\u001b[1;37m            ^\u001b[0m\n\u001b[1;31mSyntaxError\u001b[0m\u001b[1;31m:\u001b[0m can't assign to keyword\n"
     ]
    }
   ],
   "source": [
    "None = a"
   ]
  },
  {
   "cell_type": "code",
   "execution_count": 12,
   "id": "6bc82da0-ec9e-4af3-a160-bccc2e72e3a4",
   "metadata": {},
   "outputs": [
    {
     "name": "stdout",
     "output_type": "stream",
     "text": [
      "28\n"
     ]
    }
   ],
   "source": [
    "# Inteiros\n",
    "a = 28\n",
    "print(a)"
   ]
  },
  {
   "cell_type": "code",
   "execution_count": 13,
   "id": "aca889d8-15fc-47ac-aa88-a962f3102bd6",
   "metadata": {},
   "outputs": [
    {
     "name": "stdout",
     "output_type": "stream",
     "text": [
      "3.1415\n"
     ]
    }
   ],
   "source": [
    "# Ponto flutuante\n",
    "pi = 3.1415\n",
    "print(pi)"
   ]
  },
  {
   "cell_type": "code",
   "execution_count": 14,
   "id": "0e397022-35b2-428b-a2a2-c3ef486fa679",
   "metadata": {},
   "outputs": [
    {
     "name": "stdout",
     "output_type": "stream",
     "text": [
      "Curso de Python\n"
     ]
    }
   ],
   "source": [
    "# String\n",
    "name = 'Curso de Python'\n",
    "print(name)"
   ]
  },
  {
   "cell_type": "code",
   "execution_count": 15,
   "id": "c09be154-d43f-4dd0-a915-35d3bb47f9f1",
   "metadata": {},
   "outputs": [
    {
     "name": "stdout",
     "output_type": "stream",
     "text": [
      "False\n"
     ]
    }
   ],
   "source": [
    "# Boolean\n",
    "b = False\n",
    "print(b)"
   ]
  },
  {
   "cell_type": "code",
   "execution_count": 16,
   "id": "be7758da-ff95-40ed-a6e5-1fdb1e3688ee",
   "metadata": {},
   "outputs": [
    {
     "name": "stdout",
     "output_type": "stream",
     "text": [
      "None\n"
     ]
    }
   ],
   "source": [
    "# Valor vazio ou dado do tipo nulo\n",
    "x = None\n",
    "print(x)"
   ]
  },
  {
   "cell_type": "code",
   "execution_count": 17,
   "id": "8ca6bd21-dc61-4c13-844c-bfd3a007cf98",
   "metadata": {},
   "outputs": [
    {
     "ename": "SyntaxError",
     "evalue": "can't assign to literal (<ipython-input-17-6d35c584c791>, line 2)",
     "output_type": "error",
     "traceback": [
      "\u001b[1;36m  File \u001b[1;32m\"<ipython-input-17-6d35c584c791>\"\u001b[1;36m, line \u001b[1;32m2\u001b[0m\n\u001b[1;33m    0 = x\u001b[0m\n\u001b[1;37m         ^\u001b[0m\n\u001b[1;31mSyntaxError\u001b[0m\u001b[1;31m:\u001b[0m can't assign to literal\n"
     ]
    }
   ],
   "source": [
    "# Variável declarada de forma errada\n",
    "0 = x\n",
    "# Saída: SyntaxError: can't assign to literal"
   ]
  },
  {
   "cell_type": "code",
   "execution_count": 18,
   "id": "fc5fc74b-ea73-4df7-bee8-2edc563dd894",
   "metadata": {},
   "outputs": [
    {
     "data": {
      "text/plain": [
       "15.0"
      ]
     },
     "execution_count": 18,
     "metadata": {},
     "output_type": "execute_result"
    }
   ],
   "source": [
    "num = float(15)\n",
    "num"
   ]
  },
  {
   "cell_type": "code",
   "execution_count": 19,
   "id": "3ef7544d-1fc2-4dad-837e-c0911e1e02e3",
   "metadata": {},
   "outputs": [
    {
     "data": {
      "text/plain": [
       "float"
      ]
     },
     "execution_count": 19,
     "metadata": {},
     "output_type": "execute_result"
    }
   ],
   "source": [
    "type(num)"
   ]
  },
  {
   "cell_type": "markdown",
   "id": "dab62b3f",
   "metadata": {
    "tags": []
   },
   "source": [
    "## Strings"
   ]
  },
  {
   "cell_type": "markdown",
   "id": "43bfa9ca-bd5a-4679-b7b5-687d5cf3930d",
   "metadata": {},
   "source": [
    "<center> <img src=https://techvidvan.com/tutorials/wp-content/uploads/sites/2/2019/12/python-strings.jpg></center>"
   ]
  },
  {
   "cell_type": "markdown",
   "id": "09548de9",
   "metadata": {},
   "source": [
    "O tipo **String** é usado principalmente para gravar informações de texto, como o nome de uma pessoa ou uma marca de roupas, por exemplo. Nele temos uma sequência de caracteres que formam uma string. O Python permite formar strings com um par de aspas simples ou duplas."
   ]
  },
  {
   "cell_type": "code",
   "execution_count": 20,
   "id": "5f082408",
   "metadata": {},
   "outputs": [
    {
     "name": "stdout",
     "output_type": "stream",
     "text": [
      "Hello World\n"
     ]
    }
   ],
   "source": [
    "print('Hello World')"
   ]
  },
  {
   "cell_type": "markdown",
   "id": "9d30fe42",
   "metadata": {},
   "source": [
    "Se verficarmos o tipo deste dado, ele retornará o valor **`str`**\n",
    "\n",
    "Neste caso utilizaremos o comando **`type`** para verficar o tipo do dado"
   ]
  },
  {
   "cell_type": "code",
   "execution_count": 21,
   "id": "a0c46efa",
   "metadata": {},
   "outputs": [
    {
     "name": "stdout",
     "output_type": "stream",
     "text": [
      "<class 'str'>\n"
     ]
    }
   ],
   "source": [
    "print(type('Texto'))"
   ]
  },
  {
   "cell_type": "markdown",
   "id": "1b98a721",
   "metadata": {},
   "source": [
    "As **strings** são sequências de caracteres, de forma que podemos acessar um caractere em uma dada posição utilizando um índice. No exemplo a seguir, caso se queira obter o caractere na primeira posição da string nome, basta acessar o índice 0 da variável. "
   ]
  },
  {
   "cell_type": "code",
   "execution_count": 22,
   "id": "4abe5280",
   "metadata": {},
   "outputs": [
    {
     "data": {
      "text/plain": [
       "'L'"
      ]
     },
     "execution_count": 22,
     "metadata": {},
     "output_type": "execute_result"
    }
   ],
   "source": [
    "nome = 'Luiz Octavio'\n",
    "nome[0]"
   ]
  },
  {
   "cell_type": "markdown",
   "id": "196906be",
   "metadata": {},
   "source": [
    "A exemplo disso, o inverso também pode ser feito.\n",
    "\n",
    "Acessando o ultimo caractere selecionando o índice -1"
   ]
  },
  {
   "cell_type": "code",
   "execution_count": 23,
   "id": "23624c99",
   "metadata": {},
   "outputs": [
    {
     "data": {
      "text/plain": [
       "'o'"
      ]
     },
     "execution_count": 23,
     "metadata": {},
     "output_type": "execute_result"
    }
   ],
   "source": [
    "nome[-1]"
   ]
  },
  {
   "cell_type": "code",
   "execution_count": 24,
   "id": "4afdbba2-f88c-4a99-a9b0-96a84ec227eb",
   "metadata": {},
   "outputs": [
    {
     "data": {
      "text/plain": [
       "'oivatcO ziuL'"
      ]
     },
     "execution_count": 24,
     "metadata": {},
     "output_type": "execute_result"
    }
   ],
   "source": [
    "nome[::-1]"
   ]
  },
  {
   "cell_type": "markdown",
   "id": "7cc10672-b114-4750-b597-b993c320c1a4",
   "metadata": {
    "tags": []
   },
   "source": [
    "#### Verficando métodos de uma classe em Python"
   ]
  },
  {
   "cell_type": "markdown",
   "id": "803f35dc-4287-4d58-ac6f-7dec351d3174",
   "metadata": {},
   "source": [
    "Para listar os métodos disponiveis de uma classe basta utilizarmos a função interna do python **`dir()`**\n",
    "\n",
    "**Exemplo:**\n",
    "\n",
    "Listar os métodos de uma string"
   ]
  },
  {
   "cell_type": "code",
   "execution_count": 25,
   "id": "d2dace90-0c59-4be8-96a5-d9f145ca9191",
   "metadata": {},
   "outputs": [],
   "source": [
    "# dir(str)"
   ]
  },
  {
   "cell_type": "markdown",
   "id": "65700955",
   "metadata": {},
   "source": [
    "Método **`split` `join` `capitalize` `lower` `upper`**"
   ]
  },
  {
   "cell_type": "markdown",
   "id": "19b80f75",
   "metadata": {},
   "source": [
    "O método **`split`** serve para separar strings por um determinado padrão (o usuário seleciona) em uma lista\n",
    "\n",
    "**Exemplo:**"
   ]
  },
  {
   "cell_type": "code",
   "execution_count": 26,
   "id": "df608ab9",
   "metadata": {},
   "outputs": [
    {
     "data": {
      "text/plain": [
       "['Grupo', 'de', 'Pesquisa', 'em', 'Interação', 'Biosfera', 'Atmosfera']"
      ]
     },
     "execution_count": 26,
     "metadata": {},
     "output_type": "execute_result"
    }
   ],
   "source": [
    "nome = 'Grupo de Pesquisa em Interação Biosfera Atmosfera'\n",
    "lista_strings = nome.split(sep=' ')\n",
    "\n",
    "# Imprimir o resultado do split\n",
    "lista_strings"
   ]
  },
  {
   "cell_type": "markdown",
   "id": "8cea70d4-b20f-4952-bf3b-302dd14d74df",
   "metadata": {},
   "source": [
    "O método **`join`** serve para unir strings"
   ]
  },
  {
   "cell_type": "code",
   "execution_count": 27,
   "id": "91045dd2-e049-418e-ac81-25e236b15295",
   "metadata": {},
   "outputs": [
    {
     "data": {
      "text/plain": [
       "'Grupo-de-Pesquisa-em-Interação-Biosfera-Atmosfera'"
      ]
     },
     "execution_count": 27,
     "metadata": {},
     "output_type": "execute_result"
    }
   ],
   "source": [
    "'-'.join(lista_strings)"
   ]
  },
  {
   "cell_type": "code",
   "execution_count": 28,
   "id": "aaf27a28-51dd-4e11-a48e-5a91e40cd3b9",
   "metadata": {},
   "outputs": [
    {
     "data": {
      "text/plain": [
       "'Grupo-de-Pesquisa-em-Interação-Biosfera-Atmosfera'"
      ]
     },
     "execution_count": 28,
     "metadata": {},
     "output_type": "execute_result"
    }
   ],
   "source": [
    "'-'.join(lista_strings)"
   ]
  },
  {
   "cell_type": "markdown",
   "id": "54942cb6-9f3b-43b4-a422-d3fffda5b108",
   "metadata": {},
   "source": [
    "O método **`capitalize`** deixa a primeira letra maiuscula de um conjunto de strings"
   ]
  },
  {
   "cell_type": "code",
   "execution_count": 29,
   "id": "5158c2df-92d2-4ca5-9edd-4693dbd08357",
   "metadata": {},
   "outputs": [
    {
     "data": {
      "text/plain": [
       "'Grupo de pesquisa em interação biosfera atmosfera'"
      ]
     },
     "execution_count": 29,
     "metadata": {},
     "output_type": "execute_result"
    }
   ],
   "source": [
    "nome.capitalize()"
   ]
  },
  {
   "cell_type": "markdown",
   "id": "53da3618-2840-48cf-9ffa-31c1c43e5efd",
   "metadata": {},
   "source": [
    "O método **`lower`** converte todas as strings em minusculas"
   ]
  },
  {
   "cell_type": "code",
   "execution_count": 30,
   "id": "49774ac4-6d4e-4686-adf9-d9c5f1b79d9a",
   "metadata": {},
   "outputs": [
    {
     "data": {
      "text/plain": [
       "'grupo de pesquisa em interação biosfera atmosfera'"
      ]
     },
     "execution_count": 30,
     "metadata": {},
     "output_type": "execute_result"
    }
   ],
   "source": [
    "nome.lower()"
   ]
  },
  {
   "cell_type": "markdown",
   "id": "1c364de1-4249-476f-b01c-322368483a96",
   "metadata": {},
   "source": [
    "O método **`upper`** deixa todas as strings em caixa alta"
   ]
  },
  {
   "cell_type": "code",
   "execution_count": 31,
   "id": "0eca9f1e-1458-40b8-85ac-db63f5ba95e6",
   "metadata": {},
   "outputs": [
    {
     "data": {
      "text/plain": [
       "'GRUPO DE PESQUISA EM INTERAÇÃO BIOSFERA ATMOSFERA'"
      ]
     },
     "execution_count": 31,
     "metadata": {},
     "output_type": "execute_result"
    }
   ],
   "source": [
    "nome.upper()"
   ]
  },
  {
   "cell_type": "code",
   "execution_count": 32,
   "id": "455875e6-e14e-433e-92a0-9ffbcde4cbba",
   "metadata": {},
   "outputs": [
    {
     "name": "stdout",
     "output_type": "stream",
     "text": [
      "Grupo de Pesquisa em Interação Biosfera Atmosfera UFMT\n",
      "Grupo de Pesquisa em Interação Biosfera Atmosfera UFMT\n"
     ]
    }
   ],
   "source": [
    "# Concatenar strings\n",
    "a = 'UFMT'\n",
    "palavra = nome + ' ' + a\n",
    "print(palavra)\n",
    "print(nome +' '+ a)"
   ]
  },
  {
   "cell_type": "markdown",
   "id": "90741d1a-2d1d-40b3-8b3a-ab21bb0ee638",
   "metadata": {},
   "source": [
    "### Formatar strings (f-strings)\n",
    "\n",
    "São chamadas de “strings literais formatadas” (formatted string literals), f-strings são strings com a letra f no início e chaves {} para realizar a interpolação de expressões.\n",
    "\n",
    "Basicamente: **``f'{}'``**"
   ]
  },
  {
   "cell_type": "markdown",
   "id": "ffb6e18e-5c2f-4467-9429-1ec5b1fa3802",
   "metadata": {},
   "source": [
    "Exemplos de uso"
   ]
  },
  {
   "cell_type": "code",
   "execution_count": 33,
   "id": "5c9f4f25-b530-460b-8c42-f6522801919a",
   "metadata": {},
   "outputs": [
    {
     "name": "stdout",
     "output_type": "stream",
     "text": [
      "A Temperatura do ar em Cuiabá é de 35\n"
     ]
    }
   ],
   "source": [
    "nome_variavel = 'Temperatura do ar'\n",
    "valor = 35\n",
    "\n",
    "# Uso f-strings\n",
    "print(f'A {nome_variavel} em Cuiabá é de {valor}')\n",
    "# print(f'A {nome_variavel} em Cuiabá é de {valor} %')"
   ]
  },
  {
   "cell_type": "markdown",
   "id": "16655a4c-4c1c-4cb5-8eba-f4f29cf21b80",
   "metadata": {
    "tags": []
   },
   "source": [
    "## Estruturas Condicionais"
   ]
  },
  {
   "cell_type": "markdown",
   "id": "676bc10d-7441-4be9-ab7a-0830c6cc9952",
   "metadata": {},
   "source": [
    "Em Python, assim como na maioria das linguagens de programação, o programa deve ser capaz de tomar decisões com base em valores e resultados gerados durante sua execução, ou seja, deve ser capaz de decidir se determinada instrução deve ou não ser executada de acordo com uma condição. Para atender a esse tipo de situação, podemos utilizar instruções especiais denominadas estruturas condicionais."
   ]
  },
  {
   "cell_type": "markdown",
   "id": "6633ca4f-0c51-4d0b-a4c7-75164cae1bdc",
   "metadata": {},
   "source": [
    "Estrutura de controle condicional **`IF`** em Python.\n",
    "\n"
   ]
  },
  {
   "cell_type": "code",
   "execution_count": 34,
   "id": "8e85a6f5-8a81-43b0-a4fd-a2d9b33a2564",
   "metadata": {},
   "outputs": [
    {
     "name": "stdout",
     "output_type": "stream",
     "text": [
      "Voce é idoso\n"
     ]
    }
   ],
   "source": [
    "idade = 70\n",
    "if idade > 69:\n",
    "    print('Voce é idoso')"
   ]
  },
  {
   "cell_type": "markdown",
   "id": "d0e71fa1-d012-41d5-955c-43dcee92ccae",
   "metadata": {},
   "source": [
    "Exemplo de controle condicional com `IF` `ELIF` em Python"
   ]
  },
  {
   "cell_type": "code",
   "execution_count": 35,
   "id": "d8475e3b-1fd2-443e-af37-4358ed15156f",
   "metadata": {},
   "outputs": [
    {
     "name": "stdout",
     "output_type": "stream",
     "text": [
      "Voce é um adulto!\n"
     ]
    }
   ],
   "source": [
    "idade = 46\n",
    "if idade < 20:\n",
    "    print('Você é jovem!')\n",
    "elif idade > 20:\n",
    "    print('Voce é um adulto!')"
   ]
  },
  {
   "cell_type": "markdown",
   "id": "980a436a-06d0-4d6f-8847-ae6863f109a6",
   "metadata": {},
   "source": [
    "Exemplo de controle condicional com `IF` `ELSE` em Python"
   ]
  },
  {
   "cell_type": "code",
   "execution_count": 36,
   "id": "40272280-f35e-484b-b938-3f6681847f3c",
   "metadata": {},
   "outputs": [
    {
     "name": "stdout",
     "output_type": "stream",
     "text": [
      "Voce é um adulto!\n"
     ]
    }
   ],
   "source": [
    "idade = 46\n",
    "if idade < 20:\n",
    "    print('Voce é jovem')\n",
    "else:\n",
    "    print('Voce é um adulto!')\n",
    "    "
   ]
  },
  {
   "cell_type": "code",
   "execution_count": 37,
   "id": "80d5f8f9-0441-4467-a1fb-dd772129988b",
   "metadata": {},
   "outputs": [
    {
     "name": "stdout",
     "output_type": "stream",
     "text": [
      "Voce é um adulto!\n"
     ]
    }
   ],
   "source": [
    "idade = 46\n",
    "if idade < 20:\n",
    "    print('Você é jovem!')\n",
    "else:\n",
    "    print('Voce é um adulto!')"
   ]
  },
  {
   "cell_type": "markdown",
   "id": "e999da80-c642-4ddc-b7a8-ee84152dfc65",
   "metadata": {},
   "source": [
    "* **Função de entrada no python**  **``input``**\n",
    "\n",
    "Esse é um artifício muito comum em programação, quando precisamos que o usuário passe ao programa algum tipo de dado.\n",
    "\n",
    "Em Python, fazemos isso utilizando a função **``input()``**, que é literalmente ‘entrada’ em inglês. A função **``input``** recebe como parâmetro uma string que será mostrada como auxílio ao usuário, geralmente o informando que tipo de dado o programa está aguardando receber.\n",
    "\n",
    "\n",
    "* **Exemplo:**"
   ]
  },
  {
   "cell_type": "code",
   "execution_count": 39,
   "id": "c1732da1-4ee4-46c3-9b75-fd1e6e539370",
   "metadata": {},
   "outputs": [
    {
     "name": "stdin",
     "output_type": "stream",
     "text": [
      "Qual a sua idade:  25\n"
     ]
    }
   ],
   "source": [
    "x = input('Qual a sua idade: ')"
   ]
  },
  {
   "cell_type": "markdown",
   "id": "825e82c7-df65-45f4-a522-da1ed891106c",
   "metadata": {},
   "source": [
    "Operadores de comparação\n",
    "\n",
    "Um assunto diretamente relacionado às estruturas de condição e repetição são os operadores de comparação. Como o nome sugere, eles são usados para avaliar o valor de duas ou mais expressões/variáveis e compará-las. Na linha 2 do código que vimos anteriormente, por exemplo, comparamos a variável idade com o valor 20, por meio do operador menor que (<)."
   ]
  },
  {
   "cell_type": "markdown",
   "id": "376587af-5c77-4a02-8cac-641ff19ad3a2",
   "metadata": {},
   "source": [
    "**== Igual**\n",
    "\n",
    "**!= Diferente**\n",
    "\n",
    "**> Maior que**\n",
    "\n",
    "**< Menor que**\n",
    "\n",
    "**>= Maior ou igual que**\n",
    "\n",
    "**<= Menor ou igual que**"
   ]
  },
  {
   "cell_type": "markdown",
   "id": "f011803c-0c40-4610-9fbe-93bfed4d75f5",
   "metadata": {},
   "source": [
    "## Estrutura Condicional com booleanos **`or`** **`and`** **`not`**  "
   ]
  },
  {
   "cell_type": "code",
   "execution_count": 40,
   "id": "24613ea4-bf38-4e29-bc4d-67f7f6980acc",
   "metadata": {},
   "outputs": [
    {
     "name": "stdin",
     "output_type": "stream",
     "text": [
      "Voce faz ...? (sim/não):  sim\n"
     ]
    },
    {
     "name": "stdout",
     "output_type": "stream",
     "text": [
      "Resposta positiva: sim\n"
     ]
    }
   ],
   "source": [
    "ans = input('Voce faz ...? (sim/não): ')\n",
    "\n",
    "if ans.lower() == 'sim' or ans.lower() == 's':\n",
    "    print(f'Resposta positiva: {ans}')\n",
    "elif ans.lower() == 'não' or ans.lower() == 'n':\n",
    "    print(f'Resposta negativa: {ans}')"
   ]
  },
  {
   "cell_type": "markdown",
   "id": "93a0c808-3bf8-47e1-b241-ce821749b717",
   "metadata": {},
   "source": [
    "* Podemos avaliar duas ou mais expressões por meio do operador lógico **``and``**. Na prática, para que a condição do if seja verdadeira, é preciso que as duas expressões sejam verdadeiras."
   ]
  },
  {
   "cell_type": "code",
   "execution_count": 41,
   "id": "52b487d2-c7b0-4b09-b002-d88ab1427ad8",
   "metadata": {},
   "outputs": [
    {
     "name": "stdout",
     "output_type": "stream",
     "text": [
      "O valor 4 é menor ou igual a 10 e é um número par.\n"
     ]
    }
   ],
   "source": [
    "a = 4\n",
    "if (a <= 10) and ((a % 2) == 0):\n",
    "    print(\"O valor\", a, \"é menor ou igual a 10 e é um número par.\")\n",
    "elif (a > 10) and ((a % 2) == 1):\n",
    "    print(\"O valor\", a, 'é maior que 10 e é um numero impar')\n",
    "elif (a > 10) and ((a % 2) == 0):\n",
    "    print(\"O valor\", a, 'é maior que 10 e é um numero par')\n",
    "else:\n",
    "    print(\"O valor\", a , \"não é menor que 10 ou não é par\")"
   ]
  },
  {
   "cell_type": "markdown",
   "id": "a804c075-dc77-43de-b639-dc0c56d7ce51",
   "metadata": {},
   "source": [
    "* O operador lógico **``or``** é utilizado para indicar que, se uma das condições for verdadeira, a expressão toda será verdadeira. Veja um algoritmo de exemplo:"
   ]
  },
  {
   "cell_type": "code",
   "execution_count": 42,
   "id": "4287ae42-1fd4-4dbe-86a5-f584457e35e3",
   "metadata": {},
   "outputs": [
    {
     "name": "stdout",
     "output_type": "stream",
     "text": [
      "O valor 11 não é menor que 10 ou não é par\n"
     ]
    }
   ],
   "source": [
    "a = 11\n",
    "if (a <= 10) or ((a % 2) == 0):\n",
    "    print(\"O valor\", a, \"é menor ou igual a 10 ou é um número par.\")\n",
    "else:\n",
    "    print(\"O valor\", a , \"não é menor que 10 ou não é par\")"
   ]
  },
  {
   "cell_type": "markdown",
   "id": "7c0e813b-4bea-4fa2-9079-23d85ff36e61",
   "metadata": {},
   "source": [
    "* A instrução **``if``** em Python verifica uma condição específica e executa um bloco de código se a condição for verdadeira.\n",
    "\n",
    "O **``if not``** faz o oposto da instrução if. Ele testa se uma condição é falsa e, em seguida, executa algumas instruções.\n",
    "\n",
    "O uso da instrução **``if not``** melhora a legibilidade do código e pode executar diretamente algumas instruções para condições que retornam False."
   ]
  },
  {
   "cell_type": "code",
   "execution_count": 43,
   "id": "7e4f052c-8581-4945-8d7a-57cc851369a7",
   "metadata": {},
   "outputs": [
    {
     "name": "stdout",
     "output_type": "stream",
     "text": [
      "False\n"
     ]
    }
   ],
   "source": [
    "x = 5\n",
    "if not x > 10:\n",
    "    print(\"False\")"
   ]
  },
  {
   "cell_type": "markdown",
   "id": "44089117-23ed-41d5-8d5f-ff1007d74252",
   "metadata": {},
   "source": [
    "### Loop for"
   ]
  },
  {
   "cell_type": "markdown",
   "id": "9d23e55d-871d-4f25-9c1d-5b71381fe7a5",
   "metadata": {},
   "source": [
    "O **``for``** é utilizado para percorrer ou iterar sobre uma sequência de dados (seja esse uma lista, uma tupla, uma string), executando um conjunto de instruções em cada item."
   ]
  },
  {
   "cell_type": "markdown",
   "id": "0488e2fd-1e1d-44a4-b417-d0920443f496",
   "metadata": {},
   "source": [
    "Sua sintaxe básica é: **``for`` <nome variável> in <iterável>.**   onde:\n",
    "\n",
    "* <nome variável> é o nome da variável que vai receber os elemento de <iterável>\n",
    "\n",
    "* <iterável> é o container de dados sobre o qual vamos iterar, podendo ser: uma lista, uma tupla, uma string, um dicionário, entre outros."
   ]
  },
  {
   "cell_type": "code",
   "execution_count": 44,
   "id": "3eae3079-cc87-4d11-8094-4435ea70a79a",
   "metadata": {},
   "outputs": [
    {
     "name": "stdout",
     "output_type": "stream",
     "text": [
      "1\n",
      "2\n",
      "3\n",
      "4\n",
      "5\n"
     ]
    }
   ],
   "source": [
    "lista = [1, 2, 3, 4, 5]\n",
    "\n",
    "for item in lista:\n",
    "    print(item)"
   ]
  },
  {
   "cell_type": "markdown",
   "id": "ac9f4dde-e0ee-464e-87e3-5ef6e1c5c380",
   "metadata": {
    "tags": []
   },
   "source": [
    "### Retornando uma sequência de números: range().\n",
    "A função **``range()``** retorna uma série de números consecutivos. Por padrão, ela inicia no número 0 e é incrementada adicionando 1.\n",
    "\n",
    "O comando range(4), por exemplo, retornará o seguinte valor : “0, 1, 2, 3”, pois ao chegar ao número 4, o loop será concluído. \n",
    "\n",
    "A sintaxe da função **``range()``** é:"
   ]
  },
  {
   "cell_type": "markdown",
   "id": "380b67da-e7f8-41c1-a056-a2692290e6dd",
   "metadata": {},
   "source": [
    "**``range``**(início, parada, incremento)"
   ]
  },
  {
   "cell_type": "code",
   "execution_count": 45,
   "id": "bd7fca8e-472f-4eb2-b855-ca5bc55b481f",
   "metadata": {},
   "outputs": [
    {
     "name": "stdout",
     "output_type": "stream",
     "text": [
      "0\n",
      "1\n",
      "2\n",
      "3\n",
      "4\n",
      "5\n",
      "6\n",
      "7\n",
      "8\n",
      "9\n",
      "10\n"
     ]
    }
   ],
   "source": [
    "for i in range(0, 10 + 1, 1):\n",
    "    print(i)"
   ]
  },
  {
   "cell_type": "code",
   "execution_count": 46,
   "id": "12c61a45-9692-4dff-8906-eafa0717a634",
   "metadata": {},
   "outputs": [
    {
     "name": "stdout",
     "output_type": "stream",
     "text": [
      "5 x 0 = 0\n",
      "5 x 1 = 5\n",
      "5 x 2 = 10\n",
      "5 x 3 = 15\n",
      "5 x 4 = 20\n",
      "5 x 5 = 25\n",
      "5 x 6 = 30\n",
      "5 x 7 = 35\n",
      "5 x 8 = 40\n",
      "5 x 9 = 45\n",
      "5 x 10 = 50\n"
     ]
    }
   ],
   "source": [
    "# Somar numeros em um loop com o range\n",
    "soma = 0\n",
    "for i in range(0, 10 + 1, 1):\n",
    "    print(f'5 x {i} = {5*i}')"
   ]
  },
  {
   "cell_type": "markdown",
   "id": "f7d76e6e-b981-431b-8514-6920f6099c13",
   "metadata": {},
   "source": [
    "### Loop while"
   ]
  },
  {
   "cell_type": "markdown",
   "id": "420068f2-e07e-4dc2-ba21-2e66e9e67cba",
   "metadata": {},
   "source": [
    "* O bloco do while será repetido enquando a expressão booleana for verdadeira. Expressão booleana é toda expressão onde o resultado é `True` (verdadeiro) ou `False` (falso).\n",
    "* Em um loop while é importante que cuidemos do critério de parada para não causar um loop infinito."
   ]
  },
  {
   "cell_type": "code",
   "execution_count": 47,
   "id": "01865522-493a-4c7d-853b-15b9099117c1",
   "metadata": {},
   "outputs": [
    {
     "name": "stdout",
     "output_type": "stream",
     "text": [
      "False\n"
     ]
    }
   ],
   "source": [
    "# Exemplo1: Compara o valor 10 com o 5.\n",
    "num = 10\n",
    "print(num < 5) # False"
   ]
  },
  {
   "cell_type": "code",
   "execution_count": 48,
   "id": "c8213d23-5959-4cdd-8ff0-84e28e8c11d7",
   "metadata": {},
   "outputs": [
    {
     "name": "stdout",
     "output_type": "stream",
     "text": [
      "1\n",
      "2\n",
      "3\n",
      "4\n",
      "5\n",
      "6\n",
      "7\n",
      "8\n",
      "9\n"
     ]
    }
   ],
   "source": [
    "# Exemplo2: Imprime os valores de 1 a 9, lembrando que o último valor é exclusivo.\n",
    "numero = 1\n",
    "## While\n",
    "while numero < 10:\n",
    "    print(numero)\n",
    "    numero += 1"
   ]
  },
  {
   "cell_type": "code",
   "execution_count": 49,
   "id": "c8d3f9b8-2492-487a-8e7c-ab341ba84205",
   "metadata": {},
   "outputs": [
    {
     "name": "stdin",
     "output_type": "stream",
     "text": [
      "Já acabou Jéssica? nao\n",
      "Já acabou Jéssica? nao\n",
      "Já acabou Jéssica? sim\n"
     ]
    }
   ],
   "source": [
    "# Exemplo3: Enquanto o usuário não digitar sim, o loop será executado.\n",
    "resposta = ''\n",
    "while resposta != 'sim':\n",
    "    resposta = input(\"Já acabou Jéssica?\")"
   ]
  },
  {
   "cell_type": "markdown",
   "id": "3410d65c-9338-4c97-9b35-2bae83b8b7bb",
   "metadata": {
    "tags": []
   },
   "source": [
    "## Listas\n",
    "\n",
    "<center><img alt='Listas', src='https://raw.githubusercontent.com/the-akira/Python-Iluminado/master/Imagens/Lists.png'> </center>\n",
    "\n",
    "\n",
    "Uma lista **`list`** em Python é uma sequência ou coleção ordenada de valores. Cada valor na lista é identificado por um índice. O valores que formam uma lista são chamados elementos ou itens. Listas são similares a strings, que são uma sequência de caracteres, no entanto, diferentemente de strings, os itens de uma lista podem ser de tipos diferentes."
   ]
  },
  {
   "cell_type": "code",
   "execution_count": 50,
   "id": "b1a92b56-a0b6-4ae7-a67f-8e9ef9b1e729",
   "metadata": {},
   "outputs": [
    {
     "data": {
      "text/plain": [
       "['Banana', 'Maçã', 'Uva', 'Goiaba']"
      ]
     },
     "execution_count": 50,
     "metadata": {},
     "output_type": "execute_result"
    }
   ],
   "source": [
    "frutas = ['Banana', 'Maçã', 'Uva', 'Goiaba']\n",
    "\n",
    "frutas"
   ]
  },
  {
   "cell_type": "code",
   "execution_count": 51,
   "id": "7a834be4-103b-4c5c-a614-313bac1c5e1c",
   "metadata": {},
   "outputs": [
    {
     "data": {
      "text/plain": [
       "[1, 3, 7, 5, 8, 9, 7, 4, 1, 2, 5, 8, 9, 7]"
      ]
     },
     "execution_count": 51,
     "metadata": {},
     "output_type": "execute_result"
    }
   ],
   "source": [
    "numeros = [1,3,7,5,8,9,7,4,1,2,5,8,9,7]\n",
    "numeros"
   ]
  },
  {
   "cell_type": "code",
   "execution_count": 52,
   "id": "69b130a4-62d7-4d4d-b4f8-6fa11d240d09",
   "metadata": {},
   "outputs": [
    {
     "data": {
      "text/plain": [
       "1"
      ]
     },
     "execution_count": 52,
     "metadata": {},
     "output_type": "execute_result"
    }
   ],
   "source": [
    "# Primeiro Elemento \n",
    "numeros[0]"
   ]
  },
  {
   "cell_type": "code",
   "execution_count": 53,
   "id": "d1b8a9d6-b395-4b10-a4e0-d06a6cd42230",
   "metadata": {},
   "outputs": [
    {
     "data": {
      "text/plain": [
       "7"
      ]
     },
     "execution_count": 53,
     "metadata": {},
     "output_type": "execute_result"
    }
   ],
   "source": [
    "# Ultimo Elemento\n",
    "numeros[-1]"
   ]
  },
  {
   "cell_type": "code",
   "execution_count": 54,
   "id": "faf0adca-0508-48e2-b725-899a59163153",
   "metadata": {},
   "outputs": [
    {
     "data": {
      "text/plain": [
       "[1, 3, 7, 5, 8, 9, 7, 4]"
      ]
     },
     "execution_count": 54,
     "metadata": {},
     "output_type": "execute_result"
    }
   ],
   "source": [
    "# Mostrar n Valores\n",
    "n = 8\n",
    "numeros[:n]"
   ]
  },
  {
   "cell_type": "code",
   "execution_count": 55,
   "id": "4e0dd7d7-b870-4ca8-9f83-2215028f3a9a",
   "metadata": {},
   "outputs": [
    {
     "data": {
      "text/plain": [
       "[1, 7, 8, 7, 1, 5, 9]"
      ]
     },
     "execution_count": 55,
     "metadata": {},
     "output_type": "execute_result"
    }
   ],
   "source": [
    "# Mostrar os valores de n em n\n",
    "numeros[::2]"
   ]
  },
  {
   "cell_type": "code",
   "execution_count": 56,
   "id": "a71affef-7a15-4445-ad2e-84682a526538",
   "metadata": {},
   "outputs": [
    {
     "data": {
      "text/plain": [
       "[7, 9, 8, 5, 2, 1, 4, 7, 9, 8, 5, 7, 3, 1]"
      ]
     },
     "execution_count": 56,
     "metadata": {},
     "output_type": "execute_result"
    }
   ],
   "source": [
    "# Inverter a Lista\n",
    "numeros[::-1]"
   ]
  },
  {
   "cell_type": "markdown",
   "id": "075c5063-9fed-4c8c-b16d-96aca810f1b1",
   "metadata": {},
   "source": [
    "Se verificarmos o tipo utilizando a função **`type()`** ela retornará uma **``list``**"
   ]
  },
  {
   "cell_type": "code",
   "execution_count": 57,
   "id": "a84cb4f9-b51b-478d-8dfa-e830c0e3ef17",
   "metadata": {},
   "outputs": [
    {
     "data": {
      "text/plain": [
       "list"
      ]
     },
     "execution_count": 57,
     "metadata": {},
     "output_type": "execute_result"
    }
   ],
   "source": [
    "type(frutas)"
   ]
  },
  {
   "cell_type": "markdown",
   "id": "befa175c-8ef4-4ced-8b88-2aa757b51fe7",
   "metadata": {},
   "source": [
    "Listas podem receber qualquer tipo de valor.\n",
    "\n",
    "Pode ser uma string, um inteiro, um float, entre outros\n"
   ]
  },
  {
   "cell_type": "code",
   "execution_count": 58,
   "id": "c915452d-1681-4cc6-9d91-6eb21194dec6",
   "metadata": {},
   "outputs": [],
   "source": [
    "lista = [1, 9.5, 'Luiz Octavio']"
   ]
  },
  {
   "cell_type": "code",
   "execution_count": 59,
   "id": "2fe92142-f869-45d2-a3e0-2df75352d961",
   "metadata": {},
   "outputs": [
    {
     "data": {
      "text/plain": [
       "list"
      ]
     },
     "execution_count": 59,
     "metadata": {},
     "output_type": "execute_result"
    }
   ],
   "source": [
    "type(lista)"
   ]
  },
  {
   "cell_type": "markdown",
   "id": "99b6d767-c0a3-4bdc-b72c-76ad5748433e",
   "metadata": {},
   "source": [
    "Métodos de uma lista **`append`**,**`pop`**, **`remove`**, **`sort`**"
   ]
  },
  {
   "cell_type": "markdown",
   "id": "56900fe0-b48f-40fe-88d8-0045eca8216a",
   "metadata": {},
   "source": [
    "O método **`append`** adiciona um determinado elemento no final da lista"
   ]
  },
  {
   "cell_type": "code",
   "execution_count": 60,
   "id": "9def9f89-661b-473a-a2ac-03630fa4384c",
   "metadata": {},
   "outputs": [],
   "source": [
    "lista.append(5)"
   ]
  },
  {
   "cell_type": "code",
   "execution_count": 61,
   "id": "1c7711ac-2f2f-4c1d-89fc-19e54b888bde",
   "metadata": {},
   "outputs": [],
   "source": [
    "lista.append('Danielle')"
   ]
  },
  {
   "cell_type": "code",
   "execution_count": 62,
   "id": "cec195e6-a996-4ffa-bfdc-590f9fa760e5",
   "metadata": {},
   "outputs": [
    {
     "data": {
      "text/plain": [
       "[1, 9.5, 'Luiz Octavio', 5, 'Danielle']"
      ]
     },
     "execution_count": 62,
     "metadata": {},
     "output_type": "execute_result"
    }
   ],
   "source": [
    "lista"
   ]
  },
  {
   "cell_type": "markdown",
   "id": "a1e4ba34-2a18-415b-be1d-824fdd9865ee",
   "metadata": {},
   "source": [
    "O Método **`pop`** remove pelo indice algum elemento de uma lista"
   ]
  },
  {
   "cell_type": "code",
   "execution_count": 63,
   "id": "a342f350-0ff5-403e-9a3c-564627b871e4",
   "metadata": {},
   "outputs": [
    {
     "data": {
      "text/plain": [
       "'Danielle'"
      ]
     },
     "execution_count": 63,
     "metadata": {},
     "output_type": "execute_result"
    }
   ],
   "source": [
    "lista.pop(-1)"
   ]
  },
  {
   "cell_type": "code",
   "execution_count": 64,
   "id": "ffeec509-5986-419b-b1ac-af536e033e02",
   "metadata": {},
   "outputs": [
    {
     "data": {
      "text/plain": [
       "[1, 9.5, 'Luiz Octavio', 5]"
      ]
     },
     "execution_count": 64,
     "metadata": {},
     "output_type": "execute_result"
    }
   ],
   "source": [
    "lista"
   ]
  },
  {
   "cell_type": "markdown",
   "id": "d0833e3e-16fd-417a-87ec-322db142ff50",
   "metadata": {},
   "source": [
    "No caso acima, a remoção foi feita com base na posição do objeto, porém, há situações em que esse índice é desconhecido e desejamos remover o item a partir do seu valor. Para isso temos o método **`remove`**(item)"
   ]
  },
  {
   "cell_type": "code",
   "execution_count": 65,
   "id": "2f988917-9027-4472-85d2-104c7c7bfc36",
   "metadata": {},
   "outputs": [],
   "source": [
    "lista.remove('Luiz Octavio')"
   ]
  },
  {
   "cell_type": "code",
   "execution_count": 66,
   "id": "8b50973d-a0f8-430e-baf8-cab94dadc7d7",
   "metadata": {},
   "outputs": [
    {
     "data": {
      "text/plain": [
       "[1, 9.5, 5]"
      ]
     },
     "execution_count": 66,
     "metadata": {},
     "output_type": "execute_result"
    }
   ],
   "source": [
    "lista"
   ]
  },
  {
   "cell_type": "markdown",
   "id": "1675fd70-048a-4474-825d-1ef68b072467",
   "metadata": {},
   "source": [
    "O método **`sort`** organiza os dados do maior para o menor, ou vice-versa e em ordem alfabética"
   ]
  },
  {
   "cell_type": "code",
   "execution_count": 67,
   "id": "23af2bc6-400d-4537-a745-c9c62854e182",
   "metadata": {},
   "outputs": [
    {
     "data": {
      "text/plain": [
       "['Banana', 'Maçã', 'Uva', 'Goiaba']"
      ]
     },
     "execution_count": 67,
     "metadata": {},
     "output_type": "execute_result"
    }
   ],
   "source": [
    "frutas"
   ]
  },
  {
   "cell_type": "markdown",
   "id": "5d64b5c2-172c-46b8-affa-ff1c1002bf1a",
   "metadata": {},
   "source": [
    "Observe que a lista frutas não está em ordem alfabetica e queremos consertar isso\n",
    "\n",
    "Neste caso utilizaremos o método **`sort`**"
   ]
  },
  {
   "cell_type": "code",
   "execution_count": 68,
   "id": "bb2a4b46-70bb-4110-8c5e-f4bc7ab76933",
   "metadata": {},
   "outputs": [],
   "source": [
    "frutas.sort()"
   ]
  },
  {
   "cell_type": "code",
   "execution_count": 69,
   "id": "6d1797b7-f04b-48be-83d2-fbc71051f6c1",
   "metadata": {},
   "outputs": [
    {
     "data": {
      "text/plain": [
       "['Banana', 'Goiaba', 'Maçã', 'Uva']"
      ]
     },
     "execution_count": 69,
     "metadata": {},
     "output_type": "execute_result"
    }
   ],
   "source": [
    "frutas"
   ]
  },
  {
   "cell_type": "markdown",
   "id": "9eefe0fe",
   "metadata": {
    "tags": []
   },
   "source": [
    "#### Unpacking"
   ]
  },
  {
   "cell_type": "markdown",
   "id": "0a970219",
   "metadata": {},
   "source": [
    "Python permite que uma ``tuple``(ou ``list``) de variáveis ​​apareça no lado esquerdo de uma operação de atribuição. Cada variável em uma tupla ou lista pode receber um valor (ou mais, se usarmos o `*`operador) de um iterável no lado direito da atribuição."
   ]
  },
  {
   "cell_type": "code",
   "execution_count": 70,
   "id": "db87afe0",
   "metadata": {},
   "outputs": [],
   "source": [
    "a, b, c = [1, 2, 3]"
   ]
  },
  {
   "cell_type": "code",
   "execution_count": 71,
   "id": "a8f55d00",
   "metadata": {},
   "outputs": [
    {
     "name": "stdout",
     "output_type": "stream",
     "text": [
      "1\n",
      "2\n",
      "3\n"
     ]
    }
   ],
   "source": [
    "print(a)\n",
    "print(b)\n",
    "print(c)"
   ]
  },
  {
   "cell_type": "code",
   "execution_count": 72,
   "id": "462248dc",
   "metadata": {},
   "outputs": [
    {
     "data": {
      "text/plain": [
       "[1, 2, 3]"
      ]
     },
     "execution_count": 72,
     "metadata": {},
     "output_type": "execute_result"
    }
   ],
   "source": [
    "# Utilizando o operador *\n",
    "*a, = [1, 2, 3]\n",
    "a"
   ]
  },
  {
   "cell_type": "code",
   "execution_count": 73,
   "id": "b8c2ef2b",
   "metadata": {},
   "outputs": [
    {
     "name": "stdout",
     "output_type": "stream",
     "text": [
      "[1, 2]\n",
      "3\n"
     ]
    }
   ],
   "source": [
    "# Utilizando o operador *\n",
    "*a, b = [1, 2, 3]\n",
    "print(a)\n",
    "print(b)"
   ]
  },
  {
   "cell_type": "markdown",
   "id": "802034f4-16d2-423a-9ec2-aa20a79d737d",
   "metadata": {},
   "source": [
    "* Listas de listas"
   ]
  },
  {
   "cell_type": "code",
   "execution_count": 74,
   "id": "51d15ab5-ad4c-41a1-92cb-41bd7e4263c3",
   "metadata": {},
   "outputs": [],
   "source": [
    "listax = [[1,2,3], [4,5,6]]"
   ]
  },
  {
   "cell_type": "code",
   "execution_count": 75,
   "id": "827856b6-1527-438d-af58-855e194c0598",
   "metadata": {},
   "outputs": [
    {
     "data": {
      "text/plain": [
       "1"
      ]
     },
     "execution_count": 75,
     "metadata": {},
     "output_type": "execute_result"
    }
   ],
   "source": [
    "listax[0][0]"
   ]
  },
  {
   "cell_type": "code",
   "execution_count": 76,
   "id": "69083d15-91bc-489d-a733-fafa7ecda0a3",
   "metadata": {},
   "outputs": [
    {
     "data": {
      "text/plain": [
       "4"
      ]
     },
     "execution_count": 76,
     "metadata": {},
     "output_type": "execute_result"
    }
   ],
   "source": [
    "listax[1][0]"
   ]
  },
  {
   "cell_type": "markdown",
   "id": "801e9738",
   "metadata": {
    "tags": []
   },
   "source": [
    "## Tuplas\n",
    "\n",
    "<center><img alt='Listas', src='https://deiniresendiz.com/wp-content/uploads/2020/06/Python-1.jpg'  width='60%' height='8%'> </center>\n",
    "\n",
    "### **O que é tupla?**\n",
    "Tupla é um tipo de estrutura de dados utilizada em Python que funciona de modo semelhante a uma lista, entretanto, com a característica principal de ser imutável. Isso significa que quando uma tupla é criada não é possível adicionar, alterar ou remover seus elementos. Geralmente, ela é utilizada para adicionar tipos diferentes de informações, porém, com a quantidade de elementos definidos.\n",
    "\n",
    "Podemos utilizar uma tupla de dois elementos, por exemplo, para indicar a sigla do estado em uma posição e o nome dele em outra. Portanto, ela é uma boa opção quando queremos trabalhar com informações diferentes em uma mesma variável e quando queremos que esses dados não sofram alterações.\n",
    "\n",
    "Sua característica de imutabilidade oferece segurança nas informações armazenadas. Por isso, uma das finalidades da tupla é armazenar uma sequência de dados que não será modificada em outras partes do código."
   ]
  },
  {
   "cell_type": "markdown",
   "id": "6f4529d3",
   "metadata": {},
   "source": [
    "### Como declaramos tuplas ?"
   ]
  },
  {
   "cell_type": "code",
   "execution_count": 77,
   "id": "60584d6e",
   "metadata": {},
   "outputs": [
    {
     "data": {
      "text/plain": [
       "(10, 20, 30)"
      ]
     },
     "execution_count": 77,
     "metadata": {},
     "output_type": "execute_result"
    }
   ],
   "source": [
    "tuplas = (10,20,30)\n",
    "tuplas"
   ]
  },
  {
   "cell_type": "code",
   "execution_count": 78,
   "id": "74b18136",
   "metadata": {},
   "outputs": [
    {
     "data": {
      "text/plain": [
       "tuple"
      ]
     },
     "execution_count": 78,
     "metadata": {},
     "output_type": "execute_result"
    }
   ],
   "source": [
    "# Verificando o tipo \n",
    "type(tuplas)"
   ]
  },
  {
   "cell_type": "code",
   "execution_count": 79,
   "id": "a235349e",
   "metadata": {},
   "outputs": [
    {
     "name": "stdout",
     "output_type": "stream",
     "text": [
      "Valor de x: 10\n",
      "Valor de y: 20\n",
      "Valor de z: 30\n"
     ]
    }
   ],
   "source": [
    "# Extraindo valores da tupla\n",
    "x, y, z = tuplas\n",
    "print('Valor de x:', x)\n",
    "print('Valor de y:', y)\n",
    "print('Valor de z:',  z)"
   ]
  },
  {
   "cell_type": "code",
   "execution_count": 80,
   "id": "53e398d5",
   "metadata": {},
   "outputs": [
    {
     "ename": "TypeError",
     "evalue": "'tuple' object does not support item assignment",
     "output_type": "error",
     "traceback": [
      "\u001b[1;31m---------------------------------------------------------------------------\u001b[0m",
      "\u001b[1;31mTypeError\u001b[0m                                 Traceback (most recent call last)",
      "\u001b[1;32m<ipython-input-80-c201897b82c9>\u001b[0m in \u001b[0;36m<module>\u001b[1;34m\u001b[0m\n\u001b[0;32m      1\u001b[0m \u001b[1;31m# Tuplas sào imutaveis\u001b[0m\u001b[1;33m\u001b[0m\u001b[1;33m\u001b[0m\u001b[1;33m\u001b[0m\u001b[0m\n\u001b[1;32m----> 2\u001b[1;33m \u001b[0mtuplas\u001b[0m\u001b[1;33m[\u001b[0m\u001b[1;36m0\u001b[0m\u001b[1;33m]\u001b[0m \u001b[1;33m=\u001b[0m \u001b[1;36m10\u001b[0m\u001b[1;33m\u001b[0m\u001b[1;33m\u001b[0m\u001b[0m\n\u001b[0m",
      "\u001b[1;31mTypeError\u001b[0m: 'tuple' object does not support item assignment"
     ]
    }
   ],
   "source": [
    "# Tuplas sào imutaveis\n",
    "tuplas[0] = 10"
   ]
  },
  {
   "cell_type": "markdown",
   "id": "c6ee3c3d",
   "metadata": {},
   "source": [
    "Assim como lista, podemos percorrer os valores da tupla com a seguinte sintaxe:"
   ]
  },
  {
   "cell_type": "code",
   "execution_count": 81,
   "id": "418d9229",
   "metadata": {
    "scrolled": true,
    "tags": []
   },
   "outputs": [
    {
     "name": "stdout",
     "output_type": "stream",
     "text": [
      "(20, 30)\n",
      "(20, 30)\n",
      "(10, 20, 30)\n",
      "(20, 30)\n"
     ]
    }
   ],
   "source": [
    "print(tuplas[1:3])\n",
    "print(tuplas[1:3])\n",
    "print(tuplas[:3])\n",
    "print(tuplas[1:])"
   ]
  },
  {
   "cell_type": "markdown",
   "id": "7254bc95",
   "metadata": {
    "tags": []
   },
   "source": [
    "Assim como listas as tuplas tambem apresentam funcionalidade de UNPACKING"
   ]
  },
  {
   "cell_type": "code",
   "execution_count": 82,
   "id": "da7ce961",
   "metadata": {},
   "outputs": [],
   "source": [
    "a, b, c = (1, 2, 3)"
   ]
  },
  {
   "cell_type": "code",
   "execution_count": 83,
   "id": "ccdb2627",
   "metadata": {},
   "outputs": [
    {
     "name": "stdout",
     "output_type": "stream",
     "text": [
      "1\n",
      "2\n",
      "3\n"
     ]
    }
   ],
   "source": [
    "print(a)\n",
    "print(b)\n",
    "print(c)"
   ]
  },
  {
   "cell_type": "code",
   "execution_count": 84,
   "id": "a1facc18",
   "metadata": {},
   "outputs": [
    {
     "data": {
      "text/plain": [
       "[1, 2, 3]"
      ]
     },
     "execution_count": 84,
     "metadata": {},
     "output_type": "execute_result"
    }
   ],
   "source": [
    "# Utilizando o operador *\n",
    "*a, = (1, 2, 3)\n",
    "a"
   ]
  },
  {
   "cell_type": "code",
   "execution_count": 85,
   "id": "4f3714ee",
   "metadata": {},
   "outputs": [
    {
     "name": "stdout",
     "output_type": "stream",
     "text": [
      "[1, 2]\n",
      "3\n"
     ]
    }
   ],
   "source": [
    "# Utilizando o operador *\n",
    "*a, b = (1, 2, 3)\n",
    "print(a)\n",
    "print(b)"
   ]
  },
  {
   "cell_type": "code",
   "execution_count": 86,
   "id": "72ea2755-3eb3-4fb4-94da-20d27b3ea3f6",
   "metadata": {},
   "outputs": [
    {
     "data": {
      "text/plain": [
       "3"
      ]
     },
     "execution_count": 86,
     "metadata": {},
     "output_type": "execute_result"
    }
   ],
   "source": [
    "# Contagem de valores em uma tupla\n",
    "a = (1, 2, 3, 4, 4, 4, 5, 5)\n",
    "a.count(4)"
   ]
  },
  {
   "cell_type": "markdown",
   "id": "2daaccd0-303e-4f6d-a55f-8d5458a9337a",
   "metadata": {
    "tags": []
   },
   "source": [
    "## Dicionários"
   ]
  },
  {
   "cell_type": "markdown",
   "id": "925775a8-09e8-4eef-a112-dc6a18f47054",
   "metadata": {},
   "source": [
    "<center><img src=\"python-dictionary.png\" width='75%' height='25%'></center>"
   ]
  },
  {
   "cell_type": "markdown",
   "id": "20b7a40f-5f71-4a3b-98d3-2ea704bfefa2",
   "metadata": {},
   "source": [
    "Os dicionários são coleções de itens e seus elementos são armazenados de forma não ordenada.\n",
    "\n",
    "Seus elementos contém uma chave e valor, isto é:\n",
    "\n",
    "* Uma chave que vai servir para indexar (posicionar) determinado elemento no dicionário.\n",
    "* Um valor que contém… Bem, um valor :laughing: Este valor aceita diversos tipos: listas, outros dicionários, inteiros, strings e etc.\n",
    "\n",
    "\n",
    "Sua sintaxe básica é: **`{'chave': 'valor'}`**. Utiliza-se `{}` para delimitar o dicionário e a chave é separada do valor por dois pontos ``:``\n",
    "\n",
    "Exemplo de sua sintaxe:"
   ]
  },
  {
   "cell_type": "code",
   "execution_count": 87,
   "id": "29469a24-fe8d-4a77-b935-a3dd68987153",
   "metadata": {},
   "outputs": [
    {
     "name": "stdout",
     "output_type": "stream",
     "text": [
      "<class 'dict'>\n",
      "{'Chave': 'valor'}\n"
     ]
    }
   ],
   "source": [
    "dicionario = {'Chave':'valor'}\n",
    "print(type(dicionario))\n",
    "\n",
    "print(dicionario)"
   ]
  },
  {
   "cell_type": "code",
   "execution_count": 88,
   "id": "5ee88589-fdcb-436d-97e3-da949c4567da",
   "metadata": {},
   "outputs": [
    {
     "data": {
      "text/plain": [
       "'valor'"
      ]
     },
     "execution_count": 88,
     "metadata": {},
     "output_type": "execute_result"
    }
   ],
   "source": [
    "dicionario['Chave']"
   ]
  },
  {
   "cell_type": "markdown",
   "id": "8ce46f31-48c6-433d-b46e-e21268c2138e",
   "metadata": {},
   "source": [
    "Outra maneira de criar dicionários em python é utilizando a palavra reservada **`dict`**\n",
    "\n",
    "\n",
    "Exemplo:"
   ]
  },
  {
   "cell_type": "code",
   "execution_count": 89,
   "id": "dcf8ed1a-2d08-452d-aebe-614ae621b6b0",
   "metadata": {},
   "outputs": [],
   "source": [
    "dicionario = dict(Chave='valor')"
   ]
  },
  {
   "cell_type": "code",
   "execution_count": 90,
   "id": "a653cce7-caac-42a5-9bd6-38eb02afa725",
   "metadata": {},
   "outputs": [
    {
     "name": "stdout",
     "output_type": "stream",
     "text": [
      "<class 'dict'>\n",
      "{'Chave': 'valor'}\n"
     ]
    }
   ],
   "source": [
    "print(type(dicionario))\n",
    "print(dicionario)"
   ]
  },
  {
   "cell_type": "markdown",
   "id": "495880bf-22c2-40c4-b7e9-4c3b37709a85",
   "metadata": {
    "tags": []
   },
   "source": [
    "### Criando alguns dicionarios"
   ]
  },
  {
   "cell_type": "code",
   "execution_count": 91,
   "id": "290bc838-25ff-41fd-b5ca-f4bbce4bd05f",
   "metadata": {},
   "outputs": [],
   "source": [
    "dicio = dict(primeiro=1, segundo=2, terceiro=3)"
   ]
  },
  {
   "cell_type": "code",
   "execution_count": 92,
   "id": "3d295393-2d8a-49ae-9c0b-8b2678eac011",
   "metadata": {},
   "outputs": [],
   "source": [
    "dicio_2 = {'primeiro': 1, 'segundo':  2, 'terceiro': 3}"
   ]
  },
  {
   "cell_type": "markdown",
   "id": "573a401a-f4dc-4ca4-a9ce-862ca10aff7e",
   "metadata": {},
   "source": [
    "Utilizando a função **``zip``** para concatenar a **``chave:valor``** em um elemento do objeto **``dict``**:"
   ]
  },
  {
   "cell_type": "code",
   "execution_count": 93,
   "id": "c632f403-ae28-4d54-9062-42979caab357",
   "metadata": {},
   "outputs": [
    {
     "data": {
      "text/plain": [
       "{'primeiro': 1, 'segundo': 2, 'terceiro': 3}"
      ]
     },
     "execution_count": 93,
     "metadata": {},
     "output_type": "execute_result"
    }
   ],
   "source": [
    "dicio_3 = dict(zip(['primeiro', 'segundo', 'terceiro'], [1, 2, 3]))\n",
    "dicio_3"
   ]
  },
  {
   "cell_type": "markdown",
   "id": "ac4a88ba-13cc-43d7-abb6-2b38353aeb54",
   "metadata": {},
   "source": [
    "Utilizando uma lista de tuplas com itens simbolizando chave e valor em um objeto **``dict``**:"
   ]
  },
  {
   "cell_type": "code",
   "execution_count": 94,
   "id": "fbfacbad-954c-4997-91f5-197e65b9cba5",
   "metadata": {},
   "outputs": [],
   "source": [
    "dicio_4 = dict([('primeiro', 1), ('segundo', 2), ('terceiro', 3)])"
   ]
  },
  {
   "cell_type": "markdown",
   "id": "0f5c674c-6d84-43b4-a90d-0fd6f81d5bf2",
   "metadata": {},
   "source": [
    "### Acessando itens de um dicionário"
   ]
  },
  {
   "cell_type": "code",
   "execution_count": 95,
   "id": "511fe544-a765-4733-b53d-08505c45fa6e",
   "metadata": {},
   "outputs": [
    {
     "name": "stdout",
     "output_type": "stream",
     "text": [
      "Pythonico\n"
     ]
    }
   ],
   "source": [
    "pessoa = {'nome': 'Pythonico', 'altura': 1.65, 'idade': 21}\n",
    "\n",
    "print(pessoa['nome'])"
   ]
  },
  {
   "cell_type": "markdown",
   "id": "5cb2ef7e-bdd4-48a7-bea3-2b7ae0fefe39",
   "metadata": {},
   "source": [
    "### Métodos dicionários"
   ]
  },
  {
   "cell_type": "markdown",
   "id": "b1a33c6d-6431-4b38-a3cc-a39284369800",
   "metadata": {},
   "source": [
    "Os dicionários possuem alguns métodos específicos que fazem determinadas ações relacionadas a estrutura do dicionário"
   ]
  },
  {
   "cell_type": "markdown",
   "id": "6440dffa-9b6e-44d2-b1b8-840e459a84bb",
   "metadata": {},
   "source": [
    "Alguns dos principais métodos são: **`.get()`**, **`.keys()`**, **`.values()`**, **`.items()`**"
   ]
  },
  {
   "cell_type": "markdown",
   "id": "3dcb69ad-510f-4b89-b7da-350036a4c8a1",
   "metadata": {},
   "source": [
    "#### **``.get()``**"
   ]
  },
  {
   "cell_type": "code",
   "execution_count": 96,
   "id": "db1f5ef7-e6e4-4035-825e-844c75447223",
   "metadata": {},
   "outputs": [
    {
     "name": "stdout",
     "output_type": "stream",
     "text": [
      "Pythonico\n"
     ]
    }
   ],
   "source": [
    "# Acessa o valor pela chave\n",
    "print(pessoa.get('nome'))"
   ]
  },
  {
   "cell_type": "markdown",
   "id": "e108b23b-52e6-4b3c-939a-44b183673e9b",
   "metadata": {},
   "source": [
    "#### **`.keys()`**, **`.values()`**"
   ]
  },
  {
   "cell_type": "markdown",
   "id": "55166de8-a347-433a-9856-03ef17eea67e",
   "metadata": {},
   "source": [
    "Obter todas as chaves de um dicionário"
   ]
  },
  {
   "cell_type": "code",
   "execution_count": 97,
   "id": "cccf8829-d1dd-4a9c-9130-1c547212ac22",
   "metadata": {},
   "outputs": [
    {
     "data": {
      "text/plain": [
       "dict_keys(['CPU', 'RAM', 'SSD'])"
      ]
     },
     "execution_count": 97,
     "metadata": {},
     "output_type": "execute_result"
    }
   ],
   "source": [
    "computador = {'CPU': 'Intel', 'RAM': '8gb', 'SSD': '250bg'}\n",
    "\n",
    "computador.keys()"
   ]
  },
  {
   "cell_type": "markdown",
   "id": "809eb9da-172c-4480-8009-d2bb8b97f801",
   "metadata": {},
   "source": [
    "Obter todos os valores de um dicionário"
   ]
  },
  {
   "cell_type": "code",
   "execution_count": 98,
   "id": "063492c0-7e68-43bc-907e-3aba67bf6420",
   "metadata": {},
   "outputs": [
    {
     "data": {
      "text/plain": [
       "dict_values(['Intel', '8gb', '250bg'])"
      ]
     },
     "execution_count": 98,
     "metadata": {},
     "output_type": "execute_result"
    }
   ],
   "source": [
    "computador.values()"
   ]
  },
  {
   "cell_type": "markdown",
   "id": "d4e0fae6-b083-4709-9d48-faaa105ad134",
   "metadata": {},
   "source": [
    "Podemos tambem percorrer as chaves e valores atraves de um loop **`for`**\n",
    "\n",
    "Exemplo:"
   ]
  },
  {
   "cell_type": "code",
   "execution_count": 99,
   "id": "24c2170f-ddef-4606-9a30-f7b8d7630e99",
   "metadata": {},
   "outputs": [
    {
     "name": "stdout",
     "output_type": "stream",
     "text": [
      "CPU\n",
      "RAM\n",
      "SSD\n"
     ]
    }
   ],
   "source": [
    "for key in computador.keys():\n",
    "    print(key)"
   ]
  },
  {
   "cell_type": "code",
   "execution_count": 100,
   "id": "f2d376fa-d867-4d96-80c7-c69e79c0307a",
   "metadata": {},
   "outputs": [
    {
     "name": "stdout",
     "output_type": "stream",
     "text": [
      "Intel\n",
      "8gb\n",
      "250bg\n"
     ]
    }
   ],
   "source": [
    "for value in computador.values():\n",
    "    print(value)"
   ]
  },
  {
   "cell_type": "markdown",
   "id": "f4d92104-fbce-45fa-a073-553cb94ac960",
   "metadata": {},
   "source": [
    "#### **`.items()`**\n",
    "\n",
    "\n",
    "Obter todas as chaves e valores de um dicionário"
   ]
  },
  {
   "cell_type": "code",
   "execution_count": 101,
   "id": "91b0b15e-4396-4ebf-9bd6-9287f3f36afc",
   "metadata": {},
   "outputs": [
    {
     "data": {
      "text/plain": [
       "dict_items([('CPU', 'Intel'), ('RAM', '8gb'), ('SSD', '250bg')])"
      ]
     },
     "execution_count": 101,
     "metadata": {},
     "output_type": "execute_result"
    }
   ],
   "source": [
    "computador.items()"
   ]
  },
  {
   "cell_type": "code",
   "execution_count": 102,
   "id": "b443dd6a-6f44-4fa5-8169-e3d9a87db65e",
   "metadata": {},
   "outputs": [
    {
     "name": "stdout",
     "output_type": "stream",
     "text": [
      "Chave: CPU [->] Valor: Intel\n",
      "Chave: RAM [->] Valor: 8gb\n",
      "Chave: SSD [->] Valor: 250bg\n"
     ]
    }
   ],
   "source": [
    "for key, value in computador.items():\n",
    "    print('Chave:', key, '[->] Valor:', value)"
   ]
  },
  {
   "cell_type": "markdown",
   "id": "02a13ca7-f16e-4d9a-9a57-6f66eb86d9d5",
   "metadata": {},
   "source": [
    "### Adicionando e atualizando itens\n",
    "\n",
    "A maneira mais simples de adicionar um item a um dicionario é criar uma nova chave e atribuir um valor."
   ]
  },
  {
   "cell_type": "code",
   "execution_count": 103,
   "id": "fef7c43d-6bd6-4a53-81d5-6ef4eed9cb44",
   "metadata": {},
   "outputs": [
    {
     "name": "stdout",
     "output_type": "stream",
     "text": [
      "{'nome': 'Erick', 'idade': 20}\n"
     ]
    }
   ],
   "source": [
    "dicio = {'nome': 'Erick'}\n",
    "\n",
    "dicio['idade'] = 20\n",
    "\n",
    "print(dicio)"
   ]
  },
  {
   "cell_type": "markdown",
   "id": "cd15b479-9f50-4c6d-944d-d3f09d20bf76",
   "metadata": {},
   "source": [
    "O método **``update``()** tanto pode criar, como atualizar dados:"
   ]
  },
  {
   "cell_type": "code",
   "execution_count": 104,
   "id": "c11530fa-26b2-4c7a-8df6-28b64f246290",
   "metadata": {},
   "outputs": [
    {
     "name": "stdout",
     "output_type": "stream",
     "text": [
      "{'nome': 'Matheus', 'idade': 18, 'tamanho': 1.6}\n"
     ]
    }
   ],
   "source": [
    "dicio = {'nome': 'Erick'}\n",
    "\n",
    "# Atualiza o elemento de chave 'nome'\n",
    "dicio.update({'nome':'Matheus'})\n",
    "\n",
    "# Cria os elementos de chave 'idade' e 'tamanho'\n",
    "dicio.update({'idade':18})\n",
    "dicio.update(tamanho=1.60)\n",
    "\n",
    "print(dicio)"
   ]
  },
  {
   "cell_type": "markdown",
   "id": "322d2b3c",
   "metadata": {
    "tags": []
   },
   "source": [
    "## Funções"
   ]
  },
  {
   "cell_type": "markdown",
   "id": "d274dc34",
   "metadata": {},
   "source": [
    "<center><img alt='Listas', src='https://tc.com.br/wp-content/uploads/2021/07/Img-texto-3.png'  width='60%' height='15%'> </center>\n"
   ]
  },
  {
   "cell_type": "markdown",
   "id": "19265629",
   "metadata": {},
   "source": [
    "Em Python, uma função é uma sequência de comandos que executa alguma tarefa e que tem um nome. A sua principal finalidade é nos ajudar a organizar programas em pedaços que correspondam a como imaginamos uma solução do problema."
   ]
  },
  {
   "cell_type": "markdown",
   "id": "20111ac7",
   "metadata": {},
   "source": [
    "### Definindo Funções:"
   ]
  },
  {
   "cell_type": "markdown",
   "id": "f66017ac",
   "metadata": {},
   "source": [
    "Em Python, criamos uma função usando a palavra reservada **`def`**. Por exemplo:"
   ]
  },
  {
   "cell_type": "code",
   "execution_count": 105,
   "id": "7288edaf",
   "metadata": {},
   "outputs": [],
   "source": [
    "def NOME(PARAMETROS):\n",
    "    COMANDOS"
   ]
  },
  {
   "cell_type": "code",
   "execution_count": 106,
   "id": "e213a4ac",
   "metadata": {},
   "outputs": [],
   "source": [
    "# Criar uma função para printar um nome\n",
    "def hello(meu_nome):\n",
    "    print('Olá', meu_nome)"
   ]
  },
  {
   "cell_type": "markdown",
   "id": "b5464d20",
   "metadata": {},
   "source": [
    "Para executar a função, de forma semelhante ao que ocorre em outras linguagens, devemos simplesmente chamar seu nome e passar os parâmetros esperados entre parênteses, conforme o código a seguir."
   ]
  },
  {
   "cell_type": "code",
   "execution_count": 107,
   "id": "672a0d03",
   "metadata": {},
   "outputs": [
    {
     "name": "stdout",
     "output_type": "stream",
     "text": [
      "Olá Luiz Octavio\n"
     ]
    }
   ],
   "source": [
    "hello('Luiz Octavio')"
   ]
  },
  {
   "cell_type": "markdown",
   "id": "3259c029",
   "metadata": {},
   "source": [
    "Caso seja necessário, também é possível definir funções com nenhum ou vários argumentos, como no código abaixo:"
   ]
  },
  {
   "cell_type": "code",
   "execution_count": 108,
   "id": "58d22d5c",
   "metadata": {},
   "outputs": [],
   "source": [
    "def hello(meu_nome,idade):\n",
    "    print('Olá',meu_nome,' e sua idade é:',idade, 'anos')"
   ]
  },
  {
   "cell_type": "code",
   "execution_count": 109,
   "id": "e5beabd1",
   "metadata": {},
   "outputs": [
    {
     "name": "stdout",
     "output_type": "stream",
     "text": [
      "Olá Luiz Octavio  e sua idade é: 29 anos\n"
     ]
    }
   ],
   "source": [
    "hello('Luiz Octavio', 29)"
   ]
  },
  {
   "cell_type": "markdown",
   "id": "85348204",
   "metadata": {},
   "source": [
    "Função com **`return`**\n",
    "\n",
    "Algumas considerações sobre o return.\n",
    "\n",
    "* O return finaliza a função, ou seja, ela sai da execução da função.\n",
    "* Pode-se em uma função, diferentes returns.\n",
    "* Pode-se em uma função retornar qualquer tipo de dado, e até mesmo múltiplos valores."
   ]
  },
  {
   "cell_type": "code",
   "execution_count": 110,
   "id": "ae79cf84",
   "metadata": {},
   "outputs": [],
   "source": [
    "# Exemplo 1: O `return` finaliza a função, ou seja, ela sai da execução da função.\n",
    "def diz_oi():\n",
    "    return 'oi!'\n",
    "    print('Estou sendo executado após o retorno')  # Esta linha nunca será executada."
   ]
  },
  {
   "cell_type": "code",
   "execution_count": 111,
   "id": "0b1305d8",
   "metadata": {},
   "outputs": [
    {
     "data": {
      "text/plain": [
       "'oi!'"
      ]
     },
     "execution_count": 111,
     "metadata": {},
     "output_type": "execute_result"
    }
   ],
   "source": [
    "diz_oi()"
   ]
  },
  {
   "cell_type": "code",
   "execution_count": 112,
   "id": "770f9bb3",
   "metadata": {},
   "outputs": [
    {
     "name": "stdout",
     "output_type": "stream",
     "text": [
      "3.2\n"
     ]
    }
   ],
   "source": [
    "# Exemplo 2: Pode-se em uma função, diferentes `returns`.\n",
    "def nova_funcao():\n",
    "    variavel = None\n",
    "    if variavel:\n",
    "        return 4\n",
    "    elif variavel is None:\n",
    "        return 3.2\n",
    "    return 'b'\n",
    "\n",
    "print(nova_funcao())  # 3.2"
   ]
  },
  {
   "cell_type": "code",
   "execution_count": 113,
   "id": "44e4eb7a",
   "metadata": {},
   "outputs": [
    {
     "data": {
      "text/plain": [
       "25"
      ]
     },
     "execution_count": 113,
     "metadata": {},
     "output_type": "execute_result"
    }
   ],
   "source": [
    "# Caso o parâmetro (numero) não seja informado, será retornado erro (TypeError), ou seja, ele é obrigatório.\n",
    "def quadrado(numero):\n",
    "    return numero ** 2  # numero elevado ao quadrado.\n",
    "\n",
    "quadrado(5)"
   ]
  },
  {
   "cell_type": "markdown",
   "id": "b1c68cc4-864d-4c8e-968c-47f9f01d5caa",
   "metadata": {},
   "source": [
    "**Por Hoje é só pessoal !!!!**\n",
    "\n",
    "<center><img src='https://aventurasnahistoria.uol.com.br/media/stories/5-fatos-curiosos-sobre-os-simpsons/assets/3.gif'></center>"
   ]
  }
 ],
 "metadata": {
  "kernelspec": {
   "display_name": "maps",
   "language": "python",
   "name": "maps"
  },
  "language_info": {
   "codemirror_mode": {
    "name": "ipython",
    "version": 3
   },
   "file_extension": ".py",
   "mimetype": "text/x-python",
   "name": "python",
   "nbconvert_exporter": "python",
   "pygments_lexer": "ipython3",
   "version": "3.7.12"
  },
  "toc": {
   "base_numbering": 1,
   "nav_menu": {},
   "number_sections": true,
   "sideBar": true,
   "skip_h1_title": false,
   "title_cell": "Table of Contents",
   "title_sidebar": "Contents",
   "toc_cell": false,
   "toc_position": {
    "height": "calc(100% - 180px)",
    "left": "10px",
    "top": "150px",
    "width": "295px"
   },
   "toc_section_display": true,
   "toc_window_display": true
  },
  "toc-autonumbering": true,
  "toc-showcode": false,
  "toc-showmarkdowntxt": false,
  "varInspector": {
   "cols": {
    "lenName": 16,
    "lenType": 16,
    "lenVar": 40
   },
   "kernels_config": {
    "python": {
     "delete_cmd_postfix": "",
     "delete_cmd_prefix": "del ",
     "library": "var_list.py",
     "varRefreshCmd": "print(var_dic_list())"
    },
    "r": {
     "delete_cmd_postfix": ") ",
     "delete_cmd_prefix": "rm(",
     "library": "var_list.r",
     "varRefreshCmd": "cat(var_dic_list()) "
    }
   },
   "types_to_exclude": [
    "module",
    "function",
    "builtin_function_or_method",
    "instance",
    "_Feature"
   ],
   "window_display": false
  }
 },
 "nbformat": 4,
 "nbformat_minor": 5
}
