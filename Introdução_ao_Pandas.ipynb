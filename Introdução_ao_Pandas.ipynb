{
  "cells": [
    {
      "cell_type": "markdown",
      "metadata": {
        "id": "view-in-github",
        "colab_type": "text"
      },
      "source": [
        "<a href=\"https://colab.research.google.com/github/Luiz-Octavioo/Curso-de-Python-para-Estudos-Climaticos/blob/main/Introdu%C3%A7%C3%A3o_ao_Pandas.ipynb\" target=\"_parent\"><img src=\"https://colab.research.google.com/assets/colab-badge.svg\" alt=\"Open In Colab\"/></a>"
      ]
    },
    {
      "cell_type": "markdown",
      "id": "b39493c8",
      "metadata": {
        "id": "b39493c8"
      },
      "source": [
        "<center> <img src=https://s3-ap-south-1.amazonaws.com/av-blog-media/wp-content/uploads/2018/03/pandas.jpg width=50% height=20%> <center>\n",
        "    \n",
        " O Pandas é uma biblioteca do Python utilizada para análise e manipulação de dados e nos permite trabalhar de forma rápida e eficiente com arquivos do tipo csv,excel,txt,etc.\n",
        "\n",
        "    \n",
        "A biblioteca fornece duas maneiras de estruturar os nossos dados:\n",
        "    \n",
        "# DATAFRAME\n",
        "    \n",
        "O DataFrame que possui uma estrutura tabular de N-dimensões, onde cada coluna é um campo da tabela e cada linha um registro.\n",
        "    \n",
        " \n",
        "<!-- <center> <img src=https://minerandodados.com.br/wp-content/uploads/2019/12/DataFrame.png width=30% height=20%> <center> -->\n",
        "    \n",
        "\n",
        "# SERIES    \n",
        "    \n",
        "A Series que é uma matriz unidimensional que contém uma sequencia de valores acompanhado de seus respectivos índices.    \n",
        "    \n",
        "<!-- <center> <img src=https://minerandodados.com.br/wp-content/uploads/2019/12/Series.png width=30% height=10%> <center> -->"
      ]
    },
    {
      "cell_type": "markdown",
      "id": "7084c00f",
      "metadata": {
        "id": "7084c00f"
      },
      "source": [
        "Pela convenção da comunidade, o Pandas é reconhecido pela abreviatura **pd**. \n",
        "\n",
        "Isto é, podemos importá-lo da seguinte maneira:"
      ]
    },
    {
      "cell_type": "code",
      "execution_count": null,
      "id": "bceb65e7",
      "metadata": {
        "id": "bceb65e7"
      },
      "outputs": [],
      "source": [
        "# Importar o pacote do pandas\n",
        "import pandas as pd"
      ]
    },
    {
      "cell_type": "markdown",
      "id": "51621517-c670-4644-975f-9f9d742c5868",
      "metadata": {
        "tags": [],
        "id": "51621517-c670-4644-975f-9f9d742c5868"
      },
      "source": [
        "## Importando o Banco de dados"
      ]
    },
    {
      "cell_type": "markdown",
      "id": "eafe152a-fa82-40f4-abab-04632bc13398",
      "metadata": {
        "id": "eafe152a-fa82-40f4-abab-04632bc13398"
      },
      "source": [
        "o PANDAS disponibiliza varias métodos de importação de banco de dados.\n",
        "\n",
        "\n",
        "Entre eles tem o **`pd.read_csv`, `pd.read_excel`**"
      ]
    },
    {
      "cell_type": "markdown",
      "id": "b259e022-b870-4ffe-b206-7249f81f7d27",
      "metadata": {
        "id": "b259e022-b870-4ffe-b206-7249f81f7d27"
      },
      "source": [
        "Vamos utilizar a função **`pd.read_excel`** para ler um banco de dados em formato **`.xlsx`**"
      ]
    },
    {
      "cell_type": "code",
      "execution_count": null,
      "id": "a8be1dcd",
      "metadata": {
        "id": "a8be1dcd"
      },
      "outputs": [],
      "source": [
        "# Ler um dataframe\n",
        "df = pd.read_excel('weather_data.xlsx')"
      ]
    },
    {
      "cell_type": "code",
      "execution_count": null,
      "id": "3a8c5799-9c6f-4994-a928-470c3203563f",
      "metadata": {
        "id": "3a8c5799-9c6f-4994-a928-470c3203563f",
        "outputId": "090a922c-8413-4bce-f768-4db0c9fd8115"
      },
      "outputs": [
        {
          "data": {
            "text/plain": [
              "pandas.core.frame.DataFrame"
            ]
          },
          "execution_count": 3,
          "metadata": {},
          "output_type": "execute_result"
        }
      ],
      "source": [
        "# Checando o tipo do dado\n",
        "type(df)"
      ]
    },
    {
      "cell_type": "code",
      "execution_count": null,
      "id": "811b67f1",
      "metadata": {
        "id": "811b67f1",
        "outputId": "f0c3b3c5-2bfe-4f25-cdf6-3e3ec6b8440a"
      },
      "outputs": [
        {
          "data": {
            "text/html": [
              "<div>\n",
              "<style scoped>\n",
              "    .dataframe tbody tr th:only-of-type {\n",
              "        vertical-align: middle;\n",
              "    }\n",
              "\n",
              "    .dataframe tbody tr th {\n",
              "        vertical-align: top;\n",
              "    }\n",
              "\n",
              "    .dataframe thead th {\n",
              "        text-align: right;\n",
              "    }\n",
              "</style>\n",
              "<table border=\"1\" class=\"dataframe\">\n",
              "  <thead>\n",
              "    <tr style=\"text-align: right;\">\n",
              "      <th></th>\n",
              "      <th>Time</th>\n",
              "      <th>Precipitation</th>\n",
              "      <th>Max_Temperature</th>\n",
              "      <th>Min_Temperature</th>\n",
              "    </tr>\n",
              "  </thead>\n",
              "  <tbody>\n",
              "    <tr>\n",
              "      <th>0</th>\n",
              "      <td>1979-01-01</td>\n",
              "      <td>455.021210</td>\n",
              "      <td>30.201332</td>\n",
              "      <td>19.996052</td>\n",
              "    </tr>\n",
              "    <tr>\n",
              "      <th>1</th>\n",
              "      <td>1979-02-01</td>\n",
              "      <td>338.217957</td>\n",
              "      <td>29.395452</td>\n",
              "      <td>19.578264</td>\n",
              "    </tr>\n",
              "    <tr>\n",
              "      <th>2</th>\n",
              "      <td>1979-03-01</td>\n",
              "      <td>491.303711</td>\n",
              "      <td>31.259825</td>\n",
              "      <td>20.805937</td>\n",
              "    </tr>\n",
              "    <tr>\n",
              "      <th>3</th>\n",
              "      <td>1979-04-01</td>\n",
              "      <td>191.876755</td>\n",
              "      <td>30.867510</td>\n",
              "      <td>21.428846</td>\n",
              "    </tr>\n",
              "    <tr>\n",
              "      <th>4</th>\n",
              "      <td>1979-05-01</td>\n",
              "      <td>256.988159</td>\n",
              "      <td>31.247507</td>\n",
              "      <td>21.277273</td>\n",
              "    </tr>\n",
              "    <tr>\n",
              "      <th>...</th>\n",
              "      <td>...</td>\n",
              "      <td>...</td>\n",
              "      <td>...</td>\n",
              "      <td>...</td>\n",
              "    </tr>\n",
              "    <tr>\n",
              "      <th>499</th>\n",
              "      <td>2020-08-01</td>\n",
              "      <td>12.060126</td>\n",
              "      <td>35.065140</td>\n",
              "      <td>22.120180</td>\n",
              "    </tr>\n",
              "    <tr>\n",
              "      <th>500</th>\n",
              "      <td>2020-09-01</td>\n",
              "      <td>119.848358</td>\n",
              "      <td>34.769093</td>\n",
              "      <td>23.156425</td>\n",
              "    </tr>\n",
              "    <tr>\n",
              "      <th>501</th>\n",
              "      <td>2020-10-01</td>\n",
              "      <td>94.975677</td>\n",
              "      <td>33.413387</td>\n",
              "      <td>23.048061</td>\n",
              "    </tr>\n",
              "    <tr>\n",
              "      <th>502</th>\n",
              "      <td>2020-11-01</td>\n",
              "      <td>139.511963</td>\n",
              "      <td>32.689674</td>\n",
              "      <td>23.355593</td>\n",
              "    </tr>\n",
              "    <tr>\n",
              "      <th>503</th>\n",
              "      <td>2020-12-01</td>\n",
              "      <td>156.649399</td>\n",
              "      <td>31.290405</td>\n",
              "      <td>23.005072</td>\n",
              "    </tr>\n",
              "  </tbody>\n",
              "</table>\n",
              "<p>504 rows × 4 columns</p>\n",
              "</div>"
            ],
            "text/plain": [
              "          Time  Precipitation  Max_Temperature  Min_Temperature\n",
              "0   1979-01-01     455.021210        30.201332        19.996052\n",
              "1   1979-02-01     338.217957        29.395452        19.578264\n",
              "2   1979-03-01     491.303711        31.259825        20.805937\n",
              "3   1979-04-01     191.876755        30.867510        21.428846\n",
              "4   1979-05-01     256.988159        31.247507        21.277273\n",
              "..         ...            ...              ...              ...\n",
              "499 2020-08-01      12.060126        35.065140        22.120180\n",
              "500 2020-09-01     119.848358        34.769093        23.156425\n",
              "501 2020-10-01      94.975677        33.413387        23.048061\n",
              "502 2020-11-01     139.511963        32.689674        23.355593\n",
              "503 2020-12-01     156.649399        31.290405        23.005072\n",
              "\n",
              "[504 rows x 4 columns]"
            ]
          },
          "execution_count": 4,
          "metadata": {},
          "output_type": "execute_result"
        }
      ],
      "source": [
        "# Visualizar o banco de dados\n",
        "df"
      ]
    },
    {
      "cell_type": "code",
      "execution_count": null,
      "id": "0e5e6c8c",
      "metadata": {
        "id": "0e5e6c8c",
        "outputId": "a10fa192-d5ed-4860-ff8c-0239dc2d1cf9"
      },
      "outputs": [
        {
          "data": {
            "text/html": [
              "<div>\n",
              "<style scoped>\n",
              "    .dataframe tbody tr th:only-of-type {\n",
              "        vertical-align: middle;\n",
              "    }\n",
              "\n",
              "    .dataframe tbody tr th {\n",
              "        vertical-align: top;\n",
              "    }\n",
              "\n",
              "    .dataframe thead th {\n",
              "        text-align: right;\n",
              "    }\n",
              "</style>\n",
              "<table border=\"1\" class=\"dataframe\">\n",
              "  <thead>\n",
              "    <tr style=\"text-align: right;\">\n",
              "      <th></th>\n",
              "      <th>Time</th>\n",
              "      <th>Precipitation</th>\n",
              "      <th>Max_Temperature</th>\n",
              "      <th>Min_Temperature</th>\n",
              "    </tr>\n",
              "  </thead>\n",
              "  <tbody>\n",
              "    <tr>\n",
              "      <th>0</th>\n",
              "      <td>1979-01-01</td>\n",
              "      <td>455.021210</td>\n",
              "      <td>30.201332</td>\n",
              "      <td>19.996052</td>\n",
              "    </tr>\n",
              "    <tr>\n",
              "      <th>1</th>\n",
              "      <td>1979-02-01</td>\n",
              "      <td>338.217957</td>\n",
              "      <td>29.395452</td>\n",
              "      <td>19.578264</td>\n",
              "    </tr>\n",
              "    <tr>\n",
              "      <th>2</th>\n",
              "      <td>1979-03-01</td>\n",
              "      <td>491.303711</td>\n",
              "      <td>31.259825</td>\n",
              "      <td>20.805937</td>\n",
              "    </tr>\n",
              "    <tr>\n",
              "      <th>3</th>\n",
              "      <td>1979-04-01</td>\n",
              "      <td>191.876755</td>\n",
              "      <td>30.867510</td>\n",
              "      <td>21.428846</td>\n",
              "    </tr>\n",
              "    <tr>\n",
              "      <th>4</th>\n",
              "      <td>1979-05-01</td>\n",
              "      <td>256.988159</td>\n",
              "      <td>31.247507</td>\n",
              "      <td>21.277273</td>\n",
              "    </tr>\n",
              "  </tbody>\n",
              "</table>\n",
              "</div>"
            ],
            "text/plain": [
              "        Time  Precipitation  Max_Temperature  Min_Temperature\n",
              "0 1979-01-01     455.021210        30.201332        19.996052\n",
              "1 1979-02-01     338.217957        29.395452        19.578264\n",
              "2 1979-03-01     491.303711        31.259825        20.805937\n",
              "3 1979-04-01     191.876755        30.867510        21.428846\n",
              "4 1979-05-01     256.988159        31.247507        21.277273"
            ]
          },
          "execution_count": 5,
          "metadata": {},
          "output_type": "execute_result"
        }
      ],
      "source": [
        "# Ver os primeiras linhas do banco de dados\n",
        "df.head()"
      ]
    },
    {
      "cell_type": "code",
      "execution_count": null,
      "id": "4fd9248e",
      "metadata": {
        "id": "4fd9248e",
        "outputId": "a9ba1f70-e777-4ee9-8780-f6dee2243648"
      },
      "outputs": [
        {
          "data": {
            "text/html": [
              "<div>\n",
              "<style scoped>\n",
              "    .dataframe tbody tr th:only-of-type {\n",
              "        vertical-align: middle;\n",
              "    }\n",
              "\n",
              "    .dataframe tbody tr th {\n",
              "        vertical-align: top;\n",
              "    }\n",
              "\n",
              "    .dataframe thead th {\n",
              "        text-align: right;\n",
              "    }\n",
              "</style>\n",
              "<table border=\"1\" class=\"dataframe\">\n",
              "  <thead>\n",
              "    <tr style=\"text-align: right;\">\n",
              "      <th></th>\n",
              "      <th>Time</th>\n",
              "      <th>Precipitation</th>\n",
              "      <th>Max_Temperature</th>\n",
              "      <th>Min_Temperature</th>\n",
              "    </tr>\n",
              "  </thead>\n",
              "  <tbody>\n",
              "    <tr>\n",
              "      <th>499</th>\n",
              "      <td>2020-08-01</td>\n",
              "      <td>12.060126</td>\n",
              "      <td>35.065140</td>\n",
              "      <td>22.120180</td>\n",
              "    </tr>\n",
              "    <tr>\n",
              "      <th>500</th>\n",
              "      <td>2020-09-01</td>\n",
              "      <td>119.848358</td>\n",
              "      <td>34.769093</td>\n",
              "      <td>23.156425</td>\n",
              "    </tr>\n",
              "    <tr>\n",
              "      <th>501</th>\n",
              "      <td>2020-10-01</td>\n",
              "      <td>94.975677</td>\n",
              "      <td>33.413387</td>\n",
              "      <td>23.048061</td>\n",
              "    </tr>\n",
              "    <tr>\n",
              "      <th>502</th>\n",
              "      <td>2020-11-01</td>\n",
              "      <td>139.511963</td>\n",
              "      <td>32.689674</td>\n",
              "      <td>23.355593</td>\n",
              "    </tr>\n",
              "    <tr>\n",
              "      <th>503</th>\n",
              "      <td>2020-12-01</td>\n",
              "      <td>156.649399</td>\n",
              "      <td>31.290405</td>\n",
              "      <td>23.005072</td>\n",
              "    </tr>\n",
              "  </tbody>\n",
              "</table>\n",
              "</div>"
            ],
            "text/plain": [
              "          Time  Precipitation  Max_Temperature  Min_Temperature\n",
              "499 2020-08-01      12.060126        35.065140        22.120180\n",
              "500 2020-09-01     119.848358        34.769093        23.156425\n",
              "501 2020-10-01      94.975677        33.413387        23.048061\n",
              "502 2020-11-01     139.511963        32.689674        23.355593\n",
              "503 2020-12-01     156.649399        31.290405        23.005072"
            ]
          },
          "execution_count": 6,
          "metadata": {},
          "output_type": "execute_result"
        }
      ],
      "source": [
        "# Ver as ultimas linhas do banco de dados\n",
        "df.tail()"
      ]
    },
    {
      "cell_type": "code",
      "execution_count": null,
      "id": "d565c2fa",
      "metadata": {
        "id": "d565c2fa",
        "outputId": "e226562a-561a-43eb-ffa6-8a95423d6b4c"
      },
      "outputs": [
        {
          "name": "stdout",
          "output_type": "stream",
          "text": [
            "<class 'pandas.core.frame.DataFrame'>\n",
            "RangeIndex: 504 entries, 0 to 503\n",
            "Data columns (total 4 columns):\n",
            " #   Column           Non-Null Count  Dtype         \n",
            "---  ------           --------------  -----         \n",
            " 0   Time             504 non-null    datetime64[ns]\n",
            " 1   Precipitation    504 non-null    float64       \n",
            " 2   Max_Temperature  504 non-null    float64       \n",
            " 3   Min_Temperature  504 non-null    float64       \n",
            "dtypes: datetime64[ns](1), float64(3)\n",
            "memory usage: 15.9 KB\n"
          ]
        }
      ],
      "source": [
        "# Verificar informações sobre o banco de dados\n",
        "df.info()"
      ]
    },
    {
      "cell_type": "code",
      "execution_count": null,
      "id": "43f761f8",
      "metadata": {
        "id": "43f761f8",
        "outputId": "f93ac3cf-3947-486b-adcb-bc52a5f3b6db"
      },
      "outputs": [
        {
          "data": {
            "text/plain": [
              "Time               datetime64[ns]\n",
              "Precipitation             float64\n",
              "Max_Temperature           float64\n",
              "Min_Temperature           float64\n",
              "dtype: object"
            ]
          },
          "execution_count": 8,
          "metadata": {},
          "output_type": "execute_result"
        }
      ],
      "source": [
        "# Outra maneira de verificar informaçoes sobre o  tipo de cada dado\n",
        "df.dtypes"
      ]
    },
    {
      "cell_type": "markdown",
      "id": "d42aa270-ad74-425a-8b91-cb3e9ce58d4d",
      "metadata": {
        "id": "d42aa270-ad74-425a-8b91-cb3e9ce58d4d"
      },
      "source": [
        "O pandas pode acessar as colunas de um dataframe utilizando a seguinte sintaxe:\n",
        "\n",
        "**dataframe['nome_coluna']**\n",
        "\n",
        "ou\n",
        "\n",
        "**dataframe.nome_coluna**\n"
      ]
    },
    {
      "cell_type": "code",
      "execution_count": null,
      "id": "f7c31831",
      "metadata": {
        "id": "f7c31831",
        "outputId": "dd780a39-03f0-455f-b7a1-39445b612926"
      },
      "outputs": [
        {
          "data": {
            "text/plain": [
              "0      455.021210\n",
              "1      338.217957\n",
              "2      491.303711\n",
              "3      191.876755\n",
              "4      256.988159\n",
              "          ...    \n",
              "499     12.060126\n",
              "500    119.848358\n",
              "501     94.975677\n",
              "502    139.511963\n",
              "503    156.649399\n",
              "Name: Precipitation, Length: 504, dtype: float64"
            ]
          },
          "execution_count": 9,
          "metadata": {},
          "output_type": "execute_result"
        }
      ],
      "source": [
        "# Acessar apenas uma coluna especifica com o pandas\n",
        "df.Precipitation"
      ]
    },
    {
      "cell_type": "code",
      "execution_count": null,
      "id": "fd147d34",
      "metadata": {
        "id": "fd147d34",
        "outputId": "abf079af-cf32-4245-9c45-3c2db4a1b419"
      },
      "outputs": [
        {
          "data": {
            "text/plain": [
              "0      455.021210\n",
              "1      338.217957\n",
              "2      491.303711\n",
              "3      191.876755\n",
              "4      256.988159\n",
              "          ...    \n",
              "499     12.060126\n",
              "500    119.848358\n",
              "501     94.975677\n",
              "502    139.511963\n",
              "503    156.649399\n",
              "Name: Precipitation, Length: 504, dtype: float64"
            ]
          },
          "execution_count": 10,
          "metadata": {},
          "output_type": "execute_result"
        }
      ],
      "source": [
        "# Ou\n",
        "df['Precipitation']"
      ]
    },
    {
      "cell_type": "code",
      "execution_count": null,
      "id": "9d930081",
      "metadata": {
        "id": "9d930081"
      },
      "outputs": [],
      "source": [
        "# Transformar a coluna de data em indice para futuras manipulaçoes\n",
        "df.set_index('Time', inplace=True) # Utilizamos o inplace para a alteraçao ser feita no dataframe"
      ]
    },
    {
      "cell_type": "code",
      "execution_count": null,
      "id": "6c5b7719",
      "metadata": {
        "id": "6c5b7719",
        "outputId": "471ac9c0-cb27-4b02-ec91-9fd609988a44"
      },
      "outputs": [
        {
          "data": {
            "text/html": [
              "<div>\n",
              "<style scoped>\n",
              "    .dataframe tbody tr th:only-of-type {\n",
              "        vertical-align: middle;\n",
              "    }\n",
              "\n",
              "    .dataframe tbody tr th {\n",
              "        vertical-align: top;\n",
              "    }\n",
              "\n",
              "    .dataframe thead th {\n",
              "        text-align: right;\n",
              "    }\n",
              "</style>\n",
              "<table border=\"1\" class=\"dataframe\">\n",
              "  <thead>\n",
              "    <tr style=\"text-align: right;\">\n",
              "      <th></th>\n",
              "      <th>Precipitation</th>\n",
              "      <th>Max_Temperature</th>\n",
              "      <th>Min_Temperature</th>\n",
              "    </tr>\n",
              "    <tr>\n",
              "      <th>Time</th>\n",
              "      <th></th>\n",
              "      <th></th>\n",
              "      <th></th>\n",
              "    </tr>\n",
              "  </thead>\n",
              "  <tbody>\n",
              "    <tr>\n",
              "      <th>1979-01-01</th>\n",
              "      <td>False</td>\n",
              "      <td>False</td>\n",
              "      <td>False</td>\n",
              "    </tr>\n",
              "    <tr>\n",
              "      <th>1979-02-01</th>\n",
              "      <td>False</td>\n",
              "      <td>False</td>\n",
              "      <td>False</td>\n",
              "    </tr>\n",
              "    <tr>\n",
              "      <th>1979-03-01</th>\n",
              "      <td>False</td>\n",
              "      <td>False</td>\n",
              "      <td>False</td>\n",
              "    </tr>\n",
              "    <tr>\n",
              "      <th>1979-04-01</th>\n",
              "      <td>False</td>\n",
              "      <td>False</td>\n",
              "      <td>False</td>\n",
              "    </tr>\n",
              "    <tr>\n",
              "      <th>1979-05-01</th>\n",
              "      <td>False</td>\n",
              "      <td>False</td>\n",
              "      <td>False</td>\n",
              "    </tr>\n",
              "    <tr>\n",
              "      <th>...</th>\n",
              "      <td>...</td>\n",
              "      <td>...</td>\n",
              "      <td>...</td>\n",
              "    </tr>\n",
              "    <tr>\n",
              "      <th>2020-08-01</th>\n",
              "      <td>False</td>\n",
              "      <td>False</td>\n",
              "      <td>False</td>\n",
              "    </tr>\n",
              "    <tr>\n",
              "      <th>2020-09-01</th>\n",
              "      <td>False</td>\n",
              "      <td>False</td>\n",
              "      <td>False</td>\n",
              "    </tr>\n",
              "    <tr>\n",
              "      <th>2020-10-01</th>\n",
              "      <td>False</td>\n",
              "      <td>False</td>\n",
              "      <td>False</td>\n",
              "    </tr>\n",
              "    <tr>\n",
              "      <th>2020-11-01</th>\n",
              "      <td>False</td>\n",
              "      <td>False</td>\n",
              "      <td>False</td>\n",
              "    </tr>\n",
              "    <tr>\n",
              "      <th>2020-12-01</th>\n",
              "      <td>False</td>\n",
              "      <td>False</td>\n",
              "      <td>False</td>\n",
              "    </tr>\n",
              "  </tbody>\n",
              "</table>\n",
              "<p>504 rows × 3 columns</p>\n",
              "</div>"
            ],
            "text/plain": [
              "            Precipitation  Max_Temperature  Min_Temperature\n",
              "Time                                                       \n",
              "1979-01-01          False            False            False\n",
              "1979-02-01          False            False            False\n",
              "1979-03-01          False            False            False\n",
              "1979-04-01          False            False            False\n",
              "1979-05-01          False            False            False\n",
              "...                   ...              ...              ...\n",
              "2020-08-01          False            False            False\n",
              "2020-09-01          False            False            False\n",
              "2020-10-01          False            False            False\n",
              "2020-11-01          False            False            False\n",
              "2020-12-01          False            False            False\n",
              "\n",
              "[504 rows x 3 columns]"
            ]
          },
          "execution_count": 12,
          "metadata": {},
          "output_type": "execute_result"
        }
      ],
      "source": [
        "# Verificar se existe falhas no banco de dados\n",
        "df.isna()"
      ]
    },
    {
      "cell_type": "markdown",
      "id": "f2c0834f",
      "metadata": {
        "id": "f2c0834f"
      },
      "source": [
        " Desta maneira não fica muito intuitivo verificar as falhas no banco de dados. Por isso \n",
        " em conjunto utilizamos o método **`sum`** do pandas para fazer a soma dos valores nulos se caso, \n",
        " eles existam"
      ]
    },
    {
      "cell_type": "code",
      "execution_count": null,
      "id": "b9ffb955",
      "metadata": {
        "id": "b9ffb955",
        "outputId": "f8fed2cb-bbd9-4093-a76e-9f9d989b2cd1"
      },
      "outputs": [
        {
          "data": {
            "text/plain": [
              "Precipitation      0\n",
              "Max_Temperature    0\n",
              "Min_Temperature    0\n",
              "dtype: int64"
            ]
          },
          "execution_count": 13,
          "metadata": {},
          "output_type": "execute_result"
        }
      ],
      "source": [
        "df.isna().sum()"
      ]
    },
    {
      "cell_type": "code",
      "execution_count": null,
      "id": "685db232",
      "metadata": {
        "id": "685db232",
        "outputId": "aabbf888-8da8-4c1a-ca1d-082693447622"
      },
      "outputs": [
        {
          "data": {
            "text/html": [
              "<div>\n",
              "<style scoped>\n",
              "    .dataframe tbody tr th:only-of-type {\n",
              "        vertical-align: middle;\n",
              "    }\n",
              "\n",
              "    .dataframe tbody tr th {\n",
              "        vertical-align: top;\n",
              "    }\n",
              "\n",
              "    .dataframe thead th {\n",
              "        text-align: right;\n",
              "    }\n",
              "</style>\n",
              "<table border=\"1\" class=\"dataframe\">\n",
              "  <thead>\n",
              "    <tr style=\"text-align: right;\">\n",
              "      <th></th>\n",
              "      <th>Precipitation</th>\n",
              "      <th>Max_Temperature</th>\n",
              "      <th>Min_Temperature</th>\n",
              "    </tr>\n",
              "  </thead>\n",
              "  <tbody>\n",
              "    <tr>\n",
              "      <th>count</th>\n",
              "      <td>504.000000</td>\n",
              "      <td>504.000000</td>\n",
              "      <td>504.000000</td>\n",
              "    </tr>\n",
              "    <tr>\n",
              "      <th>mean</th>\n",
              "      <td>164.603227</td>\n",
              "      <td>31.797526</td>\n",
              "      <td>22.304100</td>\n",
              "    </tr>\n",
              "    <tr>\n",
              "      <th>std</th>\n",
              "      <td>119.357052</td>\n",
              "      <td>1.341052</td>\n",
              "      <td>1.053482</td>\n",
              "    </tr>\n",
              "    <tr>\n",
              "      <th>min</th>\n",
              "      <td>0.287184</td>\n",
              "      <td>28.669922</td>\n",
              "      <td>17.973585</td>\n",
              "    </tr>\n",
              "    <tr>\n",
              "      <th>25%</th>\n",
              "      <td>63.532836</td>\n",
              "      <td>30.870312</td>\n",
              "      <td>21.671768</td>\n",
              "    </tr>\n",
              "    <tr>\n",
              "      <th>50%</th>\n",
              "      <td>142.906311</td>\n",
              "      <td>31.585147</td>\n",
              "      <td>22.478896</td>\n",
              "    </tr>\n",
              "    <tr>\n",
              "      <th>75%</th>\n",
              "      <td>253.291790</td>\n",
              "      <td>32.636602</td>\n",
              "      <td>23.106882</td>\n",
              "    </tr>\n",
              "    <tr>\n",
              "      <th>max</th>\n",
              "      <td>588.296143</td>\n",
              "      <td>36.413834</td>\n",
              "      <td>24.366573</td>\n",
              "    </tr>\n",
              "  </tbody>\n",
              "</table>\n",
              "</div>"
            ],
            "text/plain": [
              "       Precipitation  Max_Temperature  Min_Temperature\n",
              "count     504.000000       504.000000       504.000000\n",
              "mean      164.603227        31.797526        22.304100\n",
              "std       119.357052         1.341052         1.053482\n",
              "min         0.287184        28.669922        17.973585\n",
              "25%        63.532836        30.870312        21.671768\n",
              "50%       142.906311        31.585147        22.478896\n",
              "75%       253.291790        32.636602        23.106882\n",
              "max       588.296143        36.413834        24.366573"
            ]
          },
          "execution_count": 14,
          "metadata": {},
          "output_type": "execute_result"
        }
      ],
      "source": [
        "# Vamos fazer uma rapida estatistica descritiva sobre o banco de dados\n",
        "df.describe()"
      ]
    },
    {
      "cell_type": "code",
      "execution_count": null,
      "id": "e9834d4d",
      "metadata": {
        "id": "e9834d4d",
        "outputId": "f528c486-1342-4eae-e6e9-a63af50840cf"
      },
      "outputs": [
        {
          "data": {
            "text/plain": [
              "count    504.000000\n",
              "mean      31.797526\n",
              "std        1.341052\n",
              "min       28.669922\n",
              "25%       30.870312\n",
              "50%       31.585147\n",
              "75%       32.636602\n",
              "max       36.413834\n",
              "Name: Max_Temperature, dtype: float64"
            ]
          },
          "execution_count": 15,
          "metadata": {},
          "output_type": "execute_result"
        }
      ],
      "source": [
        "# Aplicar a estatistica para apenas uma coluna especifica \n",
        "df.Max_Temperature.describe()"
      ]
    },
    {
      "cell_type": "markdown",
      "id": "bf775967",
      "metadata": {
        "id": "bf775967"
      },
      "source": [
        "No pandas ha operadores aritméticos para executar diversos calculos estatisticos\n",
        "\n",
        "\n",
        "Exemplo:"
      ]
    },
    {
      "cell_type": "code",
      "execution_count": null,
      "id": "c2810a18",
      "metadata": {
        "id": "c2810a18",
        "outputId": "33388f9c-58e1-4a87-e99b-3f9102a6d212"
      },
      "outputs": [
        {
          "data": {
            "text/plain": [
              "Precipitation      164.603227\n",
              "Max_Temperature     31.797526\n",
              "Min_Temperature     22.304100\n",
              "dtype: float64"
            ]
          },
          "execution_count": 16,
          "metadata": {},
          "output_type": "execute_result"
        }
      ],
      "source": [
        "# Média \n",
        "df.mean()"
      ]
    },
    {
      "cell_type": "code",
      "execution_count": null,
      "id": "aa7503fa",
      "metadata": {
        "tags": [],
        "id": "aa7503fa",
        "outputId": "5509edfe-0a9e-491b-f0f1-d9fc296b4762"
      },
      "outputs": [
        {
          "data": {
            "text/plain": [
              "Precipitation      82960.026231\n",
              "Max_Temperature    16025.953331\n",
              "Min_Temperature    11241.266441\n",
              "dtype: float64"
            ]
          },
          "execution_count": 17,
          "metadata": {},
          "output_type": "execute_result"
        }
      ],
      "source": [
        "# Soma\n",
        "df.sum()"
      ]
    },
    {
      "cell_type": "code",
      "execution_count": null,
      "id": "6b0f0263",
      "metadata": {
        "id": "6b0f0263",
        "outputId": "f9621a58-7de5-44a8-c0b8-f2b6009d3f14"
      },
      "outputs": [
        {
          "data": {
            "text/plain": [
              "Precipitation      142.906311\n",
              "Max_Temperature     31.585147\n",
              "Min_Temperature     22.478896\n",
              "dtype: float64"
            ]
          },
          "execution_count": 18,
          "metadata": {},
          "output_type": "execute_result"
        }
      ],
      "source": [
        "# Mediana\n",
        "df.median()"
      ]
    },
    {
      "cell_type": "code",
      "execution_count": null,
      "id": "317fc289",
      "metadata": {
        "id": "317fc289",
        "outputId": "fd5df569-825c-4b92-915e-fe039759d9d1"
      },
      "outputs": [
        {
          "data": {
            "text/plain": [
              "Precipitation      504\n",
              "Max_Temperature    504\n",
              "Min_Temperature    504\n",
              "dtype: int64"
            ]
          },
          "execution_count": 19,
          "metadata": {},
          "output_type": "execute_result"
        }
      ],
      "source": [
        "# Contagem\n",
        "df.count()"
      ]
    },
    {
      "cell_type": "code",
      "execution_count": null,
      "id": "f32eb43c",
      "metadata": {
        "id": "f32eb43c",
        "outputId": "063a5ce2-50f2-48e1-c94e-a355a0bb1003"
      },
      "outputs": [
        {
          "data": {
            "text/plain": [
              "Precipitation      119.357052\n",
              "Max_Temperature      1.341052\n",
              "Min_Temperature      1.053482\n",
              "dtype: float64"
            ]
          },
          "execution_count": 20,
          "metadata": {},
          "output_type": "execute_result"
        }
      ],
      "source": [
        "# Desvio Padrao\n",
        "df.std()"
      ]
    },
    {
      "cell_type": "markdown",
      "id": "76208ba1",
      "metadata": {
        "id": "76208ba1"
      },
      "source": [
        "Neste caso, estas operaçoes tambem podem ser feita em uma coluna especifica **`series`** do pandas\n",
        "\n",
        "\n",
        "**Exemplo:**"
      ]
    },
    {
      "cell_type": "code",
      "execution_count": null,
      "id": "32fd93d4",
      "metadata": {
        "id": "32fd93d4",
        "outputId": "d2ec323e-7ddf-459d-95cc-f5e3d2372b6f"
      },
      "outputs": [
        {
          "data": {
            "text/plain": [
              "31.797526450384233"
            ]
          },
          "execution_count": 21,
          "metadata": {},
          "output_type": "execute_result"
        }
      ],
      "source": [
        "df.Max_Temperature.mean()"
      ]
    },
    {
      "cell_type": "code",
      "execution_count": null,
      "id": "a50bf839",
      "metadata": {
        "id": "a50bf839",
        "outputId": "ee9f0755-a645-49e0-d172-508d63d91c82"
      },
      "outputs": [
        {
          "data": {
            "text/plain": [
              "1.341051647301171"
            ]
          },
          "execution_count": 22,
          "metadata": {},
          "output_type": "execute_result"
        }
      ],
      "source": [
        "df.Max_Temperature.std()"
      ]
    },
    {
      "cell_type": "markdown",
      "id": "a16db41a-6116-441d-a6d3-34a19d168a5f",
      "metadata": {
        "id": "a16db41a-6116-441d-a6d3-34a19d168a5f"
      },
      "source": [
        "### Criando uma nova coluna no PANDAS\n",
        "\n",
        "Para criar uma nova coluna no pandas, seguimos abordagem semelhante a aplicada em dicionários.\n",
        "\n",
        "\n",
        "**Exemplo**\n",
        "\n",
        "\n",
        "Vamos calcular a Temperatura Média do Ar com dados de Temperatura Máxima e Mínima"
      ]
    },
    {
      "cell_type": "code",
      "execution_count": null,
      "id": "ca6b1c5d-f350-4791-9ab1-b38017d04eee",
      "metadata": {
        "id": "ca6b1c5d-f350-4791-9ab1-b38017d04eee"
      },
      "outputs": [],
      "source": [
        "# Calculando a temperatura média\n",
        "df['Mean_Temperature'] = (df['Max_Temperature'] + df['Min_Temperature']) / 2"
      ]
    },
    {
      "cell_type": "code",
      "execution_count": null,
      "id": "0ddcf03a-9e75-406b-9979-dd370e676828",
      "metadata": {
        "id": "0ddcf03a-9e75-406b-9979-dd370e676828",
        "outputId": "0ef8090e-321f-49a2-9fa7-3425b2758d53"
      },
      "outputs": [
        {
          "data": {
            "text/html": [
              "<div>\n",
              "<style scoped>\n",
              "    .dataframe tbody tr th:only-of-type {\n",
              "        vertical-align: middle;\n",
              "    }\n",
              "\n",
              "    .dataframe tbody tr th {\n",
              "        vertical-align: top;\n",
              "    }\n",
              "\n",
              "    .dataframe thead th {\n",
              "        text-align: right;\n",
              "    }\n",
              "</style>\n",
              "<table border=\"1\" class=\"dataframe\">\n",
              "  <thead>\n",
              "    <tr style=\"text-align: right;\">\n",
              "      <th></th>\n",
              "      <th>Precipitation</th>\n",
              "      <th>Max_Temperature</th>\n",
              "      <th>Min_Temperature</th>\n",
              "      <th>Mean_Temperature</th>\n",
              "    </tr>\n",
              "    <tr>\n",
              "      <th>Time</th>\n",
              "      <th></th>\n",
              "      <th></th>\n",
              "      <th></th>\n",
              "      <th></th>\n",
              "    </tr>\n",
              "  </thead>\n",
              "  <tbody>\n",
              "    <tr>\n",
              "      <th>1979-01-01</th>\n",
              "      <td>455.021210</td>\n",
              "      <td>30.201332</td>\n",
              "      <td>19.996052</td>\n",
              "      <td>25.098692</td>\n",
              "    </tr>\n",
              "    <tr>\n",
              "      <th>1979-02-01</th>\n",
              "      <td>338.217957</td>\n",
              "      <td>29.395452</td>\n",
              "      <td>19.578264</td>\n",
              "      <td>24.486858</td>\n",
              "    </tr>\n",
              "    <tr>\n",
              "      <th>1979-03-01</th>\n",
              "      <td>491.303711</td>\n",
              "      <td>31.259825</td>\n",
              "      <td>20.805937</td>\n",
              "      <td>26.032881</td>\n",
              "    </tr>\n",
              "    <tr>\n",
              "      <th>1979-04-01</th>\n",
              "      <td>191.876755</td>\n",
              "      <td>30.867510</td>\n",
              "      <td>21.428846</td>\n",
              "      <td>26.148178</td>\n",
              "    </tr>\n",
              "    <tr>\n",
              "      <th>1979-05-01</th>\n",
              "      <td>256.988159</td>\n",
              "      <td>31.247507</td>\n",
              "      <td>21.277273</td>\n",
              "      <td>26.262390</td>\n",
              "    </tr>\n",
              "    <tr>\n",
              "      <th>...</th>\n",
              "      <td>...</td>\n",
              "      <td>...</td>\n",
              "      <td>...</td>\n",
              "      <td>...</td>\n",
              "    </tr>\n",
              "    <tr>\n",
              "      <th>2020-08-01</th>\n",
              "      <td>12.060126</td>\n",
              "      <td>35.065140</td>\n",
              "      <td>22.120180</td>\n",
              "      <td>28.592660</td>\n",
              "    </tr>\n",
              "    <tr>\n",
              "      <th>2020-09-01</th>\n",
              "      <td>119.848358</td>\n",
              "      <td>34.769093</td>\n",
              "      <td>23.156425</td>\n",
              "      <td>28.962759</td>\n",
              "    </tr>\n",
              "    <tr>\n",
              "      <th>2020-10-01</th>\n",
              "      <td>94.975677</td>\n",
              "      <td>33.413387</td>\n",
              "      <td>23.048061</td>\n",
              "      <td>28.230724</td>\n",
              "    </tr>\n",
              "    <tr>\n",
              "      <th>2020-11-01</th>\n",
              "      <td>139.511963</td>\n",
              "      <td>32.689674</td>\n",
              "      <td>23.355593</td>\n",
              "      <td>28.022634</td>\n",
              "    </tr>\n",
              "    <tr>\n",
              "      <th>2020-12-01</th>\n",
              "      <td>156.649399</td>\n",
              "      <td>31.290405</td>\n",
              "      <td>23.005072</td>\n",
              "      <td>27.147738</td>\n",
              "    </tr>\n",
              "  </tbody>\n",
              "</table>\n",
              "<p>504 rows × 4 columns</p>\n",
              "</div>"
            ],
            "text/plain": [
              "            Precipitation  Max_Temperature  Min_Temperature  Mean_Temperature\n",
              "Time                                                                         \n",
              "1979-01-01     455.021210        30.201332        19.996052         25.098692\n",
              "1979-02-01     338.217957        29.395452        19.578264         24.486858\n",
              "1979-03-01     491.303711        31.259825        20.805937         26.032881\n",
              "1979-04-01     191.876755        30.867510        21.428846         26.148178\n",
              "1979-05-01     256.988159        31.247507        21.277273         26.262390\n",
              "...                   ...              ...              ...               ...\n",
              "2020-08-01      12.060126        35.065140        22.120180         28.592660\n",
              "2020-09-01     119.848358        34.769093        23.156425         28.962759\n",
              "2020-10-01      94.975677        33.413387        23.048061         28.230724\n",
              "2020-11-01     139.511963        32.689674        23.355593         28.022634\n",
              "2020-12-01     156.649399        31.290405        23.005072         27.147738\n",
              "\n",
              "[504 rows x 4 columns]"
            ]
          },
          "execution_count": 24,
          "metadata": {},
          "output_type": "execute_result"
        }
      ],
      "source": [
        "# Verificando a nova Coluna\n",
        "df"
      ]
    },
    {
      "cell_type": "markdown",
      "id": "397a3edf-f5ec-4e9e-a80e-41950456ba7f",
      "metadata": {
        "id": "397a3edf-f5ec-4e9e-a80e-41950456ba7f"
      },
      "source": [
        "## Filtragem de valores por condicionais"
      ]
    },
    {
      "cell_type": "markdown",
      "id": "aaf58777",
      "metadata": {
        "id": "aaf58777"
      },
      "source": [
        "Podemos verificar tambem o banco de dados de acordo com um limite, um padrão ou um limiar\n",
        "\n",
        "Utilizando a funçao **`loc`** do pandas\n",
        "\n",
        "**Exemplo:**"
      ]
    },
    {
      "cell_type": "code",
      "execution_count": null,
      "id": "a295ec54",
      "metadata": {
        "id": "a295ec54",
        "outputId": "235cc32d-2842-4406-9ebe-66c572089d14"
      },
      "outputs": [
        {
          "data": {
            "text/html": [
              "<div>\n",
              "<style scoped>\n",
              "    .dataframe tbody tr th:only-of-type {\n",
              "        vertical-align: middle;\n",
              "    }\n",
              "\n",
              "    .dataframe tbody tr th {\n",
              "        vertical-align: top;\n",
              "    }\n",
              "\n",
              "    .dataframe thead th {\n",
              "        text-align: right;\n",
              "    }\n",
              "</style>\n",
              "<table border=\"1\" class=\"dataframe\">\n",
              "  <thead>\n",
              "    <tr style=\"text-align: right;\">\n",
              "      <th></th>\n",
              "      <th>Precipitation</th>\n",
              "      <th>Max_Temperature</th>\n",
              "      <th>Min_Temperature</th>\n",
              "      <th>Mean_Temperature</th>\n",
              "    </tr>\n",
              "    <tr>\n",
              "      <th>Time</th>\n",
              "      <th></th>\n",
              "      <th></th>\n",
              "      <th></th>\n",
              "      <th></th>\n",
              "    </tr>\n",
              "  </thead>\n",
              "  <tbody>\n",
              "    <tr>\n",
              "      <th>1979-01-01</th>\n",
              "      <td>455.021210</td>\n",
              "      <td>30.201332</td>\n",
              "      <td>19.996052</td>\n",
              "      <td>25.098692</td>\n",
              "    </tr>\n",
              "    <tr>\n",
              "      <th>1979-03-01</th>\n",
              "      <td>491.303711</td>\n",
              "      <td>31.259825</td>\n",
              "      <td>20.805937</td>\n",
              "      <td>26.032881</td>\n",
              "    </tr>\n",
              "    <tr>\n",
              "      <th>1980-01-01</th>\n",
              "      <td>445.744995</td>\n",
              "      <td>30.941853</td>\n",
              "      <td>21.786085</td>\n",
              "      <td>26.363969</td>\n",
              "    </tr>\n",
              "    <tr>\n",
              "      <th>1980-03-01</th>\n",
              "      <td>412.651428</td>\n",
              "      <td>32.577263</td>\n",
              "      <td>21.977953</td>\n",
              "      <td>27.277608</td>\n",
              "    </tr>\n",
              "    <tr>\n",
              "      <th>1981-03-01</th>\n",
              "      <td>487.087769</td>\n",
              "      <td>31.663687</td>\n",
              "      <td>22.177134</td>\n",
              "      <td>26.920410</td>\n",
              "    </tr>\n",
              "    <tr>\n",
              "      <th>1981-04-01</th>\n",
              "      <td>424.540131</td>\n",
              "      <td>31.206766</td>\n",
              "      <td>22.398924</td>\n",
              "      <td>26.802845</td>\n",
              "    </tr>\n",
              "    <tr>\n",
              "      <th>1982-01-01</th>\n",
              "      <td>457.060028</td>\n",
              "      <td>29.939602</td>\n",
              "      <td>21.688524</td>\n",
              "      <td>25.814063</td>\n",
              "    </tr>\n",
              "    <tr>\n",
              "      <th>1982-12-01</th>\n",
              "      <td>419.029449</td>\n",
              "      <td>30.701395</td>\n",
              "      <td>21.822632</td>\n",
              "      <td>26.262013</td>\n",
              "    </tr>\n",
              "    <tr>\n",
              "      <th>1985-01-01</th>\n",
              "      <td>459.070221</td>\n",
              "      <td>29.726282</td>\n",
              "      <td>21.422186</td>\n",
              "      <td>25.574234</td>\n",
              "    </tr>\n",
              "    <tr>\n",
              "      <th>1985-04-01</th>\n",
              "      <td>403.713440</td>\n",
              "      <td>30.742870</td>\n",
              "      <td>21.709520</td>\n",
              "      <td>26.226195</td>\n",
              "    </tr>\n",
              "    <tr>\n",
              "      <th>1985-12-01</th>\n",
              "      <td>468.312561</td>\n",
              "      <td>30.573500</td>\n",
              "      <td>21.804029</td>\n",
              "      <td>26.188765</td>\n",
              "    </tr>\n",
              "    <tr>\n",
              "      <th>1986-11-01</th>\n",
              "      <td>402.525055</td>\n",
              "      <td>31.530100</td>\n",
              "      <td>21.268545</td>\n",
              "      <td>26.399323</td>\n",
              "    </tr>\n",
              "    <tr>\n",
              "      <th>1987-02-01</th>\n",
              "      <td>438.456451</td>\n",
              "      <td>30.560246</td>\n",
              "      <td>20.943090</td>\n",
              "      <td>25.751668</td>\n",
              "    </tr>\n",
              "    <tr>\n",
              "      <th>1988-03-01</th>\n",
              "      <td>413.060669</td>\n",
              "      <td>31.505186</td>\n",
              "      <td>22.132795</td>\n",
              "      <td>26.818991</td>\n",
              "    </tr>\n",
              "    <tr>\n",
              "      <th>1992-02-01</th>\n",
              "      <td>431.062256</td>\n",
              "      <td>29.940937</td>\n",
              "      <td>22.737185</td>\n",
              "      <td>26.339061</td>\n",
              "    </tr>\n",
              "    <tr>\n",
              "      <th>1993-01-01</th>\n",
              "      <td>432.601166</td>\n",
              "      <td>30.422077</td>\n",
              "      <td>21.941334</td>\n",
              "      <td>26.181705</td>\n",
              "    </tr>\n",
              "    <tr>\n",
              "      <th>1994-03-01</th>\n",
              "      <td>416.108826</td>\n",
              "      <td>31.193197</td>\n",
              "      <td>22.772839</td>\n",
              "      <td>26.983018</td>\n",
              "    </tr>\n",
              "    <tr>\n",
              "      <th>1997-03-01</th>\n",
              "      <td>588.296143</td>\n",
              "      <td>30.311470</td>\n",
              "      <td>22.937586</td>\n",
              "      <td>26.624528</td>\n",
              "    </tr>\n",
              "    <tr>\n",
              "      <th>2017-01-01</th>\n",
              "      <td>413.305115</td>\n",
              "      <td>30.935074</td>\n",
              "      <td>22.718277</td>\n",
              "      <td>26.826675</td>\n",
              "    </tr>\n",
              "    <tr>\n",
              "      <th>2017-03-01</th>\n",
              "      <td>444.407837</td>\n",
              "      <td>32.097324</td>\n",
              "      <td>23.386301</td>\n",
              "      <td>27.741813</td>\n",
              "    </tr>\n",
              "    <tr>\n",
              "      <th>2018-02-01</th>\n",
              "      <td>488.614777</td>\n",
              "      <td>29.562311</td>\n",
              "      <td>22.776670</td>\n",
              "      <td>26.169491</td>\n",
              "    </tr>\n",
              "  </tbody>\n",
              "</table>\n",
              "</div>"
            ],
            "text/plain": [
              "            Precipitation  Max_Temperature  Min_Temperature  Mean_Temperature\n",
              "Time                                                                         \n",
              "1979-01-01     455.021210        30.201332        19.996052         25.098692\n",
              "1979-03-01     491.303711        31.259825        20.805937         26.032881\n",
              "1980-01-01     445.744995        30.941853        21.786085         26.363969\n",
              "1980-03-01     412.651428        32.577263        21.977953         27.277608\n",
              "1981-03-01     487.087769        31.663687        22.177134         26.920410\n",
              "1981-04-01     424.540131        31.206766        22.398924         26.802845\n",
              "1982-01-01     457.060028        29.939602        21.688524         25.814063\n",
              "1982-12-01     419.029449        30.701395        21.822632         26.262013\n",
              "1985-01-01     459.070221        29.726282        21.422186         25.574234\n",
              "1985-04-01     403.713440        30.742870        21.709520         26.226195\n",
              "1985-12-01     468.312561        30.573500        21.804029         26.188765\n",
              "1986-11-01     402.525055        31.530100        21.268545         26.399323\n",
              "1987-02-01     438.456451        30.560246        20.943090         25.751668\n",
              "1988-03-01     413.060669        31.505186        22.132795         26.818991\n",
              "1992-02-01     431.062256        29.940937        22.737185         26.339061\n",
              "1993-01-01     432.601166        30.422077        21.941334         26.181705\n",
              "1994-03-01     416.108826        31.193197        22.772839         26.983018\n",
              "1997-03-01     588.296143        30.311470        22.937586         26.624528\n",
              "2017-01-01     413.305115        30.935074        22.718277         26.826675\n",
              "2017-03-01     444.407837        32.097324        23.386301         27.741813\n",
              "2018-02-01     488.614777        29.562311        22.776670         26.169491"
            ]
          },
          "execution_count": 25,
          "metadata": {},
          "output_type": "execute_result"
        }
      ],
      "source": [
        "# Verificando os valores no banco de dados quando a precipitaçao foi maior que 1\n",
        "df.loc[df.Precipitation > 400]"
      ]
    },
    {
      "cell_type": "code",
      "execution_count": null,
      "id": "d17df123",
      "metadata": {
        "id": "d17df123",
        "outputId": "c2075141-088e-4254-da42-3942a3d810c6"
      },
      "outputs": [
        {
          "data": {
            "text/plain": [
              "Time\n",
              "1979-01-01    30.201332\n",
              "1979-03-01    31.259825\n",
              "1980-01-01    30.941853\n",
              "1980-03-01    32.577263\n",
              "1981-03-01    31.663687\n",
              "1981-04-01    31.206766\n",
              "1982-01-01    29.939602\n",
              "1982-12-01    30.701395\n",
              "1985-01-01    29.726282\n",
              "1985-04-01    30.742870\n",
              "1985-12-01    30.573500\n",
              "1986-11-01    31.530100\n",
              "1987-02-01    30.560246\n",
              "1988-03-01    31.505186\n",
              "1992-02-01    29.940937\n",
              "1993-01-01    30.422077\n",
              "1994-03-01    31.193197\n",
              "1997-03-01    30.311470\n",
              "2017-01-01    30.935074\n",
              "2017-03-01    32.097324\n",
              "2018-02-01    29.562311\n",
              "Name: Max_Temperature, dtype: float64"
            ]
          },
          "execution_count": 26,
          "metadata": {},
          "output_type": "execute_result"
        }
      ],
      "source": [
        "# Verificando a temperatura máxima quando a precipitaçao foi maior que 400\n",
        "df.loc[df.Precipitation > 400, 'Max_Temperature']"
      ]
    },
    {
      "cell_type": "code",
      "execution_count": null,
      "id": "174fad25",
      "metadata": {
        "id": "174fad25",
        "outputId": "343d9ef4-0ee5-428d-bbee-eaf1afdace05"
      },
      "outputs": [
        {
          "data": {
            "text/plain": [
              "Time\n",
              "2006-08-01    29.012907\n",
              "2008-08-01    29.115401\n",
              "2010-08-01    28.481780\n",
              "2011-08-01    29.350558\n",
              "2012-08-01    29.238559\n",
              "2015-08-01    29.386519\n",
              "2015-09-01    29.742040\n",
              "2016-08-01    28.971486\n",
              "2017-08-01    29.028025\n",
              "2020-08-01    28.592660\n",
              "Name: Mean_Temperature, dtype: float64"
            ]
          },
          "execution_count": 27,
          "metadata": {},
          "output_type": "execute_result"
        }
      ],
      "source": [
        "# Verificando a temperatura media quando a temperatura maxima foi maior que 50 e a minima menor que 45\n",
        "# df.loc[(df.Max_Temperature > 35) & (df.Min_Temperature < 25)]\n",
        "df.loc[(df.Max_Temperature > 35) & (df.Min_Temperature < 25), 'Mean_Temperature']"
      ]
    },
    {
      "cell_type": "markdown",
      "id": "7da755ba-a52e-4f0f-8cf4-6cb27494c21e",
      "metadata": {
        "id": "7da755ba-a52e-4f0f-8cf4-6cb27494c21e"
      },
      "source": [
        "Podemos criar novas colunas de acordo com a condicionais que inserimos e categorizar valores\n",
        "\n",
        "\n",
        "**Exemplo**"
      ]
    },
    {
      "cell_type": "code",
      "execution_count": null,
      "id": "a55c3695-800e-436a-bd64-141d9badb06e",
      "metadata": {
        "id": "a55c3695-800e-436a-bd64-141d9badb06e",
        "outputId": "2bed446c-4bda-4e59-90b6-3a36def01b8d"
      },
      "outputs": [
        {
          "data": {
            "text/plain": [
              "count    504.000000\n",
              "mean      27.050813\n",
              "std        0.891027\n",
              "min       24.486858\n",
              "25%       26.491176\n",
              "50%       27.065951\n",
              "75%       27.616237\n",
              "max       29.742040\n",
              "Name: Mean_Temperature, dtype: float64"
            ]
          },
          "execution_count": 28,
          "metadata": {},
          "output_type": "execute_result"
        }
      ],
      "source": [
        "# Checando os valores máximos e mínimos\n",
        "df.Mean_Temperature.describe()"
      ]
    },
    {
      "cell_type": "code",
      "execution_count": null,
      "id": "24c66c2d-20bf-4415-af3c-ded45c8b2a97",
      "metadata": {
        "id": "24c66c2d-20bf-4415-af3c-ded45c8b2a97"
      },
      "outputs": [],
      "source": [
        "# Inserindo Categorias\n",
        "df.loc[df.Mean_Temperature >= 29, 'Condicao'] = 'Muito Quente'\n",
        "# Entre um intervalo de temperaturas\n",
        "df.loc[(df.Mean_Temperature >= 27) & (df.Mean_Temperature <= 28.99), 'Condicao'] = 'Quente'\n",
        "df.loc[(df.Mean_Temperature >= 25) & (df.Mean_Temperature <= 26.9999), 'Condicao'] = 'Normal'\n",
        "df.loc[df.Mean_Temperature <= 24.99, 'Condicao'] = 'Frio'"
      ]
    },
    {
      "cell_type": "markdown",
      "id": "b632fa81-12f9-44b2-9815-b43f22804e51",
      "metadata": {
        "id": "b632fa81-12f9-44b2-9815-b43f22804e51"
      },
      "source": [
        "**Verificando o banco de dados com a nova coluna inserida**"
      ]
    },
    {
      "cell_type": "code",
      "execution_count": null,
      "id": "b81aafd8-48e4-4587-ae22-2cdc60e9de5d",
      "metadata": {
        "id": "b81aafd8-48e4-4587-ae22-2cdc60e9de5d",
        "outputId": "71af1b5c-b5dc-439b-a1f7-a32dc9260eb0"
      },
      "outputs": [
        {
          "data": {
            "text/html": [
              "<div>\n",
              "<style scoped>\n",
              "    .dataframe tbody tr th:only-of-type {\n",
              "        vertical-align: middle;\n",
              "    }\n",
              "\n",
              "    .dataframe tbody tr th {\n",
              "        vertical-align: top;\n",
              "    }\n",
              "\n",
              "    .dataframe thead th {\n",
              "        text-align: right;\n",
              "    }\n",
              "</style>\n",
              "<table border=\"1\" class=\"dataframe\">\n",
              "  <thead>\n",
              "    <tr style=\"text-align: right;\">\n",
              "      <th></th>\n",
              "      <th>Precipitation</th>\n",
              "      <th>Max_Temperature</th>\n",
              "      <th>Min_Temperature</th>\n",
              "      <th>Mean_Temperature</th>\n",
              "      <th>Condicao</th>\n",
              "    </tr>\n",
              "    <tr>\n",
              "      <th>Time</th>\n",
              "      <th></th>\n",
              "      <th></th>\n",
              "      <th></th>\n",
              "      <th></th>\n",
              "      <th></th>\n",
              "    </tr>\n",
              "  </thead>\n",
              "  <tbody>\n",
              "    <tr>\n",
              "      <th>1979-01-01</th>\n",
              "      <td>455.021210</td>\n",
              "      <td>30.201332</td>\n",
              "      <td>19.996052</td>\n",
              "      <td>25.098692</td>\n",
              "      <td>Normal</td>\n",
              "    </tr>\n",
              "    <tr>\n",
              "      <th>1979-02-01</th>\n",
              "      <td>338.217957</td>\n",
              "      <td>29.395452</td>\n",
              "      <td>19.578264</td>\n",
              "      <td>24.486858</td>\n",
              "      <td>Frio</td>\n",
              "    </tr>\n",
              "    <tr>\n",
              "      <th>1979-03-01</th>\n",
              "      <td>491.303711</td>\n",
              "      <td>31.259825</td>\n",
              "      <td>20.805937</td>\n",
              "      <td>26.032881</td>\n",
              "      <td>Normal</td>\n",
              "    </tr>\n",
              "    <tr>\n",
              "      <th>1979-04-01</th>\n",
              "      <td>191.876755</td>\n",
              "      <td>30.867510</td>\n",
              "      <td>21.428846</td>\n",
              "      <td>26.148178</td>\n",
              "      <td>Normal</td>\n",
              "    </tr>\n",
              "    <tr>\n",
              "      <th>1979-05-01</th>\n",
              "      <td>256.988159</td>\n",
              "      <td>31.247507</td>\n",
              "      <td>21.277273</td>\n",
              "      <td>26.262390</td>\n",
              "      <td>Normal</td>\n",
              "    </tr>\n",
              "    <tr>\n",
              "      <th>...</th>\n",
              "      <td>...</td>\n",
              "      <td>...</td>\n",
              "      <td>...</td>\n",
              "      <td>...</td>\n",
              "      <td>...</td>\n",
              "    </tr>\n",
              "    <tr>\n",
              "      <th>2020-08-01</th>\n",
              "      <td>12.060126</td>\n",
              "      <td>35.065140</td>\n",
              "      <td>22.120180</td>\n",
              "      <td>28.592660</td>\n",
              "      <td>Quente</td>\n",
              "    </tr>\n",
              "    <tr>\n",
              "      <th>2020-09-01</th>\n",
              "      <td>119.848358</td>\n",
              "      <td>34.769093</td>\n",
              "      <td>23.156425</td>\n",
              "      <td>28.962759</td>\n",
              "      <td>Quente</td>\n",
              "    </tr>\n",
              "    <tr>\n",
              "      <th>2020-10-01</th>\n",
              "      <td>94.975677</td>\n",
              "      <td>33.413387</td>\n",
              "      <td>23.048061</td>\n",
              "      <td>28.230724</td>\n",
              "      <td>Quente</td>\n",
              "    </tr>\n",
              "    <tr>\n",
              "      <th>2020-11-01</th>\n",
              "      <td>139.511963</td>\n",
              "      <td>32.689674</td>\n",
              "      <td>23.355593</td>\n",
              "      <td>28.022634</td>\n",
              "      <td>Quente</td>\n",
              "    </tr>\n",
              "    <tr>\n",
              "      <th>2020-12-01</th>\n",
              "      <td>156.649399</td>\n",
              "      <td>31.290405</td>\n",
              "      <td>23.005072</td>\n",
              "      <td>27.147738</td>\n",
              "      <td>Quente</td>\n",
              "    </tr>\n",
              "  </tbody>\n",
              "</table>\n",
              "<p>504 rows × 5 columns</p>\n",
              "</div>"
            ],
            "text/plain": [
              "            Precipitation  Max_Temperature  Min_Temperature  Mean_Temperature  \\\n",
              "Time                                                                            \n",
              "1979-01-01     455.021210        30.201332        19.996052         25.098692   \n",
              "1979-02-01     338.217957        29.395452        19.578264         24.486858   \n",
              "1979-03-01     491.303711        31.259825        20.805937         26.032881   \n",
              "1979-04-01     191.876755        30.867510        21.428846         26.148178   \n",
              "1979-05-01     256.988159        31.247507        21.277273         26.262390   \n",
              "...                   ...              ...              ...               ...   \n",
              "2020-08-01      12.060126        35.065140        22.120180         28.592660   \n",
              "2020-09-01     119.848358        34.769093        23.156425         28.962759   \n",
              "2020-10-01      94.975677        33.413387        23.048061         28.230724   \n",
              "2020-11-01     139.511963        32.689674        23.355593         28.022634   \n",
              "2020-12-01     156.649399        31.290405        23.005072         27.147738   \n",
              "\n",
              "           Condicao  \n",
              "Time                 \n",
              "1979-01-01   Normal  \n",
              "1979-02-01     Frio  \n",
              "1979-03-01   Normal  \n",
              "1979-04-01   Normal  \n",
              "1979-05-01   Normal  \n",
              "...             ...  \n",
              "2020-08-01   Quente  \n",
              "2020-09-01   Quente  \n",
              "2020-10-01   Quente  \n",
              "2020-11-01   Quente  \n",
              "2020-12-01   Quente  \n",
              "\n",
              "[504 rows x 5 columns]"
            ]
          },
          "execution_count": 30,
          "metadata": {},
          "output_type": "execute_result"
        }
      ],
      "source": [
        "df"
      ]
    },
    {
      "cell_type": "markdown",
      "id": "09da8f12-de82-4587-a20f-d3891c53a972",
      "metadata": {
        "id": "09da8f12-de82-4587-a20f-d3891c53a972"
      },
      "source": [
        "Após inserirmos uma nova coluna com dados categóricos, vamos verificar quantas vezes cada valor aparece no dataframe utilizando a função **`.value_counts`**"
      ]
    },
    {
      "cell_type": "code",
      "execution_count": null,
      "id": "b16b3139-cce0-4b04-b076-4752a648fb7c",
      "metadata": {
        "id": "b16b3139-cce0-4b04-b076-4752a648fb7c",
        "outputId": "858abb42-fa6b-45b3-9eaf-58a2ea54e23f"
      },
      "outputs": [
        {
          "data": {
            "text/plain": [
              "Quente          252\n",
              "Normal          238\n",
              "Muito Quente     11\n",
              "Frio              3\n",
              "Name: Condicao, dtype: int64"
            ]
          },
          "execution_count": 31,
          "metadata": {},
          "output_type": "execute_result"
        }
      ],
      "source": [
        "df.Condicao.value_counts()"
      ]
    },
    {
      "cell_type": "code",
      "execution_count": null,
      "id": "660961d5-0a38-4b18-82fc-edc6e0d2fe3e",
      "metadata": {
        "id": "660961d5-0a38-4b18-82fc-edc6e0d2fe3e",
        "outputId": "a31161c7-f2a3-4b36-a7c4-b928ed706f89"
      },
      "outputs": [
        {
          "data": {
            "text/plain": [
              "Quente          0.500000\n",
              "Normal          0.472222\n",
              "Muito Quente    0.021825\n",
              "Frio            0.005952\n",
              "Name: Condicao, dtype: float64"
            ]
          },
          "execution_count": 32,
          "metadata": {},
          "output_type": "execute_result"
        }
      ],
      "source": [
        "# Podemos personalizar o output do codigo inserindo o parametro normalize\n",
        "df.Condicao.value_counts(normalize=True) # Normalizado"
      ]
    },
    {
      "cell_type": "markdown",
      "id": "55e494ff-eca6-4720-a5ac-23ab1731493e",
      "metadata": {
        "id": "55e494ff-eca6-4720-a5ac-23ab1731493e"
      },
      "source": [
        "### Inserindo mais Colunas Categoricas\n",
        "\n",
        "Neste exemplo iremos inserir os meses no banco de dados para obter resultados mais precisos sobre o banco de dados\n",
        "\n",
        "\n",
        "Primeiro vamos resetar a coluna de indice Time para o método **``.dt``**"
      ]
    },
    {
      "cell_type": "code",
      "execution_count": null,
      "id": "07c47d9e-5b69-4cb0-bff9-47a8ca650765",
      "metadata": {
        "id": "07c47d9e-5b69-4cb0-bff9-47a8ca650765"
      },
      "outputs": [],
      "source": [
        "df.reset_index('Time', inplace=True)"
      ]
    },
    {
      "cell_type": "code",
      "execution_count": null,
      "id": "95c396c8-0f0c-4cf6-9599-0d40bf0a6d3e",
      "metadata": {
        "id": "95c396c8-0f0c-4cf6-9599-0d40bf0a6d3e"
      },
      "outputs": [],
      "source": [
        "# Aplicando o método .dt na coluna time (formato datetime)\n",
        "df['Mes'] = df.Time.dt.month_name()"
      ]
    },
    {
      "cell_type": "code",
      "execution_count": null,
      "id": "b29cd47c-98c2-4e53-9854-c16aa65b33ff",
      "metadata": {
        "id": "b29cd47c-98c2-4e53-9854-c16aa65b33ff"
      },
      "outputs": [],
      "source": [
        "# Pegando os valores unicos da coluna Mes para guardar em uma lista. Para uso posterior\n",
        "lista_meses = list(df.Mes.unique())\n",
        "\n",
        "# Pegando os valores unicos da coluna Condicao para guardar em uma lista. Para uso posterior\n",
        "lista_condicao = list(df.Condicao.unique())"
      ]
    },
    {
      "cell_type": "markdown",
      "id": "5b9520bb-e66b-413d-85d2-87c2b9a89c1a",
      "metadata": {
        "id": "5b9520bb-e66b-413d-85d2-87c2b9a89c1a"
      },
      "source": [
        "Agora podemos agrupar os dados por outra coluna e baseado nisso, podemos fazer novas analises"
      ]
    },
    {
      "cell_type": "code",
      "execution_count": null,
      "id": "f6979f9a-5732-4d7e-a4fb-2aa034d03bb1",
      "metadata": {
        "id": "f6979f9a-5732-4d7e-a4fb-2aa034d03bb1",
        "outputId": "dca76c12-443c-448e-ce43-1e33d6b9c003"
      },
      "outputs": [
        {
          "data": {
            "text/plain": [
              "<pandas.core.groupby.generic.DataFrameGroupBy object at 0x000001EB19084DC8>"
            ]
          },
          "execution_count": 36,
          "metadata": {},
          "output_type": "execute_result"
        }
      ],
      "source": [
        "# Agrupando o banco de dados pela coluna de Mes\n",
        "df.groupby('Mes')"
      ]
    },
    {
      "cell_type": "code",
      "execution_count": null,
      "id": "56a8922c-1d04-49da-8bc7-8b4bd82a13e4",
      "metadata": {
        "id": "56a8922c-1d04-49da-8bc7-8b4bd82a13e4",
        "outputId": "f7c7847e-a11e-44da-a2c0-a3968ad3612d"
      },
      "outputs": [
        {
          "data": {
            "text/html": [
              "<div>\n",
              "<style scoped>\n",
              "    .dataframe tbody tr th:only-of-type {\n",
              "        vertical-align: middle;\n",
              "    }\n",
              "\n",
              "    .dataframe tbody tr th {\n",
              "        vertical-align: top;\n",
              "    }\n",
              "\n",
              "    .dataframe thead th {\n",
              "        text-align: right;\n",
              "    }\n",
              "</style>\n",
              "<table border=\"1\" class=\"dataframe\">\n",
              "  <thead>\n",
              "    <tr style=\"text-align: right;\">\n",
              "      <th></th>\n",
              "      <th>count</th>\n",
              "      <th>mean</th>\n",
              "      <th>std</th>\n",
              "      <th>min</th>\n",
              "      <th>25%</th>\n",
              "      <th>50%</th>\n",
              "      <th>75%</th>\n",
              "      <th>max</th>\n",
              "    </tr>\n",
              "    <tr>\n",
              "      <th>Mes</th>\n",
              "      <th></th>\n",
              "      <th></th>\n",
              "      <th></th>\n",
              "      <th></th>\n",
              "      <th></th>\n",
              "      <th></th>\n",
              "      <th></th>\n",
              "      <th></th>\n",
              "    </tr>\n",
              "  </thead>\n",
              "  <tbody>\n",
              "    <tr>\n",
              "      <th>January</th>\n",
              "      <td>42.0</td>\n",
              "      <td>290.522399</td>\n",
              "      <td>98.525492</td>\n",
              "      <td>42.654789</td>\n",
              "      <td>226.510864</td>\n",
              "      <td>286.035385</td>\n",
              "      <td>356.287880</td>\n",
              "      <td>459.070221</td>\n",
              "    </tr>\n",
              "    <tr>\n",
              "      <th>February</th>\n",
              "      <td>42.0</td>\n",
              "      <td>259.566039</td>\n",
              "      <td>102.031750</td>\n",
              "      <td>62.456306</td>\n",
              "      <td>185.010544</td>\n",
              "      <td>261.030975</td>\n",
              "      <td>335.819939</td>\n",
              "      <td>488.614777</td>\n",
              "    </tr>\n",
              "    <tr>\n",
              "      <th>March</th>\n",
              "      <td>42.0</td>\n",
              "      <td>285.491030</td>\n",
              "      <td>112.637639</td>\n",
              "      <td>58.883354</td>\n",
              "      <td>218.909290</td>\n",
              "      <td>288.970398</td>\n",
              "      <td>338.381653</td>\n",
              "      <td>588.296143</td>\n",
              "    </tr>\n",
              "    <tr>\n",
              "      <th>April</th>\n",
              "      <td>42.0</td>\n",
              "      <td>224.649712</td>\n",
              "      <td>86.385341</td>\n",
              "      <td>57.251335</td>\n",
              "      <td>167.507786</td>\n",
              "      <td>208.439102</td>\n",
              "      <td>277.537369</td>\n",
              "      <td>424.540131</td>\n",
              "    </tr>\n",
              "    <tr>\n",
              "      <th>May</th>\n",
              "      <td>42.0</td>\n",
              "      <td>121.080173</td>\n",
              "      <td>54.371930</td>\n",
              "      <td>6.938355</td>\n",
              "      <td>91.771690</td>\n",
              "      <td>116.114494</td>\n",
              "      <td>138.845913</td>\n",
              "      <td>293.463196</td>\n",
              "    </tr>\n",
              "    <tr>\n",
              "      <th>June</th>\n",
              "      <td>42.0</td>\n",
              "      <td>50.093964</td>\n",
              "      <td>34.375821</td>\n",
              "      <td>2.237115</td>\n",
              "      <td>19.419549</td>\n",
              "      <td>45.293398</td>\n",
              "      <td>70.701071</td>\n",
              "      <td>130.120239</td>\n",
              "    </tr>\n",
              "    <tr>\n",
              "      <th>July</th>\n",
              "      <td>42.0</td>\n",
              "      <td>25.812039</td>\n",
              "      <td>23.402482</td>\n",
              "      <td>0.287184</td>\n",
              "      <td>7.934767</td>\n",
              "      <td>17.238499</td>\n",
              "      <td>39.038743</td>\n",
              "      <td>89.226181</td>\n",
              "    </tr>\n",
              "    <tr>\n",
              "      <th>August</th>\n",
              "      <td>42.0</td>\n",
              "      <td>45.656790</td>\n",
              "      <td>39.615095</td>\n",
              "      <td>0.685666</td>\n",
              "      <td>17.035465</td>\n",
              "      <td>34.656178</td>\n",
              "      <td>64.539793</td>\n",
              "      <td>194.630905</td>\n",
              "    </tr>\n",
              "    <tr>\n",
              "      <th>September</th>\n",
              "      <td>42.0</td>\n",
              "      <td>85.433527</td>\n",
              "      <td>44.215696</td>\n",
              "      <td>28.257061</td>\n",
              "      <td>48.704988</td>\n",
              "      <td>81.727036</td>\n",
              "      <td>116.766321</td>\n",
              "      <td>226.195572</td>\n",
              "    </tr>\n",
              "    <tr>\n",
              "      <th>October</th>\n",
              "      <td>42.0</td>\n",
              "      <td>151.744295</td>\n",
              "      <td>64.822309</td>\n",
              "      <td>22.596903</td>\n",
              "      <td>106.741110</td>\n",
              "      <td>147.993805</td>\n",
              "      <td>182.692924</td>\n",
              "      <td>305.835052</td>\n",
              "    </tr>\n",
              "    <tr>\n",
              "      <th>November</th>\n",
              "      <td>42.0</td>\n",
              "      <td>186.507960</td>\n",
              "      <td>77.640863</td>\n",
              "      <td>22.799767</td>\n",
              "      <td>139.769054</td>\n",
              "      <td>177.394417</td>\n",
              "      <td>247.453720</td>\n",
              "      <td>402.525055</td>\n",
              "    </tr>\n",
              "    <tr>\n",
              "      <th>December</th>\n",
              "      <td>42.0</td>\n",
              "      <td>248.680791</td>\n",
              "      <td>89.453597</td>\n",
              "      <td>111.368515</td>\n",
              "      <td>178.286549</td>\n",
              "      <td>237.429726</td>\n",
              "      <td>304.362946</td>\n",
              "      <td>468.312561</td>\n",
              "    </tr>\n",
              "  </tbody>\n",
              "</table>\n",
              "</div>"
            ],
            "text/plain": [
              "           count        mean         std         min         25%         50%  \\\n",
              "Mes                                                                            \n",
              "January     42.0  290.522399   98.525492   42.654789  226.510864  286.035385   \n",
              "February    42.0  259.566039  102.031750   62.456306  185.010544  261.030975   \n",
              "March       42.0  285.491030  112.637639   58.883354  218.909290  288.970398   \n",
              "April       42.0  224.649712   86.385341   57.251335  167.507786  208.439102   \n",
              "May         42.0  121.080173   54.371930    6.938355   91.771690  116.114494   \n",
              "June        42.0   50.093964   34.375821    2.237115   19.419549   45.293398   \n",
              "July        42.0   25.812039   23.402482    0.287184    7.934767   17.238499   \n",
              "August      42.0   45.656790   39.615095    0.685666   17.035465   34.656178   \n",
              "September   42.0   85.433527   44.215696   28.257061   48.704988   81.727036   \n",
              "October     42.0  151.744295   64.822309   22.596903  106.741110  147.993805   \n",
              "November    42.0  186.507960   77.640863   22.799767  139.769054  177.394417   \n",
              "December    42.0  248.680791   89.453597  111.368515  178.286549  237.429726   \n",
              "\n",
              "                  75%         max  \n",
              "Mes                                \n",
              "January    356.287880  459.070221  \n",
              "February   335.819939  488.614777  \n",
              "March      338.381653  588.296143  \n",
              "April      277.537369  424.540131  \n",
              "May        138.845913  293.463196  \n",
              "June        70.701071  130.120239  \n",
              "July        39.038743   89.226181  \n",
              "August      64.539793  194.630905  \n",
              "September  116.766321  226.195572  \n",
              "October    182.692924  305.835052  \n",
              "November   247.453720  402.525055  \n",
              "December   304.362946  468.312561  "
            ]
          },
          "execution_count": 37,
          "metadata": {},
          "output_type": "execute_result"
        }
      ],
      "source": [
        "df.groupby('Mes')['Precipitation'].describe().reindex(lista_meses)"
      ]
    },
    {
      "cell_type": "markdown",
      "id": "cf06f10d-5f17-4e6c-b2a1-4ea545cd103f",
      "metadata": {
        "id": "cf06f10d-5f17-4e6c-b2a1-4ea545cd103f"
      },
      "source": [
        "* **Opcional. Convertendo os meses de ingles para português**"
      ]
    },
    {
      "cell_type": "code",
      "execution_count": null,
      "id": "92f19193-af13-4793-a05c-11a8c313c883",
      "metadata": {
        "id": "92f19193-af13-4793-a05c-11a8c313c883",
        "outputId": "2d1ed76c-880d-4efb-b292-0f7e3c1c1e4b"
      },
      "outputs": [
        {
          "data": {
            "text/plain": [
              "array(['January', 'February', 'March', 'April', 'May', 'June', 'July',\n",
              "       'August', 'September', 'October', 'November', 'December'],\n",
              "      dtype=object)"
            ]
          },
          "execution_count": 38,
          "metadata": {},
          "output_type": "execute_result"
        }
      ],
      "source": [
        "# Verificando os valores Unicos da coluna mês\n",
        "df.Mes.unique()"
      ]
    },
    {
      "cell_type": "code",
      "execution_count": null,
      "id": "a4fa44ba-7c2e-4358-b5bf-16e57657968b",
      "metadata": {
        "id": "a4fa44ba-7c2e-4358-b5bf-16e57657968b",
        "outputId": "b5fa36b8-bf0b-425f-e383-9b66af8d91c0"
      },
      "outputs": [
        {
          "data": {
            "text/plain": [
              "0        Janeiro\n",
              "1      Fevereiro\n",
              "2          Março\n",
              "3          Abril\n",
              "4           Maio\n",
              "         ...    \n",
              "499       Agosto\n",
              "500     Setembro\n",
              "501      Outubro\n",
              "502     Novembro\n",
              "503     Dezembro\n",
              "Name: Mes, Length: 504, dtype: object"
            ]
          },
          "execution_count": 39,
          "metadata": {},
          "output_type": "execute_result"
        }
      ],
      "source": [
        "dict_meses = {'January':'Janeiro', 'February':'Fevereiro', \n",
        "              'March':'Março', 'April':'Abril', \n",
        "              'May':'Maio','June':'Julho', 'July':'Julho',\n",
        "             'August':'Agosto', 'September':'Setembro',\n",
        "              'October':'Outubro','November':'Novembro',\n",
        "             'December':'Dezembro'}\n",
        "df.Mes.map(dict_meses)"
      ]
    },
    {
      "cell_type": "markdown",
      "id": "5d59b961-a6bf-42ba-b505-8025257bde48",
      "metadata": {
        "id": "5d59b961-a6bf-42ba-b505-8025257bde48"
      },
      "source": [
        "* **Indexando os meses em portugues.** "
      ]
    },
    {
      "cell_type": "code",
      "execution_count": null,
      "id": "31a75fd2-bb6c-41d5-b53f-55a01183a1b9",
      "metadata": {
        "id": "31a75fd2-bb6c-41d5-b53f-55a01183a1b9",
        "outputId": "914e27d2-a463-4a4a-da7d-2bf7cbf06175"
      },
      "outputs": [
        {
          "data": {
            "text/html": [
              "<div>\n",
              "<style scoped>\n",
              "    .dataframe tbody tr th:only-of-type {\n",
              "        vertical-align: middle;\n",
              "    }\n",
              "\n",
              "    .dataframe tbody tr th {\n",
              "        vertical-align: top;\n",
              "    }\n",
              "\n",
              "    .dataframe thead th {\n",
              "        text-align: right;\n",
              "    }\n",
              "</style>\n",
              "<table border=\"1\" class=\"dataframe\">\n",
              "  <thead>\n",
              "    <tr style=\"text-align: right;\">\n",
              "      <th></th>\n",
              "      <th>Time</th>\n",
              "      <th>Precipitation</th>\n",
              "      <th>Max_Temperature</th>\n",
              "      <th>Min_Temperature</th>\n",
              "      <th>Mean_Temperature</th>\n",
              "      <th>Condicao</th>\n",
              "      <th>Mes_br</th>\n",
              "    </tr>\n",
              "  </thead>\n",
              "  <tbody>\n",
              "    <tr>\n",
              "      <th>0</th>\n",
              "      <td>1979-01-01</td>\n",
              "      <td>455.021210</td>\n",
              "      <td>30.201332</td>\n",
              "      <td>19.996052</td>\n",
              "      <td>25.098692</td>\n",
              "      <td>Normal</td>\n",
              "      <td>Janeiro</td>\n",
              "    </tr>\n",
              "    <tr>\n",
              "      <th>1</th>\n",
              "      <td>1979-02-01</td>\n",
              "      <td>338.217957</td>\n",
              "      <td>29.395452</td>\n",
              "      <td>19.578264</td>\n",
              "      <td>24.486858</td>\n",
              "      <td>Frio</td>\n",
              "      <td>Fevereiro</td>\n",
              "    </tr>\n",
              "    <tr>\n",
              "      <th>2</th>\n",
              "      <td>1979-03-01</td>\n",
              "      <td>491.303711</td>\n",
              "      <td>31.259825</td>\n",
              "      <td>20.805937</td>\n",
              "      <td>26.032881</td>\n",
              "      <td>Normal</td>\n",
              "      <td>Março</td>\n",
              "    </tr>\n",
              "    <tr>\n",
              "      <th>3</th>\n",
              "      <td>1979-04-01</td>\n",
              "      <td>191.876755</td>\n",
              "      <td>30.867510</td>\n",
              "      <td>21.428846</td>\n",
              "      <td>26.148178</td>\n",
              "      <td>Normal</td>\n",
              "      <td>Abril</td>\n",
              "    </tr>\n",
              "    <tr>\n",
              "      <th>4</th>\n",
              "      <td>1979-05-01</td>\n",
              "      <td>256.988159</td>\n",
              "      <td>31.247507</td>\n",
              "      <td>21.277273</td>\n",
              "      <td>26.262390</td>\n",
              "      <td>Normal</td>\n",
              "      <td>Maio</td>\n",
              "    </tr>\n",
              "    <tr>\n",
              "      <th>...</th>\n",
              "      <td>...</td>\n",
              "      <td>...</td>\n",
              "      <td>...</td>\n",
              "      <td>...</td>\n",
              "      <td>...</td>\n",
              "      <td>...</td>\n",
              "      <td>...</td>\n",
              "    </tr>\n",
              "    <tr>\n",
              "      <th>499</th>\n",
              "      <td>2020-08-01</td>\n",
              "      <td>12.060126</td>\n",
              "      <td>35.065140</td>\n",
              "      <td>22.120180</td>\n",
              "      <td>28.592660</td>\n",
              "      <td>Quente</td>\n",
              "      <td>Agosto</td>\n",
              "    </tr>\n",
              "    <tr>\n",
              "      <th>500</th>\n",
              "      <td>2020-09-01</td>\n",
              "      <td>119.848358</td>\n",
              "      <td>34.769093</td>\n",
              "      <td>23.156425</td>\n",
              "      <td>28.962759</td>\n",
              "      <td>Quente</td>\n",
              "      <td>Setembro</td>\n",
              "    </tr>\n",
              "    <tr>\n",
              "      <th>501</th>\n",
              "      <td>2020-10-01</td>\n",
              "      <td>94.975677</td>\n",
              "      <td>33.413387</td>\n",
              "      <td>23.048061</td>\n",
              "      <td>28.230724</td>\n",
              "      <td>Quente</td>\n",
              "      <td>Outubro</td>\n",
              "    </tr>\n",
              "    <tr>\n",
              "      <th>502</th>\n",
              "      <td>2020-11-01</td>\n",
              "      <td>139.511963</td>\n",
              "      <td>32.689674</td>\n",
              "      <td>23.355593</td>\n",
              "      <td>28.022634</td>\n",
              "      <td>Quente</td>\n",
              "      <td>Novembro</td>\n",
              "    </tr>\n",
              "    <tr>\n",
              "      <th>503</th>\n",
              "      <td>2020-12-01</td>\n",
              "      <td>156.649399</td>\n",
              "      <td>31.290405</td>\n",
              "      <td>23.005072</td>\n",
              "      <td>27.147738</td>\n",
              "      <td>Quente</td>\n",
              "      <td>Dezembro</td>\n",
              "    </tr>\n",
              "  </tbody>\n",
              "</table>\n",
              "<p>504 rows × 7 columns</p>\n",
              "</div>"
            ],
            "text/plain": [
              "          Time  Precipitation  Max_Temperature  Min_Temperature  \\\n",
              "0   1979-01-01     455.021210        30.201332        19.996052   \n",
              "1   1979-02-01     338.217957        29.395452        19.578264   \n",
              "2   1979-03-01     491.303711        31.259825        20.805937   \n",
              "3   1979-04-01     191.876755        30.867510        21.428846   \n",
              "4   1979-05-01     256.988159        31.247507        21.277273   \n",
              "..         ...            ...              ...              ...   \n",
              "499 2020-08-01      12.060126        35.065140        22.120180   \n",
              "500 2020-09-01     119.848358        34.769093        23.156425   \n",
              "501 2020-10-01      94.975677        33.413387        23.048061   \n",
              "502 2020-11-01     139.511963        32.689674        23.355593   \n",
              "503 2020-12-01     156.649399        31.290405        23.005072   \n",
              "\n",
              "     Mean_Temperature Condicao     Mes_br  \n",
              "0           25.098692   Normal    Janeiro  \n",
              "1           24.486858     Frio  Fevereiro  \n",
              "2           26.032881   Normal      Março  \n",
              "3           26.148178   Normal      Abril  \n",
              "4           26.262390   Normal       Maio  \n",
              "..                ...      ...        ...  \n",
              "499         28.592660   Quente     Agosto  \n",
              "500         28.962759   Quente   Setembro  \n",
              "501         28.230724   Quente    Outubro  \n",
              "502         28.022634   Quente   Novembro  \n",
              "503         27.147738   Quente   Dezembro  \n",
              "\n",
              "[504 rows x 7 columns]"
            ]
          },
          "execution_count": 40,
          "metadata": {},
          "output_type": "execute_result"
        }
      ],
      "source": [
        "# Criando um copia do dataframe para simples demonstraçao\n",
        "df_copia = df.copy()\n",
        "\n",
        "# Criando nova coluna com a traduçao dos meses\n",
        "df_copia['Mes_br'] = df_copia.Mes.map(dict_meses)\n",
        "\n",
        "# Deletando a coluna com os meses em ingles\n",
        "df_copia.drop('Mes', axis=1, inplace=True)\n",
        "\n",
        "# Mostrando o dataframe\n",
        "df_copia"
      ]
    },
    {
      "cell_type": "code",
      "execution_count": null,
      "id": "47b066e0-447b-4390-a428-006790dfe26f",
      "metadata": {
        "id": "47b066e0-447b-4390-a428-006790dfe26f"
      },
      "outputs": [],
      "source": [
        "dx = df.groupby('Mes')['Condicao'].value_counts()\n",
        "# Reorganizando\n",
        "dx_counts = dx.reindex(pd.MultiIndex.from_product([lista_meses, lista_condicao])).to_frame()"
      ]
    },
    {
      "cell_type": "code",
      "execution_count": null,
      "id": "8b54ccb7-cc8d-43b8-a09a-c0e237d36668",
      "metadata": {
        "id": "8b54ccb7-cc8d-43b8-a09a-c0e237d36668",
        "outputId": "6bb1646c-de04-4811-98e5-ef7469cfb12e"
      },
      "outputs": [
        {
          "data": {
            "text/html": [
              "<div>\n",
              "<style scoped>\n",
              "    .dataframe tbody tr th:only-of-type {\n",
              "        vertical-align: middle;\n",
              "    }\n",
              "\n",
              "    .dataframe tbody tr th {\n",
              "        vertical-align: top;\n",
              "    }\n",
              "\n",
              "    .dataframe thead th {\n",
              "        text-align: right;\n",
              "    }\n",
              "</style>\n",
              "<table border=\"1\" class=\"dataframe\">\n",
              "  <thead>\n",
              "    <tr style=\"text-align: right;\">\n",
              "      <th></th>\n",
              "      <th></th>\n",
              "      <th>Condicao</th>\n",
              "    </tr>\n",
              "  </thead>\n",
              "  <tbody>\n",
              "    <tr>\n",
              "      <th rowspan=\"4\" valign=\"top\">January</th>\n",
              "      <th>Normal</th>\n",
              "      <td>31.0</td>\n",
              "    </tr>\n",
              "    <tr>\n",
              "      <th>Frio</th>\n",
              "      <td>NaN</td>\n",
              "    </tr>\n",
              "    <tr>\n",
              "      <th>Quente</th>\n",
              "      <td>11.0</td>\n",
              "    </tr>\n",
              "    <tr>\n",
              "      <th>Muito Quente</th>\n",
              "      <td>NaN</td>\n",
              "    </tr>\n",
              "    <tr>\n",
              "      <th rowspan=\"4\" valign=\"top\">February</th>\n",
              "      <th>Normal</th>\n",
              "      <td>32.0</td>\n",
              "    </tr>\n",
              "    <tr>\n",
              "      <th>Frio</th>\n",
              "      <td>1.0</td>\n",
              "    </tr>\n",
              "    <tr>\n",
              "      <th>Quente</th>\n",
              "      <td>9.0</td>\n",
              "    </tr>\n",
              "    <tr>\n",
              "      <th>Muito Quente</th>\n",
              "      <td>NaN</td>\n",
              "    </tr>\n",
              "    <tr>\n",
              "      <th rowspan=\"4\" valign=\"top\">March</th>\n",
              "      <th>Normal</th>\n",
              "      <td>15.0</td>\n",
              "    </tr>\n",
              "    <tr>\n",
              "      <th>Frio</th>\n",
              "      <td>NaN</td>\n",
              "    </tr>\n",
              "    <tr>\n",
              "      <th>Quente</th>\n",
              "      <td>27.0</td>\n",
              "    </tr>\n",
              "    <tr>\n",
              "      <th>Muito Quente</th>\n",
              "      <td>NaN</td>\n",
              "    </tr>\n",
              "    <tr>\n",
              "      <th rowspan=\"4\" valign=\"top\">April</th>\n",
              "      <th>Normal</th>\n",
              "      <td>23.0</td>\n",
              "    </tr>\n",
              "    <tr>\n",
              "      <th>Frio</th>\n",
              "      <td>NaN</td>\n",
              "    </tr>\n",
              "    <tr>\n",
              "      <th>Quente</th>\n",
              "      <td>19.0</td>\n",
              "    </tr>\n",
              "    <tr>\n",
              "      <th>Muito Quente</th>\n",
              "      <td>NaN</td>\n",
              "    </tr>\n",
              "    <tr>\n",
              "      <th rowspan=\"4\" valign=\"top\">May</th>\n",
              "      <th>Normal</th>\n",
              "      <td>25.0</td>\n",
              "    </tr>\n",
              "    <tr>\n",
              "      <th>Frio</th>\n",
              "      <td>NaN</td>\n",
              "    </tr>\n",
              "    <tr>\n",
              "      <th>Quente</th>\n",
              "      <td>17.0</td>\n",
              "    </tr>\n",
              "    <tr>\n",
              "      <th>Muito Quente</th>\n",
              "      <td>NaN</td>\n",
              "    </tr>\n",
              "    <tr>\n",
              "      <th rowspan=\"4\" valign=\"top\">June</th>\n",
              "      <th>Normal</th>\n",
              "      <td>23.0</td>\n",
              "    </tr>\n",
              "    <tr>\n",
              "      <th>Frio</th>\n",
              "      <td>1.0</td>\n",
              "    </tr>\n",
              "    <tr>\n",
              "      <th>Quente</th>\n",
              "      <td>18.0</td>\n",
              "    </tr>\n",
              "    <tr>\n",
              "      <th>Muito Quente</th>\n",
              "      <td>NaN</td>\n",
              "    </tr>\n",
              "    <tr>\n",
              "      <th rowspan=\"4\" valign=\"top\">July</th>\n",
              "      <th>Normal</th>\n",
              "      <td>23.0</td>\n",
              "    </tr>\n",
              "    <tr>\n",
              "      <th>Frio</th>\n",
              "      <td>1.0</td>\n",
              "    </tr>\n",
              "    <tr>\n",
              "      <th>Quente</th>\n",
              "      <td>18.0</td>\n",
              "    </tr>\n",
              "    <tr>\n",
              "      <th>Muito Quente</th>\n",
              "      <td>NaN</td>\n",
              "    </tr>\n",
              "    <tr>\n",
              "      <th rowspan=\"4\" valign=\"top\">August</th>\n",
              "      <th>Normal</th>\n",
              "      <td>6.0</td>\n",
              "    </tr>\n",
              "    <tr>\n",
              "      <th>Frio</th>\n",
              "      <td>NaN</td>\n",
              "    </tr>\n",
              "    <tr>\n",
              "      <th>Quente</th>\n",
              "      <td>30.0</td>\n",
              "    </tr>\n",
              "    <tr>\n",
              "      <th>Muito Quente</th>\n",
              "      <td>6.0</td>\n",
              "    </tr>\n",
              "    <tr>\n",
              "      <th rowspan=\"4\" valign=\"top\">September</th>\n",
              "      <th>Normal</th>\n",
              "      <td>9.0</td>\n",
              "    </tr>\n",
              "    <tr>\n",
              "      <th>Frio</th>\n",
              "      <td>NaN</td>\n",
              "    </tr>\n",
              "    <tr>\n",
              "      <th>Quente</th>\n",
              "      <td>29.0</td>\n",
              "    </tr>\n",
              "    <tr>\n",
              "      <th>Muito Quente</th>\n",
              "      <td>4.0</td>\n",
              "    </tr>\n",
              "    <tr>\n",
              "      <th rowspan=\"4\" valign=\"top\">October</th>\n",
              "      <th>Normal</th>\n",
              "      <td>11.0</td>\n",
              "    </tr>\n",
              "    <tr>\n",
              "      <th>Frio</th>\n",
              "      <td>NaN</td>\n",
              "    </tr>\n",
              "    <tr>\n",
              "      <th>Quente</th>\n",
              "      <td>31.0</td>\n",
              "    </tr>\n",
              "    <tr>\n",
              "      <th>Muito Quente</th>\n",
              "      <td>NaN</td>\n",
              "    </tr>\n",
              "    <tr>\n",
              "      <th rowspan=\"4\" valign=\"top\">November</th>\n",
              "      <th>Normal</th>\n",
              "      <td>17.0</td>\n",
              "    </tr>\n",
              "    <tr>\n",
              "      <th>Frio</th>\n",
              "      <td>NaN</td>\n",
              "    </tr>\n",
              "    <tr>\n",
              "      <th>Quente</th>\n",
              "      <td>24.0</td>\n",
              "    </tr>\n",
              "    <tr>\n",
              "      <th>Muito Quente</th>\n",
              "      <td>1.0</td>\n",
              "    </tr>\n",
              "    <tr>\n",
              "      <th rowspan=\"4\" valign=\"top\">December</th>\n",
              "      <th>Normal</th>\n",
              "      <td>23.0</td>\n",
              "    </tr>\n",
              "    <tr>\n",
              "      <th>Frio</th>\n",
              "      <td>NaN</td>\n",
              "    </tr>\n",
              "    <tr>\n",
              "      <th>Quente</th>\n",
              "      <td>19.0</td>\n",
              "    </tr>\n",
              "    <tr>\n",
              "      <th>Muito Quente</th>\n",
              "      <td>NaN</td>\n",
              "    </tr>\n",
              "  </tbody>\n",
              "</table>\n",
              "</div>"
            ],
            "text/plain": [
              "                        Condicao\n",
              "January   Normal            31.0\n",
              "          Frio               NaN\n",
              "          Quente            11.0\n",
              "          Muito Quente       NaN\n",
              "February  Normal            32.0\n",
              "          Frio               1.0\n",
              "          Quente             9.0\n",
              "          Muito Quente       NaN\n",
              "March     Normal            15.0\n",
              "          Frio               NaN\n",
              "          Quente            27.0\n",
              "          Muito Quente       NaN\n",
              "April     Normal            23.0\n",
              "          Frio               NaN\n",
              "          Quente            19.0\n",
              "          Muito Quente       NaN\n",
              "May       Normal            25.0\n",
              "          Frio               NaN\n",
              "          Quente            17.0\n",
              "          Muito Quente       NaN\n",
              "June      Normal            23.0\n",
              "          Frio               1.0\n",
              "          Quente            18.0\n",
              "          Muito Quente       NaN\n",
              "July      Normal            23.0\n",
              "          Frio               1.0\n",
              "          Quente            18.0\n",
              "          Muito Quente       NaN\n",
              "August    Normal             6.0\n",
              "          Frio               NaN\n",
              "          Quente            30.0\n",
              "          Muito Quente       6.0\n",
              "September Normal             9.0\n",
              "          Frio               NaN\n",
              "          Quente            29.0\n",
              "          Muito Quente       4.0\n",
              "October   Normal            11.0\n",
              "          Frio               NaN\n",
              "          Quente            31.0\n",
              "          Muito Quente       NaN\n",
              "November  Normal            17.0\n",
              "          Frio               NaN\n",
              "          Quente            24.0\n",
              "          Muito Quente       1.0\n",
              "December  Normal            23.0\n",
              "          Frio               NaN\n",
              "          Quente            19.0\n",
              "          Muito Quente       NaN"
            ]
          },
          "execution_count": 42,
          "metadata": {},
          "output_type": "execute_result"
        }
      ],
      "source": [
        "dx_counts"
      ]
    },
    {
      "cell_type": "markdown",
      "id": "998587e8-c4aa-4218-a583-ca0a76fc7773",
      "metadata": {
        "id": "998587e8-c4aa-4218-a583-ca0a76fc7773"
      },
      "source": [
        "* **Removendo os NaN values da Coluna**\n",
        "\n",
        "* Vamos importar o **numpy** para nos auxiliar nesta operação"
      ]
    },
    {
      "cell_type": "code",
      "execution_count": null,
      "id": "1f31514e-1760-451c-8974-aab4847676ab",
      "metadata": {
        "id": "1f31514e-1760-451c-8974-aab4847676ab"
      },
      "outputs": [],
      "source": [
        "import numpy as np"
      ]
    },
    {
      "cell_type": "code",
      "execution_count": null,
      "id": "4bb2964d-876e-448c-8298-af6c46be8bd4",
      "metadata": {
        "id": "4bb2964d-876e-448c-8298-af6c46be8bd4",
        "outputId": "63803408-6b47-46da-9e98-54b6daf553ff"
      },
      "outputs": [
        {
          "data": {
            "text/html": [
              "<div>\n",
              "<style scoped>\n",
              "    .dataframe tbody tr th:only-of-type {\n",
              "        vertical-align: middle;\n",
              "    }\n",
              "\n",
              "    .dataframe tbody tr th {\n",
              "        vertical-align: top;\n",
              "    }\n",
              "\n",
              "    .dataframe thead th {\n",
              "        text-align: right;\n",
              "    }\n",
              "</style>\n",
              "<table border=\"1\" class=\"dataframe\">\n",
              "  <thead>\n",
              "    <tr style=\"text-align: right;\">\n",
              "      <th></th>\n",
              "      <th></th>\n",
              "      <th>Condicao</th>\n",
              "    </tr>\n",
              "  </thead>\n",
              "  <tbody>\n",
              "    <tr>\n",
              "      <th rowspan=\"4\" valign=\"top\">January</th>\n",
              "      <th>Normal</th>\n",
              "      <td>31.0</td>\n",
              "    </tr>\n",
              "    <tr>\n",
              "      <th>Frio</th>\n",
              "      <td>0.0</td>\n",
              "    </tr>\n",
              "    <tr>\n",
              "      <th>Quente</th>\n",
              "      <td>11.0</td>\n",
              "    </tr>\n",
              "    <tr>\n",
              "      <th>Muito Quente</th>\n",
              "      <td>0.0</td>\n",
              "    </tr>\n",
              "    <tr>\n",
              "      <th rowspan=\"4\" valign=\"top\">February</th>\n",
              "      <th>Normal</th>\n",
              "      <td>32.0</td>\n",
              "    </tr>\n",
              "    <tr>\n",
              "      <th>Frio</th>\n",
              "      <td>1.0</td>\n",
              "    </tr>\n",
              "    <tr>\n",
              "      <th>Quente</th>\n",
              "      <td>9.0</td>\n",
              "    </tr>\n",
              "    <tr>\n",
              "      <th>Muito Quente</th>\n",
              "      <td>0.0</td>\n",
              "    </tr>\n",
              "    <tr>\n",
              "      <th rowspan=\"4\" valign=\"top\">March</th>\n",
              "      <th>Normal</th>\n",
              "      <td>15.0</td>\n",
              "    </tr>\n",
              "    <tr>\n",
              "      <th>Frio</th>\n",
              "      <td>0.0</td>\n",
              "    </tr>\n",
              "    <tr>\n",
              "      <th>Quente</th>\n",
              "      <td>27.0</td>\n",
              "    </tr>\n",
              "    <tr>\n",
              "      <th>Muito Quente</th>\n",
              "      <td>0.0</td>\n",
              "    </tr>\n",
              "    <tr>\n",
              "      <th rowspan=\"4\" valign=\"top\">April</th>\n",
              "      <th>Normal</th>\n",
              "      <td>23.0</td>\n",
              "    </tr>\n",
              "    <tr>\n",
              "      <th>Frio</th>\n",
              "      <td>0.0</td>\n",
              "    </tr>\n",
              "    <tr>\n",
              "      <th>Quente</th>\n",
              "      <td>19.0</td>\n",
              "    </tr>\n",
              "    <tr>\n",
              "      <th>Muito Quente</th>\n",
              "      <td>0.0</td>\n",
              "    </tr>\n",
              "    <tr>\n",
              "      <th rowspan=\"4\" valign=\"top\">May</th>\n",
              "      <th>Normal</th>\n",
              "      <td>25.0</td>\n",
              "    </tr>\n",
              "    <tr>\n",
              "      <th>Frio</th>\n",
              "      <td>0.0</td>\n",
              "    </tr>\n",
              "    <tr>\n",
              "      <th>Quente</th>\n",
              "      <td>17.0</td>\n",
              "    </tr>\n",
              "    <tr>\n",
              "      <th>Muito Quente</th>\n",
              "      <td>0.0</td>\n",
              "    </tr>\n",
              "    <tr>\n",
              "      <th rowspan=\"4\" valign=\"top\">June</th>\n",
              "      <th>Normal</th>\n",
              "      <td>23.0</td>\n",
              "    </tr>\n",
              "    <tr>\n",
              "      <th>Frio</th>\n",
              "      <td>1.0</td>\n",
              "    </tr>\n",
              "    <tr>\n",
              "      <th>Quente</th>\n",
              "      <td>18.0</td>\n",
              "    </tr>\n",
              "    <tr>\n",
              "      <th>Muito Quente</th>\n",
              "      <td>0.0</td>\n",
              "    </tr>\n",
              "    <tr>\n",
              "      <th rowspan=\"4\" valign=\"top\">July</th>\n",
              "      <th>Normal</th>\n",
              "      <td>23.0</td>\n",
              "    </tr>\n",
              "    <tr>\n",
              "      <th>Frio</th>\n",
              "      <td>1.0</td>\n",
              "    </tr>\n",
              "    <tr>\n",
              "      <th>Quente</th>\n",
              "      <td>18.0</td>\n",
              "    </tr>\n",
              "    <tr>\n",
              "      <th>Muito Quente</th>\n",
              "      <td>0.0</td>\n",
              "    </tr>\n",
              "    <tr>\n",
              "      <th rowspan=\"4\" valign=\"top\">August</th>\n",
              "      <th>Normal</th>\n",
              "      <td>6.0</td>\n",
              "    </tr>\n",
              "    <tr>\n",
              "      <th>Frio</th>\n",
              "      <td>0.0</td>\n",
              "    </tr>\n",
              "    <tr>\n",
              "      <th>Quente</th>\n",
              "      <td>30.0</td>\n",
              "    </tr>\n",
              "    <tr>\n",
              "      <th>Muito Quente</th>\n",
              "      <td>6.0</td>\n",
              "    </tr>\n",
              "    <tr>\n",
              "      <th rowspan=\"4\" valign=\"top\">September</th>\n",
              "      <th>Normal</th>\n",
              "      <td>9.0</td>\n",
              "    </tr>\n",
              "    <tr>\n",
              "      <th>Frio</th>\n",
              "      <td>0.0</td>\n",
              "    </tr>\n",
              "    <tr>\n",
              "      <th>Quente</th>\n",
              "      <td>29.0</td>\n",
              "    </tr>\n",
              "    <tr>\n",
              "      <th>Muito Quente</th>\n",
              "      <td>4.0</td>\n",
              "    </tr>\n",
              "    <tr>\n",
              "      <th rowspan=\"4\" valign=\"top\">October</th>\n",
              "      <th>Normal</th>\n",
              "      <td>11.0</td>\n",
              "    </tr>\n",
              "    <tr>\n",
              "      <th>Frio</th>\n",
              "      <td>0.0</td>\n",
              "    </tr>\n",
              "    <tr>\n",
              "      <th>Quente</th>\n",
              "      <td>31.0</td>\n",
              "    </tr>\n",
              "    <tr>\n",
              "      <th>Muito Quente</th>\n",
              "      <td>0.0</td>\n",
              "    </tr>\n",
              "    <tr>\n",
              "      <th rowspan=\"4\" valign=\"top\">November</th>\n",
              "      <th>Normal</th>\n",
              "      <td>17.0</td>\n",
              "    </tr>\n",
              "    <tr>\n",
              "      <th>Frio</th>\n",
              "      <td>0.0</td>\n",
              "    </tr>\n",
              "    <tr>\n",
              "      <th>Quente</th>\n",
              "      <td>24.0</td>\n",
              "    </tr>\n",
              "    <tr>\n",
              "      <th>Muito Quente</th>\n",
              "      <td>1.0</td>\n",
              "    </tr>\n",
              "    <tr>\n",
              "      <th rowspan=\"4\" valign=\"top\">December</th>\n",
              "      <th>Normal</th>\n",
              "      <td>23.0</td>\n",
              "    </tr>\n",
              "    <tr>\n",
              "      <th>Frio</th>\n",
              "      <td>0.0</td>\n",
              "    </tr>\n",
              "    <tr>\n",
              "      <th>Quente</th>\n",
              "      <td>19.0</td>\n",
              "    </tr>\n",
              "    <tr>\n",
              "      <th>Muito Quente</th>\n",
              "      <td>0.0</td>\n",
              "    </tr>\n",
              "  </tbody>\n",
              "</table>\n",
              "</div>"
            ],
            "text/plain": [
              "                        Condicao\n",
              "January   Normal            31.0\n",
              "          Frio               0.0\n",
              "          Quente            11.0\n",
              "          Muito Quente       0.0\n",
              "February  Normal            32.0\n",
              "          Frio               1.0\n",
              "          Quente             9.0\n",
              "          Muito Quente       0.0\n",
              "March     Normal            15.0\n",
              "          Frio               0.0\n",
              "          Quente            27.0\n",
              "          Muito Quente       0.0\n",
              "April     Normal            23.0\n",
              "          Frio               0.0\n",
              "          Quente            19.0\n",
              "          Muito Quente       0.0\n",
              "May       Normal            25.0\n",
              "          Frio               0.0\n",
              "          Quente            17.0\n",
              "          Muito Quente       0.0\n",
              "June      Normal            23.0\n",
              "          Frio               1.0\n",
              "          Quente            18.0\n",
              "          Muito Quente       0.0\n",
              "July      Normal            23.0\n",
              "          Frio               1.0\n",
              "          Quente            18.0\n",
              "          Muito Quente       0.0\n",
              "August    Normal             6.0\n",
              "          Frio               0.0\n",
              "          Quente            30.0\n",
              "          Muito Quente       6.0\n",
              "September Normal             9.0\n",
              "          Frio               0.0\n",
              "          Quente            29.0\n",
              "          Muito Quente       4.0\n",
              "October   Normal            11.0\n",
              "          Frio               0.0\n",
              "          Quente            31.0\n",
              "          Muito Quente       0.0\n",
              "November  Normal            17.0\n",
              "          Frio               0.0\n",
              "          Quente            24.0\n",
              "          Muito Quente       1.0\n",
              "December  Normal            23.0\n",
              "          Frio               0.0\n",
              "          Quente            19.0\n",
              "          Muito Quente       0.0"
            ]
          },
          "execution_count": 44,
          "metadata": {},
          "output_type": "execute_result"
        }
      ],
      "source": [
        "dx_counts.Condicao.replace(np.nan, 0).to_frame()"
      ]
    },
    {
      "cell_type": "markdown",
      "id": "f38e9bde-e98a-47e1-b58c-d9c92e05c0e3",
      "metadata": {
        "id": "f38e9bde-e98a-47e1-b58c-d9c92e05c0e3"
      },
      "source": [
        "## Filtragem por SQL do Pandas\n",
        "\n",
        "\n",
        "Outra interessante maneira de manipular e filtrar dados no pandas é utilizando a função **`.query`** em que é baseada em **Standard Query Language (SQL)**\n",
        "\n",
        "\n",
        "**Exemplos**\n",
        "\n",
        "* Filtrar Condicao Muito quente de acordo com um mes especifico\n",
        "\n",
        "* Filtre os meses com precipitacao <= 100"
      ]
    },
    {
      "cell_type": "code",
      "execution_count": null,
      "id": "ee7b8421-2263-426a-9d2b-ba67427d4ed5",
      "metadata": {
        "id": "ee7b8421-2263-426a-9d2b-ba67427d4ed5",
        "outputId": "eee575af-69a2-43d3-ece1-1ab1917dad32"
      },
      "outputs": [
        {
          "data": {
            "text/html": [
              "<div>\n",
              "<style scoped>\n",
              "    .dataframe tbody tr th:only-of-type {\n",
              "        vertical-align: middle;\n",
              "    }\n",
              "\n",
              "    .dataframe tbody tr th {\n",
              "        vertical-align: top;\n",
              "    }\n",
              "\n",
              "    .dataframe thead th {\n",
              "        text-align: right;\n",
              "    }\n",
              "</style>\n",
              "<table border=\"1\" class=\"dataframe\">\n",
              "  <thead>\n",
              "    <tr style=\"text-align: right;\">\n",
              "      <th></th>\n",
              "      <th>Time</th>\n",
              "      <th>Precipitation</th>\n",
              "      <th>Max_Temperature</th>\n",
              "      <th>Min_Temperature</th>\n",
              "      <th>Mean_Temperature</th>\n",
              "      <th>Condicao</th>\n",
              "      <th>Mes</th>\n",
              "    </tr>\n",
              "  </thead>\n",
              "  <tbody>\n",
              "    <tr>\n",
              "      <th>392</th>\n",
              "      <td>2011-09-01</td>\n",
              "      <td>62.311077</td>\n",
              "      <td>34.595806</td>\n",
              "      <td>23.608561</td>\n",
              "      <td>29.102183</td>\n",
              "      <td>Muito Quente</td>\n",
              "      <td>September</td>\n",
              "    </tr>\n",
              "    <tr>\n",
              "      <th>404</th>\n",
              "      <td>2012-09-01</td>\n",
              "      <td>58.926544</td>\n",
              "      <td>34.981609</td>\n",
              "      <td>23.380133</td>\n",
              "      <td>29.180871</td>\n",
              "      <td>Muito Quente</td>\n",
              "      <td>September</td>\n",
              "    </tr>\n",
              "    <tr>\n",
              "      <th>440</th>\n",
              "      <td>2015-09-01</td>\n",
              "      <td>28.257061</td>\n",
              "      <td>35.697010</td>\n",
              "      <td>23.787069</td>\n",
              "      <td>29.742040</td>\n",
              "      <td>Muito Quente</td>\n",
              "      <td>September</td>\n",
              "    </tr>\n",
              "    <tr>\n",
              "      <th>488</th>\n",
              "      <td>2019-09-01</td>\n",
              "      <td>90.616966</td>\n",
              "      <td>34.940788</td>\n",
              "      <td>23.584410</td>\n",
              "      <td>29.262599</td>\n",
              "      <td>Muito Quente</td>\n",
              "      <td>September</td>\n",
              "    </tr>\n",
              "  </tbody>\n",
              "</table>\n",
              "</div>"
            ],
            "text/plain": [
              "          Time  Precipitation  Max_Temperature  Min_Temperature  \\\n",
              "392 2011-09-01      62.311077        34.595806        23.608561   \n",
              "404 2012-09-01      58.926544        34.981609        23.380133   \n",
              "440 2015-09-01      28.257061        35.697010        23.787069   \n",
              "488 2019-09-01      90.616966        34.940788        23.584410   \n",
              "\n",
              "     Mean_Temperature      Condicao        Mes  \n",
              "392         29.102183  Muito Quente  September  \n",
              "404         29.180871  Muito Quente  September  \n",
              "440         29.742040  Muito Quente  September  \n",
              "488         29.262599  Muito Quente  September  "
            ]
          },
          "execution_count": 45,
          "metadata": {},
          "output_type": "execute_result"
        }
      ],
      "source": [
        "df.query('Condicao == \"Muito Quente\" & Mes == \"September\"')"
      ]
    },
    {
      "cell_type": "code",
      "execution_count": null,
      "id": "45afaeae-2803-4cae-a9df-1cb335d215c9",
      "metadata": {
        "id": "45afaeae-2803-4cae-a9df-1cb335d215c9",
        "outputId": "12947bcf-6e56-43db-858a-e54790a2f5b6"
      },
      "outputs": [
        {
          "data": {
            "text/plain": [
              "5           June\n",
              "6           July\n",
              "16           May\n",
              "17          June\n",
              "18          July\n",
              "         ...    \n",
              "488    September\n",
              "497         June\n",
              "498         July\n",
              "499       August\n",
              "501      October\n",
              "Name: Mes, Length: 188, dtype: object"
            ]
          },
          "execution_count": 46,
          "metadata": {},
          "output_type": "execute_result"
        }
      ],
      "source": [
        "df.query('Precipitation <= 100')['Mes']"
      ]
    },
    {
      "cell_type": "markdown",
      "id": "1ae74b77",
      "metadata": {
        "tags": [],
        "id": "1ae74b77"
      },
      "source": [
        "##  Aplicar redutores sobre o banco de dados\n",
        "\n",
        "\n",
        "Para aplicar redutores no banco de dados devemos definir uma coluna de indice, neste caso, vamos definir novamente\n",
        "\n",
        "a coluna de tempo\n",
        "\n",
        "**Transformar a série mensal em anual**\n"
      ]
    },
    {
      "cell_type": "code",
      "execution_count": null,
      "id": "e96a7d95-b8f2-464c-a358-364fa980080e",
      "metadata": {
        "id": "e96a7d95-b8f2-464c-a358-364fa980080e"
      },
      "outputs": [],
      "source": [
        "df.set_index('Time', inplace=True)"
      ]
    },
    {
      "cell_type": "code",
      "execution_count": null,
      "id": "4ff2288f",
      "metadata": {
        "id": "4ff2288f",
        "outputId": "c8a7222c-fb89-4aa3-f3e1-6136334adc55"
      },
      "outputs": [
        {
          "data": {
            "text/html": [
              "<div>\n",
              "<style scoped>\n",
              "    .dataframe tbody tr th:only-of-type {\n",
              "        vertical-align: middle;\n",
              "    }\n",
              "\n",
              "    .dataframe tbody tr th {\n",
              "        vertical-align: top;\n",
              "    }\n",
              "\n",
              "    .dataframe thead th {\n",
              "        text-align: right;\n",
              "    }\n",
              "</style>\n",
              "<table border=\"1\" class=\"dataframe\">\n",
              "  <thead>\n",
              "    <tr style=\"text-align: right;\">\n",
              "      <th></th>\n",
              "      <th>Precipitation</th>\n",
              "      <th>Max_Temperature</th>\n",
              "      <th>Min_Temperature</th>\n",
              "      <th>Mean_Temperature</th>\n",
              "    </tr>\n",
              "    <tr>\n",
              "      <th>Time</th>\n",
              "      <th></th>\n",
              "      <th></th>\n",
              "      <th></th>\n",
              "      <th></th>\n",
              "    </tr>\n",
              "  </thead>\n",
              "  <tbody>\n",
              "    <tr>\n",
              "      <th>1979-12-31</th>\n",
              "      <td>225.859641</td>\n",
              "      <td>31.490753</td>\n",
              "      <td>20.744616</td>\n",
              "      <td>26.117684</td>\n",
              "    </tr>\n",
              "    <tr>\n",
              "      <th>1980-12-31</th>\n",
              "      <td>235.501373</td>\n",
              "      <td>31.717306</td>\n",
              "      <td>21.220971</td>\n",
              "      <td>26.469138</td>\n",
              "    </tr>\n",
              "    <tr>\n",
              "      <th>1981-12-31</th>\n",
              "      <td>233.812271</td>\n",
              "      <td>31.801665</td>\n",
              "      <td>21.510090</td>\n",
              "      <td>26.655877</td>\n",
              "    </tr>\n",
              "    <tr>\n",
              "      <th>1982-12-31</th>\n",
              "      <td>225.989222</td>\n",
              "      <td>31.227357</td>\n",
              "      <td>21.882005</td>\n",
              "      <td>26.554681</td>\n",
              "    </tr>\n",
              "    <tr>\n",
              "      <th>1983-12-31</th>\n",
              "      <td>181.466892</td>\n",
              "      <td>32.206224</td>\n",
              "      <td>21.329817</td>\n",
              "      <td>26.768020</td>\n",
              "    </tr>\n",
              "    <tr>\n",
              "      <th>1984-12-31</th>\n",
              "      <td>225.306321</td>\n",
              "      <td>31.567694</td>\n",
              "      <td>21.540757</td>\n",
              "      <td>26.554225</td>\n",
              "    </tr>\n",
              "    <tr>\n",
              "      <th>1985-12-31</th>\n",
              "      <td>221.024825</td>\n",
              "      <td>31.275689</td>\n",
              "      <td>21.355908</td>\n",
              "      <td>26.315799</td>\n",
              "    </tr>\n",
              "    <tr>\n",
              "      <th>1986-12-31</th>\n",
              "      <td>210.304345</td>\n",
              "      <td>31.167678</td>\n",
              "      <td>21.253326</td>\n",
              "      <td>26.210502</td>\n",
              "    </tr>\n",
              "    <tr>\n",
              "      <th>1987-12-31</th>\n",
              "      <td>200.854767</td>\n",
              "      <td>31.524152</td>\n",
              "      <td>21.162039</td>\n",
              "      <td>26.343096</td>\n",
              "    </tr>\n",
              "    <tr>\n",
              "      <th>1988-12-31</th>\n",
              "      <td>206.675182</td>\n",
              "      <td>31.468873</td>\n",
              "      <td>21.237215</td>\n",
              "      <td>26.353044</td>\n",
              "    </tr>\n",
              "    <tr>\n",
              "      <th>1989-12-31</th>\n",
              "      <td>194.746932</td>\n",
              "      <td>30.953582</td>\n",
              "      <td>21.205118</td>\n",
              "      <td>26.079350</td>\n",
              "    </tr>\n",
              "    <tr>\n",
              "      <th>1990-12-31</th>\n",
              "      <td>177.858070</td>\n",
              "      <td>31.395325</td>\n",
              "      <td>21.876558</td>\n",
              "      <td>26.635941</td>\n",
              "    </tr>\n",
              "    <tr>\n",
              "      <th>1991-12-31</th>\n",
              "      <td>163.702152</td>\n",
              "      <td>31.770596</td>\n",
              "      <td>22.229970</td>\n",
              "      <td>27.000283</td>\n",
              "    </tr>\n",
              "    <tr>\n",
              "      <th>1992-12-31</th>\n",
              "      <td>199.505707</td>\n",
              "      <td>31.619193</td>\n",
              "      <td>22.024437</td>\n",
              "      <td>26.821815</td>\n",
              "    </tr>\n",
              "    <tr>\n",
              "      <th>1993-12-31</th>\n",
              "      <td>212.584174</td>\n",
              "      <td>31.142990</td>\n",
              "      <td>21.758598</td>\n",
              "      <td>26.450794</td>\n",
              "    </tr>\n",
              "    <tr>\n",
              "      <th>1994-12-31</th>\n",
              "      <td>206.644982</td>\n",
              "      <td>30.791410</td>\n",
              "      <td>21.962522</td>\n",
              "      <td>26.376966</td>\n",
              "    </tr>\n",
              "    <tr>\n",
              "      <th>1995-12-31</th>\n",
              "      <td>159.932365</td>\n",
              "      <td>30.964976</td>\n",
              "      <td>21.660707</td>\n",
              "      <td>26.312841</td>\n",
              "    </tr>\n",
              "    <tr>\n",
              "      <th>1996-12-31</th>\n",
              "      <td>132.430653</td>\n",
              "      <td>31.092261</td>\n",
              "      <td>21.282290</td>\n",
              "      <td>26.187276</td>\n",
              "    </tr>\n",
              "    <tr>\n",
              "      <th>1997-12-31</th>\n",
              "      <td>197.126447</td>\n",
              "      <td>31.805911</td>\n",
              "      <td>22.786859</td>\n",
              "      <td>27.296385</td>\n",
              "    </tr>\n",
              "    <tr>\n",
              "      <th>1998-12-31</th>\n",
              "      <td>116.562526</td>\n",
              "      <td>31.983303</td>\n",
              "      <td>23.258440</td>\n",
              "      <td>27.620871</td>\n",
              "    </tr>\n",
              "    <tr>\n",
              "      <th>1999-12-31</th>\n",
              "      <td>97.800736</td>\n",
              "      <td>31.689461</td>\n",
              "      <td>22.735810</td>\n",
              "      <td>27.212636</td>\n",
              "    </tr>\n",
              "    <tr>\n",
              "      <th>2000-12-31</th>\n",
              "      <td>141.847075</td>\n",
              "      <td>31.709885</td>\n",
              "      <td>22.282516</td>\n",
              "      <td>26.996201</td>\n",
              "    </tr>\n",
              "    <tr>\n",
              "      <th>2001-12-31</th>\n",
              "      <td>160.701644</td>\n",
              "      <td>31.283041</td>\n",
              "      <td>22.452460</td>\n",
              "      <td>26.867750</td>\n",
              "    </tr>\n",
              "    <tr>\n",
              "      <th>2002-12-31</th>\n",
              "      <td>143.698364</td>\n",
              "      <td>31.660461</td>\n",
              "      <td>23.204648</td>\n",
              "      <td>27.432554</td>\n",
              "    </tr>\n",
              "    <tr>\n",
              "      <th>2003-12-31</th>\n",
              "      <td>159.446252</td>\n",
              "      <td>31.684543</td>\n",
              "      <td>23.265203</td>\n",
              "      <td>27.474873</td>\n",
              "    </tr>\n",
              "    <tr>\n",
              "      <th>2004-12-31</th>\n",
              "      <td>139.269361</td>\n",
              "      <td>31.521144</td>\n",
              "      <td>23.291681</td>\n",
              "      <td>27.406412</td>\n",
              "    </tr>\n",
              "    <tr>\n",
              "      <th>2005-12-31</th>\n",
              "      <td>83.041818</td>\n",
              "      <td>32.276909</td>\n",
              "      <td>23.036709</td>\n",
              "      <td>27.656809</td>\n",
              "    </tr>\n",
              "    <tr>\n",
              "      <th>2006-12-31</th>\n",
              "      <td>177.055860</td>\n",
              "      <td>32.763863</td>\n",
              "      <td>22.628629</td>\n",
              "      <td>27.696246</td>\n",
              "    </tr>\n",
              "    <tr>\n",
              "      <th>2007-12-31</th>\n",
              "      <td>140.427663</td>\n",
              "      <td>31.862428</td>\n",
              "      <td>22.652157</td>\n",
              "      <td>27.257292</td>\n",
              "    </tr>\n",
              "    <tr>\n",
              "      <th>2008-12-31</th>\n",
              "      <td>164.775705</td>\n",
              "      <td>31.829694</td>\n",
              "      <td>22.260945</td>\n",
              "      <td>27.045320</td>\n",
              "    </tr>\n",
              "    <tr>\n",
              "      <th>2009-12-31</th>\n",
              "      <td>181.978621</td>\n",
              "      <td>32.174031</td>\n",
              "      <td>22.826864</td>\n",
              "      <td>27.500447</td>\n",
              "    </tr>\n",
              "    <tr>\n",
              "      <th>2010-12-31</th>\n",
              "      <td>139.249961</td>\n",
              "      <td>32.737615</td>\n",
              "      <td>22.746473</td>\n",
              "      <td>27.742044</td>\n",
              "    </tr>\n",
              "    <tr>\n",
              "      <th>2011-12-31</th>\n",
              "      <td>116.539990</td>\n",
              "      <td>33.028276</td>\n",
              "      <td>23.227423</td>\n",
              "      <td>28.127849</td>\n",
              "    </tr>\n",
              "    <tr>\n",
              "      <th>2012-12-31</th>\n",
              "      <td>65.535655</td>\n",
              "      <td>32.940455</td>\n",
              "      <td>23.124769</td>\n",
              "      <td>28.032612</td>\n",
              "    </tr>\n",
              "    <tr>\n",
              "      <th>2013-12-31</th>\n",
              "      <td>107.222111</td>\n",
              "      <td>31.991071</td>\n",
              "      <td>22.995192</td>\n",
              "      <td>27.493131</td>\n",
              "    </tr>\n",
              "    <tr>\n",
              "      <th>2014-12-31</th>\n",
              "      <td>107.206189</td>\n",
              "      <td>31.867872</td>\n",
              "      <td>22.850972</td>\n",
              "      <td>27.359422</td>\n",
              "    </tr>\n",
              "    <tr>\n",
              "      <th>2015-12-31</th>\n",
              "      <td>102.742245</td>\n",
              "      <td>32.772075</td>\n",
              "      <td>23.018840</td>\n",
              "      <td>27.895457</td>\n",
              "    </tr>\n",
              "    <tr>\n",
              "      <th>2016-12-31</th>\n",
              "      <td>144.437468</td>\n",
              "      <td>32.702485</td>\n",
              "      <td>23.137729</td>\n",
              "      <td>27.920107</td>\n",
              "    </tr>\n",
              "    <tr>\n",
              "      <th>2017-12-31</th>\n",
              "      <td>185.867315</td>\n",
              "      <td>31.786316</td>\n",
              "      <td>22.855404</td>\n",
              "      <td>27.320860</td>\n",
              "    </tr>\n",
              "    <tr>\n",
              "      <th>2018-12-31</th>\n",
              "      <td>141.602753</td>\n",
              "      <td>31.270340</td>\n",
              "      <td>22.723241</td>\n",
              "      <td>26.996791</td>\n",
              "    </tr>\n",
              "    <tr>\n",
              "      <th>2019-12-31</th>\n",
              "      <td>141.030668</td>\n",
              "      <td>32.357191</td>\n",
              "      <td>23.102962</td>\n",
              "      <td>27.730077</td>\n",
              "    </tr>\n",
              "    <tr>\n",
              "      <th>2020-12-31</th>\n",
              "      <td>143.969217</td>\n",
              "      <td>32.620018</td>\n",
              "      <td>23.069336</td>\n",
              "      <td>27.844677</td>\n",
              "    </tr>\n",
              "  </tbody>\n",
              "</table>\n",
              "</div>"
            ],
            "text/plain": [
              "            Precipitation  Max_Temperature  Min_Temperature  Mean_Temperature\n",
              "Time                                                                         \n",
              "1979-12-31     225.859641        31.490753        20.744616         26.117684\n",
              "1980-12-31     235.501373        31.717306        21.220971         26.469138\n",
              "1981-12-31     233.812271        31.801665        21.510090         26.655877\n",
              "1982-12-31     225.989222        31.227357        21.882005         26.554681\n",
              "1983-12-31     181.466892        32.206224        21.329817         26.768020\n",
              "1984-12-31     225.306321        31.567694        21.540757         26.554225\n",
              "1985-12-31     221.024825        31.275689        21.355908         26.315799\n",
              "1986-12-31     210.304345        31.167678        21.253326         26.210502\n",
              "1987-12-31     200.854767        31.524152        21.162039         26.343096\n",
              "1988-12-31     206.675182        31.468873        21.237215         26.353044\n",
              "1989-12-31     194.746932        30.953582        21.205118         26.079350\n",
              "1990-12-31     177.858070        31.395325        21.876558         26.635941\n",
              "1991-12-31     163.702152        31.770596        22.229970         27.000283\n",
              "1992-12-31     199.505707        31.619193        22.024437         26.821815\n",
              "1993-12-31     212.584174        31.142990        21.758598         26.450794\n",
              "1994-12-31     206.644982        30.791410        21.962522         26.376966\n",
              "1995-12-31     159.932365        30.964976        21.660707         26.312841\n",
              "1996-12-31     132.430653        31.092261        21.282290         26.187276\n",
              "1997-12-31     197.126447        31.805911        22.786859         27.296385\n",
              "1998-12-31     116.562526        31.983303        23.258440         27.620871\n",
              "1999-12-31      97.800736        31.689461        22.735810         27.212636\n",
              "2000-12-31     141.847075        31.709885        22.282516         26.996201\n",
              "2001-12-31     160.701644        31.283041        22.452460         26.867750\n",
              "2002-12-31     143.698364        31.660461        23.204648         27.432554\n",
              "2003-12-31     159.446252        31.684543        23.265203         27.474873\n",
              "2004-12-31     139.269361        31.521144        23.291681         27.406412\n",
              "2005-12-31      83.041818        32.276909        23.036709         27.656809\n",
              "2006-12-31     177.055860        32.763863        22.628629         27.696246\n",
              "2007-12-31     140.427663        31.862428        22.652157         27.257292\n",
              "2008-12-31     164.775705        31.829694        22.260945         27.045320\n",
              "2009-12-31     181.978621        32.174031        22.826864         27.500447\n",
              "2010-12-31     139.249961        32.737615        22.746473         27.742044\n",
              "2011-12-31     116.539990        33.028276        23.227423         28.127849\n",
              "2012-12-31      65.535655        32.940455        23.124769         28.032612\n",
              "2013-12-31     107.222111        31.991071        22.995192         27.493131\n",
              "2014-12-31     107.206189        31.867872        22.850972         27.359422\n",
              "2015-12-31     102.742245        32.772075        23.018840         27.895457\n",
              "2016-12-31     144.437468        32.702485        23.137729         27.920107\n",
              "2017-12-31     185.867315        31.786316        22.855404         27.320860\n",
              "2018-12-31     141.602753        31.270340        22.723241         26.996791\n",
              "2019-12-31     141.030668        32.357191        23.102962         27.730077\n",
              "2020-12-31     143.969217        32.620018        23.069336         27.844677"
            ]
          },
          "execution_count": 48,
          "metadata": {},
          "output_type": "execute_result"
        }
      ],
      "source": [
        "df.resample('1Y').mean()"
      ]
    },
    {
      "cell_type": "markdown",
      "id": "185aa29e-e534-4d15-9a3b-a54012c38884",
      "metadata": {
        "id": "185aa29e-e534-4d15-9a3b-a54012c38884"
      },
      "source": [
        "# Pandas e Scipy"
      ]
    },
    {
      "cell_type": "markdown",
      "id": "2239bd3e-1016-4b13-bd76-f6bb070fec9e",
      "metadata": {
        "id": "2239bd3e-1016-4b13-bd76-f6bb070fec9e"
      },
      "source": [
        "O pacote **SciPy** contém várias ferramentas dedicadas a problemas comuns em computação científica. Seus diferentes sub-módulos correspondem a diferentes aplicações, tais como interpolação, integração, otimização, processamento de imagens, estatísticas, funções especiais, etc\n",
        "\n",
        "O SciPy pode ser comparado a outras bibliotecas de computação científica padrão, como a GSL (GNU Scientific Library para C e C + +), ou caixas de ferramentas do Matlab. O SciPy é o pacote principal de rotinas científicas em Python, que se destina a operar de forma eficiente em matrizes numpy e series e dataframes pandas, de modo que numpy e scipy trabalhem lado a lado."
      ]
    },
    {
      "cell_type": "markdown",
      "id": "6638d333-1c61-4159-b3e3-9e124575c049",
      "metadata": {
        "id": "6638d333-1c61-4159-b3e3-9e124575c049"
      },
      "source": [
        "<center><img src='scipy_modules.png' width=650></center>"
      ]
    },
    {
      "cell_type": "markdown",
      "id": "95812b53-a9f7-4efe-9fec-aa34d4df66f3",
      "metadata": {
        "id": "95812b53-a9f7-4efe-9fec-aa34d4df66f3"
      },
      "source": [
        "**Exemplo pratico**"
      ]
    },
    {
      "cell_type": "markdown",
      "id": "c7553c22-016b-46fb-bad2-56d29f56aa22",
      "metadata": {
        "id": "c7553c22-016b-46fb-bad2-56d29f56aa22"
      },
      "source": [
        "Vamos calcular a correlação entre a Precipitação e a Temperatura média do ar utilizando a biblioteca scipy.\n",
        "\n",
        "\n",
        "\n",
        "Primeiramente vamos importar apenas o módulo de estatistica do scipy, e não a biblioteca inteira."
      ]
    },
    {
      "cell_type": "code",
      "execution_count": null,
      "id": "85b2e0a7-e6cf-4d86-aca5-bd5d6d726af0",
      "metadata": {
        "id": "85b2e0a7-e6cf-4d86-aca5-bd5d6d726af0"
      },
      "outputs": [],
      "source": [
        "from scipy import stats"
      ]
    },
    {
      "cell_type": "markdown",
      "id": "63839540-8b80-453d-b7fb-2d613dc29165",
      "metadata": {
        "id": "63839540-8b80-453d-b7fb-2d613dc29165"
      },
      "source": [
        "Com o módulo ja importado, vamos chamar a funcào que calcula a correlacão de Pearson R e inserir os parametros de entrada"
      ]
    },
    {
      "cell_type": "markdown",
      "id": "f16ed36d-5a1b-4be4-8b48-8c03bc755aa0",
      "metadata": {
        "id": "f16ed36d-5a1b-4be4-8b48-8c03bc755aa0"
      },
      "source": [
        "Primeiro vamos guardar as variaveis em objetos para melhor compreensão"
      ]
    },
    {
      "cell_type": "code",
      "execution_count": null,
      "id": "37c3f947-1d93-4d81-8b42-879786215799",
      "metadata": {
        "id": "37c3f947-1d93-4d81-8b42-879786215799"
      },
      "outputs": [],
      "source": [
        "X = df['Mean_Temperature']\n",
        "Y = df['Precipitation']"
      ]
    },
    {
      "cell_type": "code",
      "execution_count": null,
      "id": "ca8abfc8-60e0-4495-98dc-f381f59141e9",
      "metadata": {
        "id": "ca8abfc8-60e0-4495-98dc-f381f59141e9",
        "outputId": "b1250024-3008-4ba3-8da0-b2e36829af46"
      },
      "outputs": [
        {
          "data": {
            "text/plain": [
              "(-0.3289533490066128, 3.493647219587157e-14)"
            ]
          },
          "execution_count": 51,
          "metadata": {},
          "output_type": "execute_result"
        }
      ],
      "source": [
        "# Calcular a correlaçao de Pearson R\n",
        "stats.pearsonr(X, Y)"
      ]
    },
    {
      "cell_type": "markdown",
      "id": "c58836f2-9eab-4a13-86f1-d99332b0bb0e",
      "metadata": {
        "id": "c58836f2-9eab-4a13-86f1-d99332b0bb0e"
      },
      "source": [
        "Como output, temos dois valores, guardado em uma tupla em que respectivamente são o valor da **Correlação de Pearson R e a significancia do seu resultado (valor-p)**\n",
        "\n",
        "\n",
        "Desta maneira podemos fazer o unpacking desta tupla para extrair o resultado e guardar em novas variaveis"
      ]
    },
    {
      "cell_type": "code",
      "execution_count": null,
      "id": "7ec30888-a1f7-45bb-95e0-e0abad5f4501",
      "metadata": {
        "id": "7ec30888-a1f7-45bb-95e0-e0abad5f4501"
      },
      "outputs": [],
      "source": [
        "# Calcular a correlaçao de Pearson R\n",
        "r, p = stats.pearsonr(X, Y)"
      ]
    },
    {
      "cell_type": "markdown",
      "id": "4a2be404-7818-4a5e-a28b-b4dba87879d7",
      "metadata": {
        "id": "4a2be404-7818-4a5e-a28b-b4dba87879d7"
      },
      "source": [
        "Feito isso, agora temos na variavel **r** o valor da correlação e na variavel **p** o valor da significancia "
      ]
    },
    {
      "cell_type": "markdown",
      "id": "debd2dd2-0ed0-4c85-af30-d96a5d6cf380",
      "metadata": {
        "id": "debd2dd2-0ed0-4c85-af30-d96a5d6cf380"
      },
      "source": [
        "Podemos então fazer uma condicional e verificar com base no valor-p se o resultado da correlacao é significativo ou não"
      ]
    },
    {
      "cell_type": "code",
      "execution_count": null,
      "id": "83f0d2fe-06c8-4a07-99e1-9d00c918dce7",
      "metadata": {
        "id": "83f0d2fe-06c8-4a07-99e1-9d00c918dce7",
        "outputId": "0f60927f-d7ec-4e06-b07c-e601c0c7be55"
      },
      "outputs": [
        {
          "name": "stdout",
          "output_type": "stream",
          "text": [
            "A correlação é significativa r = -0.33 valor-p = 0.00\n"
          ]
        }
      ],
      "source": [
        "alpha = 0.05\n",
        "if p <= alpha:\n",
        "    print(f'A correlação é significativa r = {r:.2f} valor-p = {p:.2f}')\n",
        "else:\n",
        "    print(f'A correlação não é significativa r = {r:.2f} valor-p = {p:.2f}')"
      ]
    },
    {
      "cell_type": "markdown",
      "id": "12d92d46-6838-454b-a58f-fd402f79c189",
      "metadata": {
        "id": "12d92d46-6838-454b-a58f-fd402f79c189"
      },
      "source": [
        "**Por fim, vamos salvar o dataframe para podermos utilizar no proximo módulo**"
      ]
    },
    {
      "cell_type": "code",
      "execution_count": null,
      "id": "01fe73c5-28cd-4e9a-8017-98bcaa1ca2b9",
      "metadata": {
        "id": "01fe73c5-28cd-4e9a-8017-98bcaa1ca2b9"
      },
      "outputs": [],
      "source": [
        "# Salvando o dataframe modificado\n",
        "#df.to_excel('variaveis_clima.xlsx')"
      ]
    },
    {
      "cell_type": "markdown",
      "id": "843c9751-bc7b-42fa-9277-730e9959bf56",
      "metadata": {
        "id": "843c9751-bc7b-42fa-9277-730e9959bf56"
      },
      "source": [
        "**Por Hoje é isso pessoal**"
      ]
    }
  ],
  "metadata": {
    "kernelspec": {
      "display_name": "Python 3",
      "language": "python",
      "name": "python3"
    },
    "language_info": {
      "codemirror_mode": {
        "name": "ipython",
        "version": 3
      },
      "file_extension": ".py",
      "mimetype": "text/x-python",
      "name": "python",
      "nbconvert_exporter": "python",
      "pygments_lexer": "ipython3",
      "version": "3.7.12"
    },
    "toc": {
      "base_numbering": 1,
      "nav_menu": {},
      "number_sections": true,
      "sideBar": true,
      "skip_h1_title": false,
      "title_cell": "Table of Contents",
      "title_sidebar": "Contents",
      "toc_cell": false,
      "toc_position": {
        "height": "calc(100% - 180px)",
        "left": "10px",
        "top": "150px",
        "width": "180.273px"
      },
      "toc_section_display": true,
      "toc_window_display": true
    },
    "varInspector": {
      "cols": {
        "lenName": 16,
        "lenType": 16,
        "lenVar": 40
      },
      "kernels_config": {
        "python": {
          "delete_cmd_postfix": "",
          "delete_cmd_prefix": "del ",
          "library": "var_list.py",
          "varRefreshCmd": "print(var_dic_list())"
        },
        "r": {
          "delete_cmd_postfix": ") ",
          "delete_cmd_prefix": "rm(",
          "library": "var_list.r",
          "varRefreshCmd": "cat(var_dic_list()) "
        }
      },
      "types_to_exclude": [
        "module",
        "function",
        "builtin_function_or_method",
        "instance",
        "_Feature"
      ],
      "window_display": false
    },
    "colab": {
      "name": "Introdução_ao_Pandas.ipynb",
      "provenance": [],
      "include_colab_link": true
    }
  },
  "nbformat": 4,
  "nbformat_minor": 5
}