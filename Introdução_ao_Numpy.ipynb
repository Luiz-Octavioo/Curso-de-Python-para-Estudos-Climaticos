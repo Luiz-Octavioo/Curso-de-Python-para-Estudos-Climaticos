{
 "cells": [
  {
   "cell_type": "markdown",
   "metadata": {},
   "source": [
    "<center><img src=https://miro.medium.com/max/765/0*p0FtnloWd4ogMvTQ.png>"
   ]
  },
  {
   "cell_type": "markdown",
   "metadata": {},
   "source": [
    "• O pacote Numerical Python (NumPy) é fundamental para a computação científica em\n",
    "Python. Ele possibilita o uso de uma estrutura de dados n-dimensionais chamada de array, que é basicamente um conjunto de elementos com o funcionamento similar a de um vetor\n",
    "ou matriz;\n",
    "\n",
    "\n",
    "• Aprender o funcionamento básico do NumPy é o primeiro passo para conhecer todo o enorme\n",
    "ecossistema de ciência de dados e programação científica em Python;\n",
    "\n",
    "\n",
    "• Pela convenção da comunidade, o NumPy é reconhecido pela abreviatura np. Isto é, podemos\n",
    "importá-lo da seguinte maneira:"
   ]
  },
  {
   "cell_type": "code",
   "execution_count": 1,
   "metadata": {
    "colab": {},
    "colab_type": "code",
    "id": "gAOpfL1F8gGr"
   },
   "outputs": [],
   "source": [
    "import numpy as np"
   ]
  },
  {
   "cell_type": "markdown",
   "metadata": {},
   "source": [
    "# Onde o NumPy é utilizado?\n",
    "\n",
    "\n",
    "Existem diversas tecnologias na atualidade que se beneficiam da performance do NumPy para cálculos matemáticos.\n",
    "\n",
    "**Machine Learning**: Durante a construção de modelos de Machine Learning, os algoritmos esperam receber os dados em formato numérico, ou em forma de matriz. A biblioteca NumPy é uma das mais utilizadas nas transformações de dados e pré-processamento durante o pipeline de Machine Learning.\n",
    "\n",
    "**Visão computacional e inteligência artificial**: Toda imagem é vista pelo computador como um conjunto de pixels, que são traduzidos para matrizes numéricas de acordo com cores, saturação e outras características das imagens. O NumPy apresenta-se como uma excelente ferramenta para esse tipo de aplicação.\n",
    "\n",
    "**Estatística**: Com o advento do Big Data, a quantidade de dados imensa junto com a aplicabilidade do NumPy para cálculos estatísticos, matemáticos e matriciais tem mostrado todo seu potencial atualmente.\n",
    "\n",
    "**Engenharias**: O NumPy é utilizado em engenharias pois possui funcionalidades interessantes e aplicáveis para a área em questão, como cálculos complexos, transformadas de fourier, derivadas, integrais."
   ]
  },
  {
   "cell_type": "code",
   "execution_count": 2,
   "metadata": {
    "colab": {
     "base_uri": "https://localhost:8080/",
     "height": 34
    },
    "colab_type": "code",
    "executionInfo": {
     "elapsed": 612,
     "status": "ok",
     "timestamp": 1577579577579,
     "user": {
      "displayName": "Luiz Octavio Fabricio dos Santos",
      "photoUrl": "",
      "userId": "04804636173627386154"
     },
     "user_tz": 240
    },
    "id": "KMHpg3s1EWgU",
    "outputId": "8c6a4093-bbf9-45ed-8b79-596178c245df"
   },
   "outputs": [
    {
     "data": {
      "text/plain": [
       "[1, 2, 3]"
      ]
     },
     "execution_count": 2,
     "metadata": {},
     "output_type": "execute_result"
    }
   ],
   "source": [
    "# Vamos criar uma lista\n",
    "minha_lista = [1,2,3]\n",
    "minha_lista"
   ]
  },
  {
   "cell_type": "markdown",
   "metadata": {},
   "source": [
    "Arrays são o tipo de objeto básico do NumPy. São como listas em Python, que contém valores armazenados em posições.\n",
    "\n",
    "\n",
    "<center><img src=https://ifrnead.github.io/rubynapratica/assets/images/estrutura-array.png></center>"
   ]
  },
  {
   "cell_type": "markdown",
   "metadata": {},
   "source": [
    "Um array também pode ser multidimensional, não se limitando apenas à 3D, dimensão máxima que o ser humano consegue compreender.\n",
    "\n",
    "<center><img src=https://miro.medium.com/max/3184/1*X0Dg7QfSYtWhSAu-afi8-g.png width=750></center>"
   ]
  },
  {
   "cell_type": "markdown",
   "metadata": {
    "colab_type": "text",
    "id": "Z26Te51zEnj3",
    "tags": []
   },
   "source": [
    "# Convertendo minha lista em um array Numpy\n"
   ]
  },
  {
   "cell_type": "code",
   "execution_count": 3,
   "metadata": {
    "colab": {
     "base_uri": "https://localhost:8080/",
     "height": 34
    },
    "colab_type": "code",
    "executionInfo": {
     "elapsed": 1422,
     "status": "ok",
     "timestamp": 1577579751125,
     "user": {
      "displayName": "Luiz Octavio Fabricio dos Santos",
      "photoUrl": "",
      "userId": "04804636173627386154"
     },
     "user_tz": 240
    },
    "id": "Vkm9prxFEfg2",
    "outputId": "a0fb4c05-7261-48fd-d6c0-dc4be3a0ae86"
   },
   "outputs": [
    {
     "data": {
      "text/plain": [
       "array([1, 2, 3])"
      ]
     },
     "execution_count": 3,
     "metadata": {},
     "output_type": "execute_result"
    }
   ],
   "source": [
    "# Utliza-se a função array\n",
    "np.array(minha_lista)"
   ]
  },
  {
   "cell_type": "code",
   "execution_count": 4,
   "metadata": {},
   "outputs": [
    {
     "data": {
      "text/plain": [
       "numpy.ndarray"
      ]
     },
     "execution_count": 4,
     "metadata": {},
     "output_type": "execute_result"
    }
   ],
   "source": [
    "type(np.array(minha_lista))"
   ]
  },
  {
   "cell_type": "code",
   "execution_count": 5,
   "metadata": {
    "colab": {
     "base_uri": "https://localhost:8080/",
     "height": 68
    },
    "colab_type": "code",
    "executionInfo": {
     "elapsed": 1239,
     "status": "ok",
     "timestamp": 1577579906082,
     "user": {
      "displayName": "Luiz Octavio Fabricio dos Santos",
      "photoUrl": "",
      "userId": "04804636173627386154"
     },
     "user_tz": 240
    },
    "id": "RMeofseTFKDX",
    "outputId": "496d7d7d-e111-4f8c-81ce-cdd03dd0688d"
   },
   "outputs": [
    {
     "data": {
      "text/plain": [
       "array([[1, 2, 3],\n",
       "       [4, 5, 6],\n",
       "       [7, 8, 9]])"
      ]
     },
     "execution_count": 5,
     "metadata": {},
     "output_type": "execute_result"
    }
   ],
   "source": [
    "# Criando uma matriz array\n",
    "# Matriz de duas dimensões\n",
    "minha_matriz = [[1,2,3],[4,5,6],[7,8,9]]\n",
    "np.array(minha_matriz)"
   ]
  },
  {
   "cell_type": "markdown",
   "metadata": {
    "colab_type": "text",
    "id": "kEzpb2QgGP2O"
   },
   "source": [
    "Observa-se as dimensões de um Numpy array através da quantidade de colchetes presentes"
   ]
  },
  {
   "cell_type": "code",
   "execution_count": 6,
   "metadata": {
    "colab": {
     "base_uri": "https://localhost:8080/",
     "height": 34
    },
    "colab_type": "code",
    "executionInfo": {
     "elapsed": 1167,
     "status": "ok",
     "timestamp": 1577580304702,
     "user": {
      "displayName": "Luiz Octavio Fabricio dos Santos",
      "photoUrl": "",
      "userId": "04804636173627386154"
     },
     "user_tz": 240
    },
    "id": "s3Qy-WAjFv6u",
    "outputId": "1bf51316-f576-4832-a15d-c074eaefaa98"
   },
   "outputs": [
    {
     "data": {
      "text/plain": [
       "array([0, 1, 2, 3, 4, 5, 6, 7, 8, 9])"
      ]
     },
     "execution_count": 6,
     "metadata": {},
     "output_type": "execute_result"
    }
   ],
   "source": [
    "# Utlizar o método np.arange para criar um array numpy de dados\n",
    "np.arange(0, 10)"
   ]
  },
  {
   "cell_type": "code",
   "execution_count": 7,
   "metadata": {
    "colab": {
     "base_uri": "https://localhost:8080/",
     "height": 34
    },
    "colab_type": "code",
    "executionInfo": {
     "elapsed": 1320,
     "status": "ok",
     "timestamp": 1577580367458,
     "user": {
      "displayName": "Luiz Octavio Fabricio dos Santos",
      "photoUrl": "",
      "userId": "04804636173627386154"
     },
     "user_tz": 240
    },
    "id": "YRN7PzTwG0Ig",
    "outputId": "a1288d6e-56a8-479a-aa25-df710e802925"
   },
   "outputs": [
    {
     "data": {
      "text/plain": [
       "array([0, 2, 4, 6, 8])"
      ]
     },
     "execution_count": 7,
     "metadata": {},
     "output_type": "execute_result"
    }
   ],
   "source": [
    "np.arange(0, 10, 2)"
   ]
  },
  {
   "cell_type": "code",
   "execution_count": 8,
   "metadata": {
    "colab": {
     "base_uri": "https://localhost:8080/",
     "height": 34
    },
    "colab_type": "code",
    "executionInfo": {
     "elapsed": 1603,
     "status": "ok",
     "timestamp": 1577580499832,
     "user": {
      "displayName": "Luiz Octavio Fabricio dos Santos",
      "photoUrl": "",
      "userId": "04804636173627386154"
     },
     "user_tz": 240
    },
    "id": "hzRAm-JiHgjQ",
    "outputId": "7e0201c8-777e-4711-994b-b0b2d2a5e44c"
   },
   "outputs": [
    {
     "data": {
      "text/plain": [
       "array([0., 0., 0.])"
      ]
     },
     "execution_count": 8,
     "metadata": {},
     "output_type": "execute_result"
    }
   ],
   "source": [
    "# Criar array de 0\n",
    "np.zeros(3)"
   ]
  },
  {
   "cell_type": "code",
   "execution_count": 9,
   "metadata": {
    "colab": {
     "base_uri": "https://localhost:8080/",
     "height": 102
    },
    "colab_type": "code",
    "executionInfo": {
     "elapsed": 1116,
     "status": "ok",
     "timestamp": 1577580620209,
     "user": {
      "displayName": "Luiz Octavio Fabricio dos Santos",
      "photoUrl": "",
      "userId": "04804636173627386154"
     },
     "user_tz": 240
    },
    "id": "gK-IowCAH3Bn",
    "outputId": "926996cb-b24a-440e-8b58-20dd6dd501cb"
   },
   "outputs": [
    {
     "data": {
      "text/plain": [
       "array([[0., 0., 0., 0., 0.],\n",
       "       [0., 0., 0., 0., 0.],\n",
       "       [0., 0., 0., 0., 0.],\n",
       "       [0., 0., 0., 0., 0.],\n",
       "       [0., 0., 0., 0., 0.]])"
      ]
     },
     "execution_count": 9,
     "metadata": {},
     "output_type": "execute_result"
    }
   ],
   "source": [
    "# Criar  matriz array de 0\n",
    "np.zeros((5,5))"
   ]
  },
  {
   "cell_type": "code",
   "execution_count": 10,
   "metadata": {
    "colab": {
     "base_uri": "https://localhost:8080/",
     "height": 102
    },
    "colab_type": "code",
    "executionInfo": {
     "elapsed": 1475,
     "status": "ok",
     "timestamp": 1577580660782,
     "user": {
      "displayName": "Luiz Octavio Fabricio dos Santos",
      "photoUrl": "",
      "userId": "04804636173627386154"
     },
     "user_tz": 240
    },
    "id": "jhOR067HIWdK",
    "outputId": "45c595a9-599d-4c8d-e692-3a486fa24c24"
   },
   "outputs": [
    {
     "data": {
      "text/plain": [
       "array([[1., 1., 1., 1., 1.],\n",
       "       [1., 1., 1., 1., 1.],\n",
       "       [1., 1., 1., 1., 1.],\n",
       "       [1., 1., 1., 1., 1.],\n",
       "       [1., 1., 1., 1., 1.]])"
      ]
     },
     "execution_count": 10,
     "metadata": {},
     "output_type": "execute_result"
    }
   ],
   "source": [
    "# Criar  matriz array de 1\n",
    "np.ones((5,5))"
   ]
  },
  {
   "cell_type": "code",
   "execution_count": 11,
   "metadata": {
    "colab": {
     "base_uri": "https://localhost:8080/",
     "height": 85
    },
    "colab_type": "code",
    "executionInfo": {
     "elapsed": 1555,
     "status": "ok",
     "timestamp": 1577580782173,
     "user": {
      "displayName": "Luiz Octavio Fabricio dos Santos",
      "photoUrl": "",
      "userId": "04804636173627386154"
     },
     "user_tz": 240
    },
    "id": "wWWhugN0IoIN",
    "outputId": "09365309-b9a9-4ec7-9a0f-bd9da1673510"
   },
   "outputs": [
    {
     "data": {
      "text/plain": [
       "array([[1., 0., 0., 0.],\n",
       "       [0., 1., 0., 0.],\n",
       "       [0., 0., 1., 0.],\n",
       "       [0., 0., 0., 1.]])"
      ]
     },
     "execution_count": 11,
     "metadata": {},
     "output_type": "execute_result"
    }
   ],
   "source": [
    "# Matriz identidade\n",
    "np.eye(4)"
   ]
  },
  {
   "cell_type": "code",
   "execution_count": 12,
   "metadata": {
    "colab": {
     "base_uri": "https://localhost:8080/",
     "height": 34
    },
    "colab_type": "code",
    "executionInfo": {
     "elapsed": 1392,
     "status": "ok",
     "timestamp": 1577581032746,
     "user": {
      "displayName": "Luiz Octavio Fabricio dos Santos",
      "photoUrl": "",
      "userId": "04804636173627386154"
     },
     "user_tz": 240
    },
    "id": "9vndO0v5JFvu",
    "outputId": "71ca7fa9-b150-4b28-aa8e-69f83ce8378f"
   },
   "outputs": [
    {
     "data": {
      "text/plain": [
       "array([ 1.,  4.,  7., 10.])"
      ]
     },
     "execution_count": 12,
     "metadata": {},
     "output_type": "execute_result"
    }
   ],
   "source": [
    "# Linspace -> quantos numeros quero ver igualmente espaçado na minha serie\n",
    "np.linspace(1,10, 4)"
   ]
  },
  {
   "cell_type": "markdown",
   "metadata": {
    "colab_type": "text",
    "id": "3UAGlC_IP4yy"
   },
   "source": [
    "## **Criar valores aleatórios**"
   ]
  },
  {
   "cell_type": "code",
   "execution_count": 13,
   "metadata": {
    "colab": {
     "base_uri": "https://localhost:8080/",
     "height": 34
    },
    "colab_type": "code",
    "executionInfo": {
     "elapsed": 2911,
     "status": "ok",
     "timestamp": 1577581174474,
     "user": {
      "displayName": "Luiz Octavio Fabricio dos Santos",
      "photoUrl": "",
      "userId": "04804636173627386154"
     },
     "user_tz": 240
    },
    "id": "JxXiemuFKC8T",
    "outputId": "dd82cdd1-8066-4d48-b277-94cdb42d77e2"
   },
   "outputs": [
    {
     "data": {
      "text/plain": [
       "array([0.82212375, 0.737095  , 0.09039407, 0.43387026, 0.33121677])"
      ]
     },
     "execution_count": 13,
     "metadata": {},
     "output_type": "execute_result"
    }
   ],
   "source": [
    "# Valores aleatorios com distribuição uniforme\n",
    "np.random.rand(5)"
   ]
  },
  {
   "cell_type": "code",
   "execution_count": 14,
   "metadata": {
    "colab": {
     "base_uri": "https://localhost:8080/",
     "height": 102
    },
    "colab_type": "code",
    "executionInfo": {
     "elapsed": 1732,
     "status": "ok",
     "timestamp": 1577581272751,
     "user": {
      "displayName": "Luiz Octavio Fabricio dos Santos",
      "photoUrl": "",
      "userId": "04804636173627386154"
     },
     "user_tz": 240
    },
    "id": "YN9QCcxJKlLj",
    "outputId": "214aef9e-e4dc-48f5-839a-3522b94ac0a4"
   },
   "outputs": [
    {
     "data": {
      "text/plain": [
       "array([[0.81587828, 0.6978778 , 0.95537247, 0.21997703],\n",
       "       [0.47805042, 0.63826781, 0.20453153, 0.86783366],\n",
       "       [0.99398057, 0.50249541, 0.31184223, 0.99617466],\n",
       "       [0.45834816, 0.10924103, 0.34715939, 0.73328028],\n",
       "       [0.84808052, 0.1356629 , 0.0345845 , 0.92748967]])"
      ]
     },
     "execution_count": 14,
     "metadata": {},
     "output_type": "execute_result"
    }
   ],
   "source": [
    "# Valores aleatorios com distribuição uniforme (matriz)\n",
    "np.random.rand(5,4)"
   ]
  },
  {
   "cell_type": "code",
   "execution_count": 15,
   "metadata": {
    "colab": {
     "base_uri": "https://localhost:8080/",
     "height": 425
    },
    "colab_type": "code",
    "executionInfo": {
     "elapsed": 1104,
     "status": "ok",
     "timestamp": 1577581375771,
     "user": {
      "displayName": "Luiz Octavio Fabricio dos Santos",
      "photoUrl": "",
      "userId": "04804636173627386154"
     },
     "user_tz": 240
    },
    "id": "miCNk16nK7sj",
    "outputId": "3620c663-2fa0-4e8b-ab8f-96fae70f00d9"
   },
   "outputs": [
    {
     "data": {
      "text/plain": [
       "array([[[0.25768762, 0.96602541, 0.09610497],\n",
       "        [0.96730032, 0.13041722, 0.16045237],\n",
       "        [0.87929142, 0.55082197, 0.91774831],\n",
       "        [0.29893596, 0.61229011, 0.27953577]],\n",
       "\n",
       "       [[0.06710536, 0.71358291, 0.74048483],\n",
       "        [0.74075783, 0.23928516, 0.33248763],\n",
       "        [0.07806111, 0.65272573, 0.96185288],\n",
       "        [0.62343174, 0.65244119, 0.1571707 ]],\n",
       "\n",
       "       [[0.32370745, 0.89601838, 0.25559777],\n",
       "        [0.69050233, 0.89301085, 0.27022523],\n",
       "        [0.15301413, 0.21573654, 0.02305868],\n",
       "        [0.72003068, 0.56016841, 0.44380193]],\n",
       "\n",
       "       [[0.47732471, 0.56934499, 0.43497387],\n",
       "        [0.53819262, 0.46576407, 0.62726406],\n",
       "        [0.9934398 , 0.56499248, 0.62119704],\n",
       "        [0.94578447, 0.84871622, 0.43498431]],\n",
       "\n",
       "       [[0.90972952, 0.9481481 , 0.21586853],\n",
       "        [0.57052369, 0.09431423, 0.97481883],\n",
       "        [0.7056574 , 0.8071664 , 0.84668031],\n",
       "        [0.12068976, 0.0035941 , 0.98696965]]])"
      ]
     },
     "execution_count": 15,
     "metadata": {},
     "output_type": "execute_result"
    }
   ],
   "source": [
    "# Valores aleatorios com distribuição uniforme (matriz) Três dimensões \n",
    "np.random.rand(5,4, 3)"
   ]
  },
  {
   "cell_type": "code",
   "execution_count": 16,
   "metadata": {
    "colab": {
     "base_uri": "https://localhost:8080/",
     "height": 34
    },
    "colab_type": "code",
    "executionInfo": {
     "elapsed": 1034,
     "status": "ok",
     "timestamp": 1577581461320,
     "user": {
      "displayName": "Luiz Octavio Fabricio dos Santos",
      "photoUrl": "",
      "userId": "04804636173627386154"
     },
     "user_tz": 240
    },
    "id": "OmidUelTLAhz",
    "outputId": "3b97391c-c364-4a5b-ca01-37c89361d300"
   },
   "outputs": [
    {
     "data": {
      "text/plain": [
       "array([-0.77606862, -0.09365541,  1.26451762,  0.68498521, -0.25310664])"
      ]
     },
     "execution_count": 16,
     "metadata": {},
     "output_type": "execute_result"
    }
   ],
   "source": [
    "# Valores aleatorios com distribuição normal\n",
    "np.random.randn(5)"
   ]
  },
  {
   "cell_type": "code",
   "execution_count": 17,
   "metadata": {
    "colab": {
     "base_uri": "https://localhost:8080/",
     "height": 34
    },
    "colab_type": "code",
    "executionInfo": {
     "elapsed": 1071,
     "status": "ok",
     "timestamp": 1577581616341,
     "user": {
      "displayName": "Luiz Octavio Fabricio dos Santos",
      "photoUrl": "",
      "userId": "04804636173627386154"
     },
     "user_tz": 240
    },
    "id": "KQ5PfeINLrrT",
    "outputId": "f2ff7636-323b-4eb6-bcb5-0aa3a6c48e28"
   },
   "outputs": [
    {
     "data": {
      "text/plain": [
       "array([91,  3, 52,  4, 43,  2, 31, 97, 59, 14])"
      ]
     },
     "execution_count": 17,
     "metadata": {},
     "output_type": "execute_result"
    }
   ],
   "source": [
    "# Valores aleatorios inteiros\n",
    "np.random.randint(0,100,10)"
   ]
  },
  {
   "cell_type": "code",
   "execution_count": 18,
   "metadata": {
    "colab": {
     "base_uri": "https://localhost:8080/",
     "height": 102
    },
    "colab_type": "code",
    "executionInfo": {
     "elapsed": 1372,
     "status": "ok",
     "timestamp": 1577581733056,
     "user": {
      "displayName": "Luiz Octavio Fabricio dos Santos",
      "photoUrl": "",
      "userId": "04804636173627386154"
     },
     "user_tz": 240
    },
    "id": "4w-7RGS8MA2a",
    "outputId": "ad002e3c-e602-409b-a0f3-1db7bbca0e30"
   },
   "outputs": [
    {
     "data": {
      "text/plain": [
       "array([0.01991518, 0.38711789, 0.52826312, 0.14104464, 0.23350663,\n",
       "       0.55595542, 0.79543606, 0.32013219, 0.58575348, 0.61592142,\n",
       "       0.06602826, 0.82220123, 0.35812662, 0.53593144, 0.18943548,\n",
       "       0.54279509, 0.86551609, 0.95408549, 0.27401788, 0.60154935,\n",
       "       0.39356113, 0.04428716, 0.26414826, 0.65274828, 0.84292539])"
      ]
     },
     "execution_count": 18,
     "metadata": {},
     "output_type": "execute_result"
    }
   ],
   "source": [
    "# Criando um array (vetor) de 25 elementos\n",
    "arr = np.random.rand(25)\n",
    "arr"
   ]
  },
  {
   "cell_type": "markdown",
   "metadata": {
    "colab_type": "text",
    "id": "3kpOyOakQFdA"
   },
   "source": [
    "## **Alterar dimensoes do array**"
   ]
  },
  {
   "cell_type": "code",
   "execution_count": 19,
   "metadata": {
    "colab": {
     "base_uri": "https://localhost:8080/",
     "height": 102
    },
    "colab_type": "code",
    "executionInfo": {
     "elapsed": 1128,
     "status": "ok",
     "timestamp": 1577582098795,
     "user": {
      "displayName": "Luiz Octavio Fabricio dos Santos",
      "photoUrl": "",
      "userId": "04804636173627386154"
     },
     "user_tz": 240
    },
    "id": "96glnryAMtw5",
    "outputId": "2d1a3bd8-7051-48be-db77-79fe2d75fe5a"
   },
   "outputs": [
    {
     "data": {
      "text/plain": [
       "array([[0.01991518, 0.38711789, 0.52826312, 0.14104464, 0.23350663],\n",
       "       [0.55595542, 0.79543606, 0.32013219, 0.58575348, 0.61592142],\n",
       "       [0.06602826, 0.82220123, 0.35812662, 0.53593144, 0.18943548],\n",
       "       [0.54279509, 0.86551609, 0.95408549, 0.27401788, 0.60154935],\n",
       "       [0.39356113, 0.04428716, 0.26414826, 0.65274828, 0.84292539]])"
      ]
     },
     "execution_count": 19,
     "metadata": {},
     "output_type": "execute_result"
    }
   ],
   "source": [
    "# Reshape -> função para alterar o as dimensoes do array \n",
    "arr = arr.reshape((5,5))\n",
    "# o elemento agora foi alterado para uma matriz 5 x 5\n",
    "arr"
   ]
  },
  {
   "cell_type": "code",
   "execution_count": 20,
   "metadata": {
    "colab": {
     "base_uri": "https://localhost:8080/",
     "height": 34
    },
    "colab_type": "code",
    "executionInfo": {
     "elapsed": 1545,
     "status": "ok",
     "timestamp": 1577582178409,
     "user": {
      "displayName": "Luiz Octavio Fabricio dos Santos",
      "photoUrl": "",
      "userId": "04804636173627386154"
     },
     "user_tz": 240
    },
    "id": "SJkq8AJ9NLqC",
    "outputId": "073646ee-8957-42da-cabf-f939eecd3c3e"
   },
   "outputs": [
    {
     "data": {
      "text/plain": [
       "(5, 5)"
      ]
     },
     "execution_count": 20,
     "metadata": {},
     "output_type": "execute_result"
    }
   ],
   "source": [
    "# Verificar as dimensoes do meu array\n",
    "arr.shape"
   ]
  },
  {
   "cell_type": "markdown",
   "metadata": {
    "colab_type": "text",
    "id": "x4Y41G8YPkG1"
   },
   "source": [
    "## **Funções algébricas do Numpy**"
   ]
  },
  {
   "cell_type": "code",
   "execution_count": 21,
   "metadata": {
    "colab": {
     "base_uri": "https://localhost:8080/",
     "height": 34
    },
    "colab_type": "code",
    "executionInfo": {
     "elapsed": 1071,
     "status": "ok",
     "timestamp": 1577582229586,
     "user": {
      "displayName": "Luiz Octavio Fabricio dos Santos",
      "photoUrl": "",
      "userId": "04804636173627386154"
     },
     "user_tz": 240
    },
    "id": "Koi3hiPUOanS",
    "outputId": "5a66402b-c65e-420c-8f2b-87a3f3668928"
   },
   "outputs": [
    {
     "data": {
      "text/plain": [
       "0.9540854943647609"
      ]
     },
     "execution_count": 21,
     "metadata": {},
     "output_type": "execute_result"
    }
   ],
   "source": [
    "# Verificar o maior valor do array\n",
    "arr.max()"
   ]
  },
  {
   "cell_type": "code",
   "execution_count": 22,
   "metadata": {
    "colab": {
     "base_uri": "https://localhost:8080/",
     "height": 34
    },
    "colab_type": "code",
    "executionInfo": {
     "elapsed": 1552,
     "status": "ok",
     "timestamp": 1577582246805,
     "user": {
      "displayName": "Luiz Octavio Fabricio dos Santos",
      "photoUrl": "",
      "userId": "04804636173627386154"
     },
     "user_tz": 240
    },
    "id": "J0yrX3csOeut",
    "outputId": "4406131a-df21-4d9e-8c0b-cc32a6f4c744"
   },
   "outputs": [
    {
     "data": {
      "text/plain": [
       "0.019915177736993805"
      ]
     },
     "execution_count": 22,
     "metadata": {},
     "output_type": "execute_result"
    }
   ],
   "source": [
    "# Verificar o menor valor do array\n",
    "arr.min()"
   ]
  },
  {
   "cell_type": "code",
   "execution_count": 23,
   "metadata": {
    "colab": {
     "base_uri": "https://localhost:8080/",
     "height": 34
    },
    "colab_type": "code",
    "executionInfo": {
     "elapsed": 1284,
     "status": "ok",
     "timestamp": 1577582266770,
     "user": {
      "displayName": "Luiz Octavio Fabricio dos Santos",
      "photoUrl": "",
      "userId": "04804636173627386154"
     },
     "user_tz": 240
    },
    "id": "B6EzK-G_OrUs",
    "outputId": "99565232-0b6b-40cc-9bc3-ee8c8fd3fa1d"
   },
   "outputs": [
    {
     "data": {
      "text/plain": [
       "0.46361612747214065"
      ]
     },
     "execution_count": 23,
     "metadata": {},
     "output_type": "execute_result"
    }
   ],
   "source": [
    "# Verificar a média do array\n",
    "arr.mean()"
   ]
  },
  {
   "cell_type": "code",
   "execution_count": 24,
   "metadata": {},
   "outputs": [
    {
     "data": {
      "text/plain": [
       "array([[0.01991518, 0.38711789, 0.52826312, 0.14104464, 0.23350663],\n",
       "       [0.55595542, 0.79543606, 0.32013219, 0.58575348, 0.61592142],\n",
       "       [0.06602826, 0.82220123, 0.35812662, 0.53593144, 0.18943548],\n",
       "       [0.54279509, 0.86551609, 0.95408549, 0.27401788, 0.60154935],\n",
       "       [0.39356113, 0.04428716, 0.26414826, 0.65274828, 0.84292539]])"
      ]
     },
     "execution_count": 24,
     "metadata": {},
     "output_type": "execute_result"
    }
   ],
   "source": [
    "arr"
   ]
  },
  {
   "cell_type": "code",
   "execution_count": 25,
   "metadata": {
    "colab": {
     "base_uri": "https://localhost:8080/",
     "height": 34
    },
    "colab_type": "code",
    "executionInfo": {
     "elapsed": 996,
     "status": "ok",
     "timestamp": 1577582375082,
     "user": {
      "displayName": "Luiz Octavio Fabricio dos Santos",
      "photoUrl": "",
      "userId": "04804636173627386154"
     },
     "user_tz": 240
    },
    "id": "PgyGU3hMOwIt",
    "outputId": "881e731f-7bd2-4524-f136-55ff7e2f2201"
   },
   "outputs": [
    {
     "data": {
      "text/plain": [
       "17"
      ]
     },
     "execution_count": 25,
     "metadata": {},
     "output_type": "execute_result"
    }
   ],
   "source": [
    "# Retornar o indice no qual o maior elemento se encontra\n",
    "arr.argmax()"
   ]
  },
  {
   "cell_type": "code",
   "execution_count": 26,
   "metadata": {
    "colab": {
     "base_uri": "https://localhost:8080/",
     "height": 34
    },
    "colab_type": "code",
    "executionInfo": {
     "elapsed": 1414,
     "status": "ok",
     "timestamp": 1577582387064,
     "user": {
      "displayName": "Luiz Octavio Fabricio dos Santos",
      "photoUrl": "",
      "userId": "04804636173627386154"
     },
     "user_tz": 240
    },
    "id": "d7xQl1KBPKxN",
    "outputId": "6289610e-ead1-41c1-f85a-7a2489ff5fa8"
   },
   "outputs": [
    {
     "data": {
      "text/plain": [
       "0"
      ]
     },
     "execution_count": 26,
     "metadata": {},
     "output_type": "execute_result"
    }
   ],
   "source": [
    "# Retornar o indice no qual o menor elemento se encontra\n",
    "arr.argmin()"
   ]
  },
  {
   "cell_type": "markdown",
   "metadata": {
    "colab_type": "text",
    "id": "pRlHhZTqQXYB"
   },
   "source": [
    "## **Indexação e fatiamento de Arrays**"
   ]
  },
  {
   "cell_type": "markdown",
   "metadata": {},
   "source": [
    "<center><img src=https://fgnt.github.io/python_crashkurs_doc/_images/numpy_array_t.png width=750></center>\n",
    "\n",
    "\n",
    "Fonte: Documentação NumPy/Scipy"
   ]
  },
  {
   "cell_type": "markdown",
   "metadata": {},
   "source": [
    "<center><img src=https://www.oreilly.com/library/view/python-for-data/9781491957653/assets/pyda_0402.png width=400></center> "
   ]
  },
  {
   "cell_type": "markdown",
   "metadata": {},
   "source": [
    "Resumo sobre indexação.\n",
    "Percebam que os dois-pontos **``:``** separam os índices iniciais e finais de uma dimensão ou eixo, enquanto que a **``,``** separa as dimensões ou eixos."
   ]
  },
  {
   "cell_type": "markdown",
   "metadata": {},
   "source": [
    "    arr[indice_inicial_dim0:indice_final_dim0, indice_inicial_dim1:indice_final_dim1, ...]"
   ]
  },
  {
   "cell_type": "markdown",
   "metadata": {
    "colab_type": "text",
    "id": "AabMk_lzYFqZ"
   },
   "source": [
    "### **Array Unidimensional**"
   ]
  },
  {
   "cell_type": "code",
   "execution_count": 27,
   "metadata": {
    "colab": {
     "base_uri": "https://localhost:8080/",
     "height": 34
    },
    "colab_type": "code",
    "executionInfo": {
     "elapsed": 1111,
     "status": "ok",
     "timestamp": 1577584124467,
     "user": {
      "displayName": "Luiz Octavio Fabricio dos Santos",
      "photoUrl": "",
      "userId": "04804636173627386154"
     },
     "user_tz": 240
    },
    "id": "crx4tKiOPNmP",
    "outputId": "ec676141-d179-432a-bef9-04d6e3501428"
   },
   "outputs": [
    {
     "data": {
      "text/plain": [
       "array([ 0,  3,  6,  9, 12, 15, 18, 21, 24, 27])"
      ]
     },
     "execution_count": 27,
     "metadata": {},
     "output_type": "execute_result"
    }
   ],
   "source": [
    "# Criar um array de dados \n",
    "arr = np.arange(0, 30, 3)\n",
    "arr"
   ]
  },
  {
   "cell_type": "code",
   "execution_count": 28,
   "metadata": {
    "colab": {
     "base_uri": "https://localhost:8080/",
     "height": 34
    },
    "colab_type": "code",
    "executionInfo": {
     "elapsed": 2316,
     "status": "ok",
     "timestamp": 1577584257930,
     "user": {
      "displayName": "Luiz Octavio Fabricio dos Santos",
      "photoUrl": "",
      "userId": "04804636173627386154"
     },
     "user_tz": 240
    },
    "id": "fyRQP5D-V1gF",
    "outputId": "0f5eb17d-6d2d-4534-bf70-37dfa68ca57b"
   },
   "outputs": [
    {
     "data": {
      "text/plain": [
       "12"
      ]
     },
     "execution_count": 28,
     "metadata": {},
     "output_type": "execute_result"
    }
   ],
   "source": [
    "# Buscar valores do array por indices\n",
    "# A contagem dos indices iniciam a partir do 0\n",
    "arr[0] # primeiro indice\n",
    "arr[1] # segundo indice\n",
    "arr[4] # quinto indice"
   ]
  },
  {
   "cell_type": "code",
   "execution_count": 29,
   "metadata": {
    "colab": {
     "base_uri": "https://localhost:8080/",
     "height": 34
    },
    "colab_type": "code",
    "executionInfo": {
     "elapsed": 2256,
     "status": "ok",
     "timestamp": 1577584638070,
     "user": {
      "displayName": "Luiz Octavio Fabricio dos Santos",
      "photoUrl": "",
      "userId": "04804636173627386154"
     },
     "user_tz": 240
    },
    "id": "nMME6vVFWNEY",
    "outputId": "8e3aebe3-7b8c-41be-f1c2-cb8305df8e6d"
   },
   "outputs": [
    {
     "data": {
      "text/plain": [
       "array([ 0,  3,  6,  9, 12])"
      ]
     },
     "execution_count": 29,
     "metadata": {},
     "output_type": "execute_result"
    }
   ],
   "source": [
    "# Puxando multiplos elementos\n",
    "arr[2:] # a partir do segundo indice até o final\n",
    "arr[2:5] # a partir do segundo indice até o quarto\n",
    "arr[:] # todos os elementos\n",
    "arr[:5] # desde o inicio até o quarto indice"
   ]
  },
  {
   "cell_type": "markdown",
   "metadata": {
    "colab_type": "text",
    "id": "ZsUNr5HuYN3D"
   },
   "source": [
    "### **Array bidimensional**"
   ]
  },
  {
   "cell_type": "code",
   "execution_count": 30,
   "metadata": {
    "colab": {},
    "colab_type": "code",
    "id": "jwzqr_xyXGHS"
   },
   "outputs": [],
   "source": [
    "arr = np.arange(50).reshape((5,10))"
   ]
  },
  {
   "cell_type": "code",
   "execution_count": 31,
   "metadata": {
    "colab": {
     "base_uri": "https://localhost:8080/",
     "height": 102
    },
    "colab_type": "code",
    "executionInfo": {
     "elapsed": 2283,
     "status": "ok",
     "timestamp": 1577584838038,
     "user": {
      "displayName": "Luiz Octavio Fabricio dos Santos",
      "photoUrl": "",
      "userId": "04804636173627386154"
     },
     "user_tz": 240
    },
    "id": "eampEuBRYZjA",
    "outputId": "95242027-4b47-49b2-ba3e-5a9005935d9b"
   },
   "outputs": [
    {
     "data": {
      "text/plain": [
       "array([[ 0,  1,  2,  3,  4,  5,  6,  7,  8,  9],\n",
       "       [10, 11, 12, 13, 14, 15, 16, 17, 18, 19],\n",
       "       [20, 21, 22, 23, 24, 25, 26, 27, 28, 29],\n",
       "       [30, 31, 32, 33, 34, 35, 36, 37, 38, 39],\n",
       "       [40, 41, 42, 43, 44, 45, 46, 47, 48, 49]])"
      ]
     },
     "execution_count": 31,
     "metadata": {},
     "output_type": "execute_result"
    }
   ],
   "source": [
    "arr"
   ]
  },
  {
   "cell_type": "code",
   "execution_count": 32,
   "metadata": {
    "colab": {
     "base_uri": "https://localhost:8080/",
     "height": 34
    },
    "colab_type": "code",
    "executionInfo": {
     "elapsed": 1452,
     "status": "ok",
     "timestamp": 1577584934799,
     "user": {
      "displayName": "Luiz Octavio Fabricio dos Santos",
      "photoUrl": "",
      "userId": "04804636173627386154"
     },
     "user_tz": 240
    },
    "id": "xr-MS9caYkCS",
    "outputId": "a855e299-4c37-48dd-a78f-1078c37dda04"
   },
   "outputs": [
    {
     "data": {
      "text/plain": [
       "(5, 10)"
      ]
     },
     "execution_count": 32,
     "metadata": {},
     "output_type": "execute_result"
    }
   ],
   "source": [
    "arr.shape"
   ]
  },
  {
   "cell_type": "code",
   "execution_count": 33,
   "metadata": {
    "colab": {
     "base_uri": "https://localhost:8080/",
     "height": 68
    },
    "colab_type": "code",
    "executionInfo": {
     "elapsed": 1642,
     "status": "ok",
     "timestamp": 1577585557397,
     "user": {
      "displayName": "Luiz Octavio Fabricio dos Santos",
      "photoUrl": "",
      "userId": "04804636173627386154"
     },
     "user_tz": 240
    },
    "id": "BYgF2V_NY7Wv",
    "outputId": "3ffe3a08-275a-4b5c-bcb3-31a4fb814d9c"
   },
   "outputs": [
    {
     "data": {
      "text/plain": [
       "array([[ 0,  1,  2,  3,  4,  5,  6,  7,  8,  9],\n",
       "       [10, 11, 12, 13, 14, 15, 16, 17, 18, 19],\n",
       "       [20, 21, 22, 23, 24, 25, 26, 27, 28, 29]])"
      ]
     },
     "execution_count": 33,
     "metadata": {},
     "output_type": "execute_result"
    }
   ],
   "source": [
    "arr2 = arr[:3]\n",
    "arr2"
   ]
  },
  {
   "cell_type": "code",
   "execution_count": 34,
   "metadata": {
    "colab": {
     "base_uri": "https://localhost:8080/",
     "height": 102
    },
    "colab_type": "code",
    "executionInfo": {
     "elapsed": 1064,
     "status": "ok",
     "timestamp": 1577585559328,
     "user": {
      "displayName": "Luiz Octavio Fabricio dos Santos",
      "photoUrl": "",
      "userId": "04804636173627386154"
     },
     "user_tz": 240
    },
    "id": "MITYMkZJbTi1",
    "outputId": "50d13680-a473-49f2-a3f4-46a7156dbeb0"
   },
   "outputs": [
    {
     "data": {
      "text/plain": [
       "array([[ 0,  1,  2,  3,  4,  5,  6,  7,  8,  9],\n",
       "       [10, 11, 12, 13, 14, 15, 16, 17, 18, 19],\n",
       "       [20, 21, 22, 23, 24, 25, 26, 27, 28, 29],\n",
       "       [30, 31, 32, 33, 34, 35, 36, 37, 38, 39],\n",
       "       [40, 41, 42, 43, 44, 45, 46, 47, 48, 49]])"
      ]
     },
     "execution_count": 34,
     "metadata": {},
     "output_type": "execute_result"
    }
   ],
   "source": [
    "arr"
   ]
  },
  {
   "cell_type": "code",
   "execution_count": 35,
   "metadata": {
    "colab": {
     "base_uri": "https://localhost:8080/",
     "height": 51
    },
    "colab_type": "code",
    "executionInfo": {
     "elapsed": 1973,
     "status": "ok",
     "timestamp": 1577585601827,
     "user": {
      "displayName": "Luiz Octavio Fabricio dos Santos",
      "photoUrl": "",
      "userId": "04804636173627386154"
     },
     "user_tz": 240
    },
    "id": "pzh5nBwLZolQ",
    "outputId": "c05a12e1-4b19-423e-ebb7-49c9e5c6e11e"
   },
   "outputs": [
    {
     "data": {
      "text/plain": [
       "array([[ 0,  1,  2,  3,  4,  5],\n",
       "       [10, 11, 12, 13, 14, 15]])"
      ]
     },
     "execution_count": 35,
     "metadata": {},
     "output_type": "execute_result"
    }
   ],
   "source": [
    "arr[0:2,0:6] # (linha,coluna)"
   ]
  },
  {
   "cell_type": "markdown",
   "metadata": {},
   "source": [
    "## Array tridimensional"
   ]
  },
  {
   "cell_type": "code",
   "execution_count": 36,
   "metadata": {},
   "outputs": [
    {
     "data": {
      "text/plain": [
       "array([[[ 0,  1,  2,  3],\n",
       "        [ 4,  5,  6,  7]],\n",
       "\n",
       "       [[ 8,  9, 10, 11],\n",
       "        [12, 13, 14, 15]]])"
      ]
     },
     "execution_count": 36,
     "metadata": {},
     "output_type": "execute_result"
    }
   ],
   "source": [
    "arr = np.arange(16).reshape((2, 2, 4))\n",
    "arr"
   ]
  },
  {
   "cell_type": "code",
   "execution_count": 37,
   "metadata": {},
   "outputs": [
    {
     "data": {
      "text/plain": [
       "(2, 2, 4)"
      ]
     },
     "execution_count": 37,
     "metadata": {},
     "output_type": "execute_result"
    }
   ],
   "source": [
    "arr.shape"
   ]
  },
  {
   "cell_type": "code",
   "execution_count": 38,
   "metadata": {},
   "outputs": [
    {
     "data": {
      "text/plain": [
       "array([ 8,  9, 10, 11])"
      ]
     },
     "execution_count": 38,
     "metadata": {},
     "output_type": "execute_result"
    }
   ],
   "source": [
    "# Manipulando array com 3 dimensoes\n",
    "arr[1][0]"
   ]
  },
  {
   "cell_type": "markdown",
   "metadata": {
    "colab_type": "text",
    "id": "hbaK34ylclAp",
    "tags": []
   },
   "source": [
    "## **Operação com vetores e arrays numpy** "
   ]
  },
  {
   "cell_type": "code",
   "execution_count": 39,
   "metadata": {
    "colab": {
     "base_uri": "https://localhost:8080/",
     "height": 34
    },
    "colab_type": "code",
    "executionInfo": {
     "elapsed": 976,
     "status": "ok",
     "timestamp": 1577585997456,
     "user": {
      "displayName": "Luiz Octavio Fabricio dos Santos",
      "photoUrl": "",
      "userId": "04804636173627386154"
     },
     "user_tz": 240
    },
    "id": "jdz6HU-bbCXp",
    "outputId": "3b71f6e7-74b3-438c-a76f-26268da9e80c"
   },
   "outputs": [
    {
     "data": {
      "text/plain": [
       "array([ 0,  1,  2,  3,  4,  5,  6,  7,  8,  9, 10, 11, 12, 13, 14, 15])"
      ]
     },
     "execution_count": 39,
     "metadata": {},
     "output_type": "execute_result"
    }
   ],
   "source": [
    "# Criando um numpy array\n",
    "arr = np.arange(0,16)\n",
    "arr"
   ]
  },
  {
   "cell_type": "code",
   "execution_count": 40,
   "metadata": {
    "colab": {
     "base_uri": "https://localhost:8080/",
     "height": 34
    },
    "colab_type": "code",
    "executionInfo": {
     "elapsed": 1537,
     "status": "ok",
     "timestamp": 1577586068346,
     "user": {
      "displayName": "Luiz Octavio Fabricio dos Santos",
      "photoUrl": "",
      "userId": "04804636173627386154"
     },
     "user_tz": 240
    },
    "id": "dHdSipkec_Cd",
    "outputId": "865c28a4-1a50-4597-c3a0-de0f115872bd"
   },
   "outputs": [
    {
     "data": {
      "text/plain": [
       "array([ 0,  2,  4,  6,  8, 10, 12, 14, 16, 18, 20, 22, 24, 26, 28, 30])"
      ]
     },
     "execution_count": 40,
     "metadata": {},
     "output_type": "execute_result"
    }
   ],
   "source": [
    "# Soma de arrays\n",
    "arr + arr"
   ]
  },
  {
   "cell_type": "code",
   "execution_count": 41,
   "metadata": {
    "colab": {
     "base_uri": "https://localhost:8080/",
     "height": 34
    },
    "colab_type": "code",
    "executionInfo": {
     "elapsed": 1157,
     "status": "ok",
     "timestamp": 1577586180921,
     "user": {
      "displayName": "Luiz Octavio Fabricio dos Santos",
      "photoUrl": "",
      "userId": "04804636173627386154"
     },
     "user_tz": 240
    },
    "id": "Q0EZaR80dP-F",
    "outputId": "73c18d8e-9c15-468c-d49f-8b2568810565"
   },
   "outputs": [
    {
     "data": {
      "text/plain": [
       "array([0, 0, 0, 0, 0, 0, 0, 0, 0, 0, 0, 0, 0, 0, 0, 0])"
      ]
     },
     "execution_count": 41,
     "metadata": {},
     "output_type": "execute_result"
    }
   ],
   "source": [
    "# Subtração de arrays\n",
    "arr - arr"
   ]
  },
  {
   "cell_type": "code",
   "execution_count": 42,
   "metadata": {
    "colab": {
     "base_uri": "https://localhost:8080/",
     "height": 51
    },
    "colab_type": "code",
    "executionInfo": {
     "elapsed": 699,
     "status": "ok",
     "timestamp": 1577586196009,
     "user": {
      "displayName": "Luiz Octavio Fabricio dos Santos",
      "photoUrl": "",
      "userId": "04804636173627386154"
     },
     "user_tz": 240
    },
    "id": "Xf1bZbYCdT0s",
    "outputId": "8523ce36-6992-4cbc-db26-36c1799f580c"
   },
   "outputs": [
    {
     "data": {
      "text/plain": [
       "array([  0,   1,   4,   9,  16,  25,  36,  49,  64,  81, 100, 121, 144,\n",
       "       169, 196, 225])"
      ]
     },
     "execution_count": 42,
     "metadata": {},
     "output_type": "execute_result"
    }
   ],
   "source": [
    "# Multiplicação de arrays\n",
    "arr * arr"
   ]
  },
  {
   "cell_type": "code",
   "execution_count": 43,
   "metadata": {
    "colab": {
     "base_uri": "https://localhost:8080/",
     "height": 85
    },
    "colab_type": "code",
    "executionInfo": {
     "elapsed": 1282,
     "status": "ok",
     "timestamp": 1577586216602,
     "user": {
      "displayName": "Luiz Octavio Fabricio dos Santos",
      "photoUrl": "",
      "userId": "04804636173627386154"
     },
     "user_tz": 240
    },
    "id": "lY5k9wm0dvp8",
    "outputId": "222b915e-16ea-47a3-bf9c-63c5a39d3154"
   },
   "outputs": [
    {
     "name": "stderr",
     "output_type": "stream",
     "text": [
      "C:\\Users\\Luiz\\Anaconda3\\envs\\maps\\lib\\site-packages\\ipykernel_launcher.py:2: RuntimeWarning: invalid value encountered in true_divide\n",
      "  \n"
     ]
    },
    {
     "data": {
      "text/plain": [
       "array([nan,  1.,  1.,  1.,  1.,  1.,  1.,  1.,  1.,  1.,  1.,  1.,  1.,\n",
       "        1.,  1.,  1.])"
      ]
     },
     "execution_count": 43,
     "metadata": {},
     "output_type": "execute_result"
    }
   ],
   "source": [
    "# Divisão de arrays\n",
    "arr/arr"
   ]
  },
  {
   "cell_type": "code",
   "execution_count": 44,
   "metadata": {
    "colab": {
     "base_uri": "https://localhost:8080/",
     "height": 51
    },
    "colab_type": "code",
    "executionInfo": {
     "elapsed": 1495,
     "status": "ok",
     "timestamp": 1577586325292,
     "user": {
      "displayName": "Luiz Octavio Fabricio dos Santos",
      "photoUrl": "",
      "userId": "04804636173627386154"
     },
     "user_tz": 240
    },
    "id": "ItkKU0tYd0k0",
    "outputId": "8f89034b-e4a6-4845-b7a2-32f19069442d"
   },
   "outputs": [
    {
     "data": {
      "text/plain": [
       "array([   0,    1,    8,   27,   64,  125,  216,  343,  512,  729, 1000,\n",
       "       1331, 1728, 2197, 2744, 3375], dtype=int32)"
      ]
     },
     "execution_count": 44,
     "metadata": {},
     "output_type": "execute_result"
    }
   ],
   "source": [
    "## Exponenciação de arrays\n",
    "arr **3"
   ]
  },
  {
   "cell_type": "code",
   "execution_count": 45,
   "metadata": {
    "colab": {
     "base_uri": "https://localhost:8080/",
     "height": 51
    },
    "colab_type": "code",
    "executionInfo": {
     "elapsed": 1495,
     "status": "ok",
     "timestamp": 1577586435335,
     "user": {
      "displayName": "Luiz Octavio Fabricio dos Santos",
      "photoUrl": "",
      "userId": "04804636173627386154"
     },
     "user_tz": 240
    },
    "id": "nAIKLnWjePDr",
    "outputId": "510cac68-019c-4579-b3f9-b2f3dc9092aa"
   },
   "outputs": [
    {
     "data": {
      "text/plain": [
       "array([0.  , 0.01, 0.02, 0.03, 0.04, 0.05, 0.06, 0.07, 0.08, 0.09, 0.1 ,\n",
       "       0.11, 0.12, 0.13, 0.14, 0.15])"
      ]
     },
     "execution_count": 45,
     "metadata": {},
     "output_type": "execute_result"
    }
   ],
   "source": [
    "# Operações com escalares\n",
    "arr + 273.15\n",
    "arr - 100\n",
    "arr * 100\n",
    "arr /100"
   ]
  },
  {
   "cell_type": "code",
   "execution_count": 46,
   "metadata": {
    "colab": {
     "base_uri": "https://localhost:8080/",
     "height": 85
    },
    "colab_type": "code",
    "executionInfo": {
     "elapsed": 639,
     "status": "ok",
     "timestamp": 1577586527573,
     "user": {
      "displayName": "Luiz Octavio Fabricio dos Santos",
      "photoUrl": "",
      "userId": "04804636173627386154"
     },
     "user_tz": 240
    },
    "id": "RT9RtURneasL",
    "outputId": "bf120463-5027-460e-c201-f6bf2ac6219a"
   },
   "outputs": [
    {
     "data": {
      "text/plain": [
       "array([0.        , 1.        , 1.41421356, 1.73205081, 2.        ,\n",
       "       2.23606798, 2.44948974, 2.64575131, 2.82842712, 3.        ,\n",
       "       3.16227766, 3.31662479, 3.46410162, 3.60555128, 3.74165739,\n",
       "       3.87298335])"
      ]
     },
     "execution_count": 46,
     "metadata": {},
     "output_type": "execute_result"
    }
   ],
   "source": [
    "# Raiz quadrada de arrays\n",
    "np.sqrt(arr)"
   ]
  },
  {
   "cell_type": "code",
   "execution_count": 47,
   "metadata": {
    "colab": {
     "base_uri": "https://localhost:8080/",
     "height": 34
    },
    "colab_type": "code",
    "executionInfo": {
     "elapsed": 1108,
     "status": "ok",
     "timestamp": 1577586601035,
     "user": {
      "displayName": "Luiz Octavio Fabricio dos Santos",
      "photoUrl": "",
      "userId": "04804636173627386154"
     },
     "user_tz": 240
    },
    "id": "wMNLBIeDfAnH",
    "outputId": "e1a66578-9f0d-4384-dd31-c0787fbf3c46"
   },
   "outputs": [
    {
     "data": {
      "text/plain": [
       "7.5"
      ]
     },
     "execution_count": 47,
     "metadata": {},
     "output_type": "execute_result"
    }
   ],
   "source": [
    "# Media de arrays\n",
    "np.mean(arr)"
   ]
  },
  {
   "cell_type": "code",
   "execution_count": 48,
   "metadata": {
    "colab": {
     "base_uri": "https://localhost:8080/",
     "height": 34
    },
    "colab_type": "code",
    "executionInfo": {
     "elapsed": 890,
     "status": "ok",
     "timestamp": 1577586634586,
     "user": {
      "displayName": "Luiz Octavio Fabricio dos Santos",
      "photoUrl": "",
      "userId": "04804636173627386154"
     },
     "user_tz": 240
    },
    "id": "WFtWOTKifSd0",
    "outputId": "519d62db-6c87-4453-c7fe-746c94efa43f"
   },
   "outputs": [
    {
     "data": {
      "text/plain": [
       "4.6097722286464435"
      ]
     },
     "execution_count": 48,
     "metadata": {},
     "output_type": "execute_result"
    }
   ],
   "source": [
    "# Desvio padrão de arrays\n",
    "np.std(arr)"
   ]
  },
  {
   "cell_type": "code",
   "execution_count": 49,
   "metadata": {
    "colab": {
     "base_uri": "https://localhost:8080/",
     "height": 34
    },
    "colab_type": "code",
    "executionInfo": {
     "elapsed": 1086,
     "status": "ok",
     "timestamp": 1577586704601,
     "user": {
      "displayName": "Luiz Octavio Fabricio dos Santos",
      "photoUrl": "",
      "userId": "04804636173627386154"
     },
     "user_tz": 240
    },
    "id": "9jP1-Tkhfatj",
    "outputId": "68ac4a88-c973-4539-c1b6-8a768acff652"
   },
   "outputs": [
    {
     "data": {
      "text/plain": [
       "0"
      ]
     },
     "execution_count": 49,
     "metadata": {},
     "output_type": "execute_result"
    }
   ],
   "source": [
    "# Outra forma de ver o maximo e o minimo dos arrays\n",
    "np.max(arr)\n",
    "np.min(arr)"
   ]
  },
  {
   "cell_type": "markdown",
   "metadata": {
    "colab_type": "text",
    "id": "3UR7yA6rhKEU"
   },
   "source": [
    "Especificar axis em alguns parametros \n",
    "\n",
    "axis = 0 -> significa a operação matematica nas linhas\n",
    "\n",
    "axis = 1 -> significa a opeção matematica nas colunas"
   ]
  },
  {
   "cell_type": "code",
   "execution_count": 50,
   "metadata": {
    "colab": {
     "base_uri": "https://localhost:8080/",
     "height": 34
    },
    "colab_type": "code",
    "executionInfo": {
     "elapsed": 1291,
     "status": "ok",
     "timestamp": 1577587273435,
     "user": {
      "displayName": "Luiz Octavio Fabricio dos Santos",
      "photoUrl": "",
      "userId": "04804636173627386154"
     },
     "user_tz": 240
    },
    "id": "GVuMz8YWfphT",
    "outputId": "6ea169dd-556e-44e1-f3f6-db969dd05bf3"
   },
   "outputs": [
    {
     "data": {
      "text/plain": [
       "array([ 0,  1,  2,  3,  4,  5,  6,  7,  8,  9, 10, 11, 12, 13, 14, 15])"
      ]
     },
     "execution_count": 50,
     "metadata": {},
     "output_type": "execute_result"
    }
   ],
   "source": [
    "arr\n",
    "#arr.astype('int')"
   ]
  },
  {
   "cell_type": "code",
   "execution_count": 51,
   "metadata": {
    "colab": {},
    "colab_type": "code",
    "id": "pA6j66N-hz8s"
   },
   "outputs": [],
   "source": [
    "minha_lista = [1.5,5.2,1.7,9.7]\n",
    "minha_lista = np.array(minha_lista)"
   ]
  },
  {
   "cell_type": "code",
   "execution_count": 52,
   "metadata": {
    "colab": {
     "base_uri": "https://localhost:8080/",
     "height": 34
    },
    "colab_type": "code",
    "executionInfo": {
     "elapsed": 1046,
     "status": "ok",
     "timestamp": 1577587434434,
     "user": {
      "displayName": "Luiz Octavio Fabricio dos Santos",
      "photoUrl": "",
      "userId": "04804636173627386154"
     },
     "user_tz": 240
    },
    "id": "qBitItE9iHMC",
    "outputId": "d4912557-45b2-4fae-a5d9-b57740e7fcf1"
   },
   "outputs": [
    {
     "data": {
      "text/plain": [
       "array([1.5, 5.2, 1.7, 9.7])"
      ]
     },
     "execution_count": 52,
     "metadata": {},
     "output_type": "execute_result"
    }
   ],
   "source": [
    "minha_lista"
   ]
  },
  {
   "cell_type": "code",
   "execution_count": 53,
   "metadata": {
    "colab": {
     "base_uri": "https://localhost:8080/",
     "height": 34
    },
    "colab_type": "code",
    "executionInfo": {
     "elapsed": 1123,
     "status": "ok",
     "timestamp": 1577587444205,
     "user": {
      "displayName": "Luiz Octavio Fabricio dos Santos",
      "photoUrl": "",
      "userId": "04804636173627386154"
     },
     "user_tz": 240
    },
    "id": "yeVLbzWvid86",
    "outputId": "0f4f21fb-6764-4a38-9094-14c9a037cbce"
   },
   "outputs": [
    {
     "data": {
      "text/plain": [
       "dtype('float64')"
      ]
     },
     "execution_count": 53,
     "metadata": {},
     "output_type": "execute_result"
    }
   ],
   "source": [
    "# Verificar o tipo de variavel \n",
    "minha_lista.dtype"
   ]
  },
  {
   "cell_type": "code",
   "execution_count": 54,
   "metadata": {
    "colab": {
     "base_uri": "https://localhost:8080/",
     "height": 34
    },
    "colab_type": "code",
    "executionInfo": {
     "elapsed": 2247,
     "status": "ok",
     "timestamp": 1577587366209,
     "user": {
      "displayName": "Luiz Octavio Fabricio dos Santos",
      "photoUrl": "",
      "userId": "04804636173627386154"
     },
     "user_tz": 240
    },
    "id": "76D_Q6DaiIZC",
    "outputId": "4b2385b2-63de-43c4-cf23-67419d8790f8"
   },
   "outputs": [
    {
     "data": {
      "text/plain": [
       "array([1, 5, 1, 9])"
      ]
     },
     "execution_count": 54,
     "metadata": {},
     "output_type": "execute_result"
    }
   ],
   "source": [
    "# Método para alterar formato da variavel \n",
    "# float64 para int\n",
    "minha_lista.astype('int')"
   ]
  },
  {
   "cell_type": "code",
   "execution_count": 55,
   "metadata": {},
   "outputs": [
    {
     "data": {
      "text/plain": [
       "array([ 1,  3, -5,  9,  4])"
      ]
     },
     "execution_count": 55,
     "metadata": {},
     "output_type": "execute_result"
    }
   ],
   "source": [
    "# Podemos transformar qualquer tipo de dado, sabendo que...\n",
    "arr = np.array([1.4, 3.6, -5.1, 9.42, 4.999999])\n",
    "\n",
    "# ... quando transformamos de float para int... \n",
    "arr.astype(np.int32)\n",
    "\n",
    "# ... as casas decimais serão simplesmente ignoradas! E não se trata de arredondamento, e sim\n",
    "# truncamento! As casa decimais serão ELIMINADAS! Atente-se!\n",
    "arr.astype(np.int32)"
   ]
  },
  {
   "cell_type": "markdown",
   "metadata": {},
   "source": [
    "Podemos alterar entre formatos não-numéricos também."
   ]
  },
  {
   "cell_type": "code",
   "execution_count": 56,
   "metadata": {},
   "outputs": [
    {
     "data": {
      "text/plain": [
       "array([1., 2., 3., 4.])"
      ]
     },
     "execution_count": 56,
     "metadata": {},
     "output_type": "execute_result"
    }
   ],
   "source": [
    "# Vamos criar um array com string que representam números...\n",
    "numeric_str = np.array(['1', '2', '3', '4'])\n",
    "\n",
    "# ... e agora transformá-lo para o tipo de dado desejado\n",
    "numeric_str.astype(float)"
   ]
  },
  {
   "cell_type": "markdown",
   "metadata": {},
   "source": [
    "### Filtrar ou Atribuir valores diante de determinadas condições (booleanos e arrays) "
   ]
  },
  {
   "cell_type": "code",
   "execution_count": 57,
   "metadata": {},
   "outputs": [],
   "source": [
    "# Criando um array \n",
    "numeros = np.random.randn(7, 4)"
   ]
  },
  {
   "cell_type": "code",
   "execution_count": 58,
   "metadata": {},
   "outputs": [
    {
     "data": {
      "text/plain": [
       "array([[ 0.24163389, -0.23243331,  0.06638442, -0.94194753],\n",
       "       [-0.53898343,  1.57487942, -0.19037591,  2.9158519 ],\n",
       "       [ 1.23165632, -0.20456682, -0.21023797,  0.39836398],\n",
       "       [-0.09777964, -0.29446222,  0.89383311, -0.2492154 ],\n",
       "       [ 0.01231812, -0.69914615, -0.1077351 ,  1.31283985],\n",
       "       [-0.81360825,  0.51229788, -0.67158437, -1.21916914],\n",
       "       [-1.24083179, -1.69944975,  0.38682   , -0.15919375]])"
      ]
     },
     "execution_count": 58,
     "metadata": {},
     "output_type": "execute_result"
    }
   ],
   "source": [
    "numeros"
   ]
  },
  {
   "cell_type": "markdown",
   "metadata": {},
   "source": [
    "* **Podemos combinar os numpy arrays com os operados de comparação**"
   ]
  },
  {
   "cell_type": "code",
   "execution_count": 59,
   "metadata": {},
   "outputs": [
    {
     "data": {
      "text/plain": [
       "array([[ True, False, False, False],\n",
       "       [False,  True, False,  True],\n",
       "       [ True, False, False,  True],\n",
       "       [False, False,  True, False],\n",
       "       [False, False, False,  True],\n",
       "       [False,  True, False, False],\n",
       "       [False, False,  True, False]])"
      ]
     },
     "execution_count": 59,
     "metadata": {},
     "output_type": "execute_result"
    }
   ],
   "source": [
    "numeros > 0.2"
   ]
  },
  {
   "cell_type": "markdown",
   "metadata": {},
   "source": [
    "Podemos inverter um array booleano ou negar uma condição com o símbolo **``~``** ."
   ]
  },
  {
   "cell_type": "code",
   "execution_count": 60,
   "metadata": {},
   "outputs": [
    {
     "data": {
      "text/plain": [
       "array([[False,  True,  True,  True],\n",
       "       [ True, False,  True, False],\n",
       "       [False,  True,  True, False],\n",
       "       [ True,  True, False,  True],\n",
       "       [ True,  True,  True, False],\n",
       "       [ True, False,  True,  True],\n",
       "       [ True,  True, False,  True]])"
      ]
     },
     "execution_count": 60,
     "metadata": {},
     "output_type": "execute_result"
    }
   ],
   "source": [
    "~(numeros > 0.2)"
   ]
  },
  {
   "cell_type": "code",
   "execution_count": 61,
   "metadata": {},
   "outputs": [
    {
     "data": {
      "text/plain": [
       "array([[ True,  True,  True,  True],\n",
       "       [ True,  True,  True,  True],\n",
       "       [ True,  True,  True,  True],\n",
       "       [ True,  True,  True,  True],\n",
       "       [ True,  True,  True,  True],\n",
       "       [ True,  True,  True,  True],\n",
       "       [ True,  True,  True,  True]])"
      ]
     },
     "execution_count": 61,
     "metadata": {},
     "output_type": "execute_result"
    }
   ],
   "source": [
    "numeros != 0 "
   ]
  },
  {
   "cell_type": "markdown",
   "metadata": {},
   "source": [
    "* **Para associarmos várias condições, podemos utilizar os operadores aritméticos booleanos **``&``** (E) e **``|``** (OU).**"
   ]
  },
  {
   "cell_type": "code",
   "execution_count": 62,
   "metadata": {},
   "outputs": [
    {
     "data": {
      "text/plain": [
       "array([[False, False, False, False],\n",
       "       [False, False, False, False],\n",
       "       [ True, False, False, False],\n",
       "       [False, False,  True, False],\n",
       "       [False, False, False,  True],\n",
       "       [False,  True, False, False],\n",
       "       [False, False, False, False]])"
      ]
     },
     "execution_count": 62,
     "metadata": {},
     "output_type": "execute_result"
    }
   ],
   "source": [
    "((numeros > 0.5) & (numeros < 1.5))"
   ]
  },
  {
   "cell_type": "code",
   "execution_count": 63,
   "metadata": {},
   "outputs": [
    {
     "data": {
      "text/plain": [
       "array([[0.24163389, 0.        , 0.06638442, 0.        ],\n",
       "       [0.        , 1.57487942, 0.        , 2.9158519 ],\n",
       "       [1.23165632, 0.        , 0.        , 0.39836398],\n",
       "       [0.        , 0.        , 0.89383311, 0.        ],\n",
       "       [0.01231812, 0.        , 0.        , 1.31283985],\n",
       "       [0.        , 0.51229788, 0.        , 0.        ],\n",
       "       [0.        , 0.        , 0.38682   , 0.        ]])"
      ]
     },
     "execution_count": 63,
     "metadata": {},
     "output_type": "execute_result"
    }
   ],
   "source": [
    "# Para substituirmos todos os valores de um array menores que zero por zero\n",
    "numeros[numeros < 0] = 0\n",
    "numeros"
   ]
  },
  {
   "cell_type": "code",
   "execution_count": 64,
   "metadata": {},
   "outputs": [
    {
     "data": {
      "text/plain": [
       "array([[5.        , 0.        , 0.06638442, 0.        ],\n",
       "       [0.        , 1.57487942, 0.        , 2.9158519 ],\n",
       "       [1.23165632, 0.        , 0.        , 5.        ],\n",
       "       [0.        , 0.        , 0.89383311, 0.        ],\n",
       "       [0.01231812, 0.        , 0.        , 1.31283985],\n",
       "       [0.        , 0.51229788, 0.        , 0.        ],\n",
       "       [0.        , 0.        , 5.        , 0.        ]])"
      ]
     },
     "execution_count": 64,
     "metadata": {},
     "output_type": "execute_result"
    }
   ],
   "source": [
    "# Exemplo de uso para o operador & para duas ou mais condicoes\n",
    "numeros[(numeros < 0.5) & (numeros > 0.1)] = 5\n",
    "numeros "
   ]
  },
  {
   "cell_type": "markdown",
   "metadata": {},
   "source": [
    "## Expressões lógicas condicionais com arrays"
   ]
  },
  {
   "cell_type": "code",
   "execution_count": 65,
   "metadata": {},
   "outputs": [
    {
     "data": {
      "text/plain": [
       "array([[ 0.05558176,  0.06911294,  0.21364669, -0.36229423],\n",
       "       [-0.47728409,  1.74326769, -0.81326552, -0.04877153],\n",
       "       [-1.08000015,  0.70756687,  0.4433576 , -0.05520615],\n",
       "       [ 0.66481297, -0.48667879, -0.71193874, -0.43683843]])"
      ]
     },
     "execution_count": 65,
     "metadata": {},
     "output_type": "execute_result"
    }
   ],
   "source": [
    "arr = np.random.randn(4, 4)\n",
    "arr"
   ]
  },
  {
   "cell_type": "code",
   "execution_count": 66,
   "metadata": {},
   "outputs": [
    {
     "data": {
      "text/plain": [
       "array([[ True,  True,  True, False],\n",
       "       [False,  True, False, False],\n",
       "       [False,  True,  True, False],\n",
       "       [ True, False, False, False]])"
      ]
     },
     "execution_count": 66,
     "metadata": {},
     "output_type": "execute_result"
    }
   ],
   "source": [
    "# Vamos criar um array booleano para usar como nossa condição\n",
    "arr > 0"
   ]
  },
  {
   "cell_type": "code",
   "execution_count": 67,
   "metadata": {},
   "outputs": [
    {
     "data": {
      "text/plain": [
       "array([[ 1,  1,  1, -1],\n",
       "       [-1,  1, -1, -1],\n",
       "       [-1,  1,  1, -1],\n",
       "       [ 1, -1, -1, -1]])"
      ]
     },
     "execution_count": 67,
     "metadata": {},
     "output_type": "execute_result"
    }
   ],
   "source": [
    "# Aqui, onde a condição for satisfeita, substituímos o valor por 1, caso não for satisfeita, inserimos -1\n",
    "np.where(arr > 0, 1, -1)"
   ]
  },
  {
   "cell_type": "code",
   "execution_count": 68,
   "metadata": {},
   "outputs": [
    {
     "data": {
      "text/plain": [
       "array([[10.        , 10.        , 10.        , -0.36229423],\n",
       "       [-0.47728409, 10.        , -0.81326552, -0.04877153],\n",
       "       [-1.08000015, 10.        , 10.        , -0.05520615],\n",
       "       [10.        , -0.48667879, -0.71193874, -0.43683843]])"
      ]
     },
     "execution_count": 68,
     "metadata": {},
     "output_type": "execute_result"
    }
   ],
   "source": [
    "# Neste outro exemplo, vamos substituir os valores positivos por 10 e manter os valores negativos\n",
    "np.where(arr > 0, 10, arr)"
   ]
  },
  {
   "cell_type": "markdown",
   "metadata": {},
   "source": [
    "## Dicas\n",
    "Para mais dicas e modo de uso do numpy acesse: https://acervolima.com/python-numpy-exercicios-praticos-perguntas-e-solucoes/"
   ]
  }
 ],
 "metadata": {
  "colab": {
   "collapsed_sections": [],
   "name": "Aula Numpy.ipynb",
   "provenance": []
  },
  "kernelspec": {
   "display_name": "Python 3",
   "language": "python",
   "name": "python3"
  },
  "language_info": {
   "codemirror_mode": {
    "name": "ipython",
    "version": 3
   },
   "file_extension": ".py",
   "mimetype": "text/x-python",
   "name": "python",
   "nbconvert_exporter": "python",
   "pygments_lexer": "ipython3",
   "version": "3.7.12"
  },
  "toc": {
   "base_numbering": 1,
   "nav_menu": {},
   "number_sections": true,
   "sideBar": true,
   "skip_h1_title": false,
   "title_cell": "Table of Contents",
   "title_sidebar": "Contents",
   "toc_cell": false,
   "toc_position": {},
   "toc_section_display": true,
   "toc_window_display": true
  },
  "varInspector": {
   "cols": {
    "lenName": 16,
    "lenType": 16,
    "lenVar": 40
   },
   "kernels_config": {
    "python": {
     "delete_cmd_postfix": "",
     "delete_cmd_prefix": "del ",
     "library": "var_list.py",
     "varRefreshCmd": "print(var_dic_list())"
    },
    "r": {
     "delete_cmd_postfix": ") ",
     "delete_cmd_prefix": "rm(",
     "library": "var_list.r",
     "varRefreshCmd": "cat(var_dic_list()) "
    }
   },
   "types_to_exclude": [
    "module",
    "function",
    "builtin_function_or_method",
    "instance",
    "_Feature"
   ],
   "window_display": false
  }
 },
 "nbformat": 4,
 "nbformat_minor": 4
}
